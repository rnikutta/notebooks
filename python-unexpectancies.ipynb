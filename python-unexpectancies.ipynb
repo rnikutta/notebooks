{
 "metadata": {
  "name": ""
 },
 "nbformat": 3,
 "nbformat_minor": 0,
 "worksheets": [
  {
   "cells": [
    {
     "cell_type": "markdown",
     "metadata": {},
     "source": [
      "# Python unexpectancies"
     ]
    },
    {
     "cell_type": "markdown",
     "metadata": {},
     "source": [
      "A notebook with examples of Python pitfalls (both rookie mistakes and properly unpleasant surprises)"
     ]
    },
    {
     "cell_type": "markdown",
     "metadata": {},
     "source": [
      "## A nasty numpy bug (with float64)"
     ]
    },
    {
     "cell_type": "markdown",
     "metadata": {},
     "source": [
      "Numpy currently has a nasty little bug that can bite you when using float64. I wanted to store 'ragged' float64 arrays in HDF5 files (using the excellent [h5py](http://www.h5py.org/) module). Like this:"
     ]
    },
    {
     "cell_type": "code",
     "collapsed": false,
     "input": [
      "import h5py\n",
      "import numpy as N\n",
      "print \"Numpy version:\", N.__version__\n",
      "\n",
      "def write_ragged(handle,name,li,dt):\n",
      "    n = len(li)\n",
      "    dset = handle.create_dataset(name,(n,),dtype=dt)\n",
      "    for j in xrange(n):\n",
      "        dset[j] = li[j]\n",
      "        \n",
      "    return 0\n",
      "\n",
      "# list of 1D arrays to represent a variable-length array (\"ragged array\")\n",
      "inp = [N.array([1,2]),N.array([1,2,3]),N.array([1,2,3,4,5])]\n",
      "\n",
      "hout = h5py.File('out.hdf5','w')                    # open HDF5 file for writing\n",
      "df32 = h5py.special_dtype(vlen=N.dtype('float32'))  # float32 dtype to store ragged arrays in HDF5\n",
      "write_ragged(hout,'foo32',inp,df32)                 # write the ragged array"
     ],
     "language": "python",
     "metadata": {},
     "outputs": [
      {
       "output_type": "stream",
       "stream": "stdout",
       "text": [
        "Numpy version: 1.8.2\n"
       ]
      },
      {
       "metadata": {},
       "output_type": "pyout",
       "prompt_number": 1,
       "text": [
        "0"
       ]
      }
     ],
     "prompt_number": 1
    },
    {
     "cell_type": "markdown",
     "metadata": {},
     "source": [
      "Works fine. Now with float64 ragged array (e.g. because we need the increased accuracy):"
     ]
    },
    {
     "cell_type": "code",
     "collapsed": false,
     "input": [
      "df64 = h5py.special_dtype(vlen=N.dtype('float64'))  # float64 dtype to store ragged arrays in HDF5\n",
      "write_ragged(hout,'foo_64',inp,df64)"
     ],
     "language": "python",
     "metadata": {},
     "outputs": [
      {
       "ename": "AttributeError",
       "evalue": "'int' object has no attribute 'dtype'",
       "output_type": "pyerr",
       "traceback": [
        "\u001b[0;31m---------------------------------------------------------------------------\u001b[0m\n\u001b[0;31mAttributeError\u001b[0m                            Traceback (most recent call last)",
        "\u001b[0;32m<ipython-input-2-251f33463ed0>\u001b[0m in \u001b[0;36m<module>\u001b[0;34m()\u001b[0m\n\u001b[1;32m      1\u001b[0m \u001b[0mdf64\u001b[0m \u001b[0;34m=\u001b[0m \u001b[0mh5py\u001b[0m\u001b[0;34m.\u001b[0m\u001b[0mspecial_dtype\u001b[0m\u001b[0;34m(\u001b[0m\u001b[0mvlen\u001b[0m\u001b[0;34m=\u001b[0m\u001b[0mN\u001b[0m\u001b[0;34m.\u001b[0m\u001b[0mdtype\u001b[0m\u001b[0;34m(\u001b[0m\u001b[0;34m'float64'\u001b[0m\u001b[0;34m)\u001b[0m\u001b[0;34m)\u001b[0m  \u001b[0;31m# float64 dtype to store ragged arrays in HDF5\u001b[0m\u001b[0;34m\u001b[0m\u001b[0m\n\u001b[0;32m----> 2\u001b[0;31m \u001b[0mwrite_ragged\u001b[0m\u001b[0;34m(\u001b[0m\u001b[0mhout\u001b[0m\u001b[0;34m,\u001b[0m\u001b[0;34m'foo_64'\u001b[0m\u001b[0;34m,\u001b[0m\u001b[0minp\u001b[0m\u001b[0;34m,\u001b[0m\u001b[0mdf64\u001b[0m\u001b[0;34m)\u001b[0m\u001b[0;34m\u001b[0m\u001b[0m\n\u001b[0m",
        "\u001b[0;32m<ipython-input-1-93c47721c205>\u001b[0m in \u001b[0;36mwrite_ragged\u001b[0;34m(handle, name, li, dt)\u001b[0m\n\u001b[1;32m      7\u001b[0m     \u001b[0mdset\u001b[0m \u001b[0;34m=\u001b[0m \u001b[0mhandle\u001b[0m\u001b[0;34m.\u001b[0m\u001b[0mcreate_dataset\u001b[0m\u001b[0;34m(\u001b[0m\u001b[0mname\u001b[0m\u001b[0;34m,\u001b[0m\u001b[0;34m(\u001b[0m\u001b[0mn\u001b[0m\u001b[0;34m,\u001b[0m\u001b[0;34m)\u001b[0m\u001b[0;34m,\u001b[0m\u001b[0mdtype\u001b[0m\u001b[0;34m=\u001b[0m\u001b[0mdt\u001b[0m\u001b[0;34m)\u001b[0m\u001b[0;34m\u001b[0m\u001b[0m\n\u001b[1;32m      8\u001b[0m     \u001b[0;32mfor\u001b[0m \u001b[0mj\u001b[0m \u001b[0;32min\u001b[0m \u001b[0mxrange\u001b[0m\u001b[0;34m(\u001b[0m\u001b[0mn\u001b[0m\u001b[0;34m)\u001b[0m\u001b[0;34m:\u001b[0m\u001b[0;34m\u001b[0m\u001b[0m\n\u001b[0;32m----> 9\u001b[0;31m         \u001b[0mdset\u001b[0m\u001b[0;34m[\u001b[0m\u001b[0mj\u001b[0m\u001b[0;34m]\u001b[0m \u001b[0;34m=\u001b[0m \u001b[0mli\u001b[0m\u001b[0;34m[\u001b[0m\u001b[0mj\u001b[0m\u001b[0;34m]\u001b[0m\u001b[0;34m\u001b[0m\u001b[0m\n\u001b[0m\u001b[1;32m     10\u001b[0m \u001b[0;34m\u001b[0m\u001b[0m\n\u001b[1;32m     11\u001b[0m     \u001b[0;32mreturn\u001b[0m \u001b[0;36m0\u001b[0m\u001b[0;34m\u001b[0m\u001b[0m\n",
        "\u001b[0;32m/home/robert/.python-eggs/h5py-2.4.0-py2.7-linux-x86_64.egg-tmp/h5py/_objects.so\u001b[0m in \u001b[0;36mh5py._objects.with_phil.wrapper (/home/robert/src/h5py-2.4.0/h5py/_objects.c:2508)\u001b[0;34m()\u001b[0m\n",
        "\u001b[0;32m/home/robert/.python-eggs/h5py-2.4.0-py2.7-linux-x86_64.egg-tmp/h5py/_objects.so\u001b[0m in \u001b[0;36mh5py._objects.with_phil.wrapper (/home/robert/src/h5py-2.4.0/h5py/_objects.c:2461)\u001b[0;34m()\u001b[0m\n",
        "\u001b[0;32m/usr/local/lib/python2.7/dist-packages/h5py-2.4.0-py2.7-linux-x86_64.egg/h5py/_hl/dataset.pyc\u001b[0m in \u001b[0;36m__setitem__\u001b[0;34m(self, args, val)\u001b[0m\n\u001b[1;32m    600\u001b[0m         \u001b[0mmspace\u001b[0m \u001b[0;34m=\u001b[0m \u001b[0mh5s\u001b[0m\u001b[0;34m.\u001b[0m\u001b[0mcreate_simple\u001b[0m\u001b[0;34m(\u001b[0m\u001b[0mmshape_pad\u001b[0m\u001b[0;34m,\u001b[0m \u001b[0;34m(\u001b[0m\u001b[0mh5s\u001b[0m\u001b[0;34m.\u001b[0m\u001b[0mUNLIMITED\u001b[0m\u001b[0;34m,\u001b[0m\u001b[0;34m)\u001b[0m\u001b[0;34m*\u001b[0m\u001b[0mlen\u001b[0m\u001b[0;34m(\u001b[0m\u001b[0mmshape_pad\u001b[0m\u001b[0;34m)\u001b[0m\u001b[0;34m)\u001b[0m\u001b[0;34m\u001b[0m\u001b[0m\n\u001b[1;32m    601\u001b[0m         \u001b[0;32mfor\u001b[0m \u001b[0mfspace\u001b[0m \u001b[0;32min\u001b[0m \u001b[0mselection\u001b[0m\u001b[0;34m.\u001b[0m\u001b[0mbroadcast\u001b[0m\u001b[0;34m(\u001b[0m\u001b[0mmshape\u001b[0m\u001b[0;34m)\u001b[0m\u001b[0;34m:\u001b[0m\u001b[0;34m\u001b[0m\u001b[0m\n\u001b[0;32m--> 602\u001b[0;31m             \u001b[0mself\u001b[0m\u001b[0;34m.\u001b[0m\u001b[0mid\u001b[0m\u001b[0;34m.\u001b[0m\u001b[0mwrite\u001b[0m\u001b[0;34m(\u001b[0m\u001b[0mmspace\u001b[0m\u001b[0;34m,\u001b[0m \u001b[0mfspace\u001b[0m\u001b[0;34m,\u001b[0m \u001b[0mval\u001b[0m\u001b[0;34m,\u001b[0m \u001b[0mmtype\u001b[0m\u001b[0;34m)\u001b[0m\u001b[0;34m\u001b[0m\u001b[0m\n\u001b[0m\u001b[1;32m    603\u001b[0m \u001b[0;34m\u001b[0m\u001b[0m\n\u001b[1;32m    604\u001b[0m     \u001b[0;32mdef\u001b[0m \u001b[0mread_direct\u001b[0m\u001b[0;34m(\u001b[0m\u001b[0mself\u001b[0m\u001b[0;34m,\u001b[0m \u001b[0mdest\u001b[0m\u001b[0;34m,\u001b[0m \u001b[0msource_sel\u001b[0m\u001b[0;34m=\u001b[0m\u001b[0mNone\u001b[0m\u001b[0;34m,\u001b[0m \u001b[0mdest_sel\u001b[0m\u001b[0;34m=\u001b[0m\u001b[0mNone\u001b[0m\u001b[0;34m)\u001b[0m\u001b[0;34m:\u001b[0m\u001b[0;34m\u001b[0m\u001b[0m\n",
        "\u001b[0;32m/home/robert/.python-eggs/h5py-2.4.0-py2.7-linux-x86_64.egg-tmp/h5py/_objects.so\u001b[0m in \u001b[0;36mh5py._objects.with_phil.wrapper (/home/robert/src/h5py-2.4.0/h5py/_objects.c:2508)\u001b[0;34m()\u001b[0m\n",
        "\u001b[0;32m/home/robert/.python-eggs/h5py-2.4.0-py2.7-linux-x86_64.egg-tmp/h5py/_objects.so\u001b[0m in \u001b[0;36mh5py._objects.with_phil.wrapper (/home/robert/src/h5py-2.4.0/h5py/_objects.c:2461)\u001b[0;34m()\u001b[0m\n",
        "\u001b[0;32m/home/robert/.python-eggs/h5py-2.4.0-py2.7-linux-x86_64.egg-tmp/h5py/h5d.so\u001b[0m in \u001b[0;36mh5py.h5d.DatasetID.write (/home/robert/src/h5py-2.4.0/h5py/h5d.c:3282)\u001b[0;34m()\u001b[0m\n",
        "\u001b[0;32m/home/robert/.python-eggs/h5py-2.4.0-py2.7-linux-x86_64.egg-tmp/h5py/_proxy.so\u001b[0m in \u001b[0;36mh5py._proxy.dset_rw (/home/robert/src/h5py-2.4.0/h5py/_proxy.c:1983)\u001b[0;34m()\u001b[0m\n",
        "\u001b[0;32m/home/robert/.python-eggs/h5py-2.4.0-py2.7-linux-x86_64.egg-tmp/h5py/defs.so\u001b[0m in \u001b[0;36mh5py.defs.H5Tconvert (/home/robert/src/h5py-2.4.0/h5py/defs.c:25587)\u001b[0;34m()\u001b[0m\n",
        "\u001b[0;32m/home/robert/.python-eggs/h5py-2.4.0-py2.7-linux-x86_64.egg-tmp/h5py/_conv.so\u001b[0m in \u001b[0;36mh5py._conv.ndarray2vlen (/home/robert/src/h5py-2.4.0/h5py/_conv.c:5694)\u001b[0;34m()\u001b[0m\n",
        "\u001b[0;31mAttributeError\u001b[0m: 'int' object has no attribute 'dtype'"
       ]
      }
     ],
     "prompt_number": 2
    },
    {
     "cell_type": "markdown",
     "metadata": {},
     "source": [
      "This fails, and the reason is a [bug 2190](https://github.com/numpy/numpy/issues/2190) in Numpy, also tracked as [bug 433](https://github.com/h5py/h5py/issues/433) in h5py. A simple test reveals the culprit:"
     ]
    },
    {
     "cell_type": "code",
     "collapsed": false,
     "input": [
      "for f in [16,32,64,128]:\n",
      "    s = 'float%d' % f\n",
      "    print \"%s == None :\" % s, (N.dtype(s) == None)"
     ],
     "language": "python",
     "metadata": {},
     "outputs": [
      {
       "output_type": "stream",
       "stream": "stdout",
       "text": [
        "float16 == None : False\n",
        "float32 == None : False\n",
        "float64 == None : True\n",
        "float128 == None : False\n"
       ]
      }
     ],
     "prompt_number": 3
    },
    {
     "cell_type": "markdown",
     "metadata": {},
     "source": [
      "Unfortunately, if you need the accuracy, going to float128 is not an option, because h5py does not support it.\n",
      "\n",
      "To store ragged arrays as float64, I ended up implementing a small wrapper (PadArray](https://github.com/rnikutta/padarray), which makes the ragged array rectangular by padding it with a padval. The wrapper can take either a ragged array as input or a padded version of it, and converts transparently one into the other. You can then access either the ragged or the padded version of it:"
     ]
    },
    {
     "cell_type": "code",
     "collapsed": false,
     "input": [
      "class PadArray:\n",
      "\n",
      "    \"\"\"Class for padding a ragged array.\n",
      "\n",
      "    This is limited to the simple case of a list of 1-d arrays of\n",
      "    variable lengths; convert them through padding into a 2-d array of\n",
      "    shape (len(list),max([e.size for e in list])). The values of all\n",
      "    1-d arrays are written left-bounded into the rows of the array,\n",
      "    with their right-hand sides padded with padval (default: nan) up\n",
      "    until the max length of all of the 1-d arrays.\n",
      "\n",
      "    The other direction also works, i.e. providing a 2-d array and\n",
      "    returning a list of 1-d arrays, with the specified padval removed\n",
      "    from them.\n",
      "\n",
      "    Parameters:\n",
      "    -----------\n",
      "    inp : seq\n",
      "        List or tuple of 1-d arrays of numbers (or things that are\n",
      "        float()-able.\n",
      "\n",
      "    padval : {float, nan}\n",
      "        Pad value to be used. Default is nan. The value can be\n",
      "        anything that can be converted by float(), e.g. '3', or 1e7,\n",
      "        etc.\n",
      "\n",
      "    Example:\n",
      "    --------\n",
      "    # pad a list of 1-d arrays\n",
      "    inp = [array([1,2]),array([1,2,3]),array([1,2,3,4,5])]\n",
      "    pa = PadArray(inp)\n",
      "    pa.unpad\n",
      "      Out:   [array([1,2]),array([1,2,3]),array([1,2,3,4,5])]\n",
      "    pa.pad\n",
      "      Out:  array([[  1.,   2.,  nan,  nan,  nan],\n",
      "                   [  1.,   2.,   3.,  nan,  nan],\n",
      "                   [  1.,   2.,   3.,   4.,   5.]])\n",
      "\n",
      "    # unpad a 2-d array\n",
      "    inp = array( [1.,2.,-1.,-1.,-1.],\n",
      "                 [1.,2.,3., -1.,-1.],\n",
      "                 [1.,2.,3.,  4., 5.] )\n",
      "    pa = PadArray(inp,padval=-1)\n",
      "    pa.pad\n",
      "      Out:  array( [1.,2.,-1.,-1.,-1.],\n",
      "                   [1.,2.,3., -1.,-1.],\n",
      "                   [1.,2.,3.,  4., 5.] )\n",
      "    pa.unpad\n",
      "      Out:  [array([ 1.,  2.]), array([ 1.,  2.,  3.]), array([ 1.,  2.,  3.,  4.,  5.])]\n",
      "\n",
      "    \"\"\"\n",
      "\n",
      "    def __init__(self,inp,padval=N.nan):\n",
      "\n",
      "        self.inp = inp\n",
      "        self.padval = padval\n",
      "        self._setup()\n",
      "        self._convert()\n",
      "\n",
      "\n",
      "    def _setup(self):\n",
      "\n",
      "        try:\n",
      "            self.padval = float(self.padval)\n",
      "        except ValueError:\n",
      "            raise Exception, \"padval is not convertible to a floating-point number.\"\n",
      "\n",
      "        if isinstance(self.inp,(list,tuple)):\n",
      "            # TODO: check if all members of inp can be safely converted to 1-d numerical arrays\n",
      "            self.inpmode = 'unpadded'\n",
      "            self.unpad = self.inp\n",
      "            self.nrow = len(self.unpad)\n",
      "            self.ncol = max([e.size for e in self.unpad])\n",
      "\n",
      "        elif isinstance(self.inp,(N.ndarray)):\n",
      "            if self.inp.ndim == 2:\n",
      "                self.inpmode = 'padded'\n",
      "                self.pad = self.inp\n",
      "                self.nrow, self.ncol = self.inp.shape\n",
      "            else:\n",
      "                raise Exception, \"input appears to be an array, but is not 2-d.\"\n",
      "\n",
      "        else:\n",
      "            raise Exception, \"input is neither a sequence of 1-d arrays, nor a 2-d array.\"\n",
      "\n",
      "\n",
      "    def _convert(self):\n",
      "\n",
      "        if self.inpmode == 'unpadded':\n",
      "            self._pad()\n",
      "        elif self.inpmode == 'padded':\n",
      "            self._unpad()\n",
      "\n",
      "\n",
      "    def _pad(self):\n",
      "\n",
      "        self.pad = N.ones((self.nrow,self.ncol))*self.padval\n",
      "\n",
      "        for j,e in enumerate(self.unpad):\n",
      "            self.pad[j,:e.size] = e\n",
      "\n",
      "\n",
      "    def _unpad(self):\n",
      "\n",
      "        self.unpad = []\n",
      "\n",
      "        for j in xrange(self.nrow):\n",
      "            aux = self.pad[j,:]\n",
      "\n",
      "            if N.isnan(self.padval):\n",
      "                aux = aux[~N.isnan(aux)]\n",
      "            else:\n",
      "                aux = aux[aux!=self.padval]\n",
      "                \n",
      "            self.unpad.append(aux)"
     ],
     "language": "python",
     "metadata": {},
     "outputs": [],
     "prompt_number": 4
    },
    {
     "cell_type": "markdown",
     "metadata": {},
     "source": [
      "Wrap/pad a ragged array:"
     ]
    },
    {
     "cell_type": "code",
     "collapsed": false,
     "input": [
      "foo = PadArray(inp)   # pads with nans by default\n",
      "print \"foo.unpad:\\n\", foo.unpad  # the original\n",
      "print \"foo.pad:\\n\", foo.pad      # the (nan-)padded version"
     ],
     "language": "python",
     "metadata": {},
     "outputs": [
      {
       "output_type": "stream",
       "stream": "stdout",
       "text": [
        "foo.unpad:\n",
        "[array([1, 2]), array([1, 2, 3]), array([1, 2, 3, 4, 5])]\n",
        "foo.pad:\n",
        "[[  1.   2.  nan  nan  nan]\n",
        " [  1.   2.   3.  nan  nan]\n",
        " [  1.   2.   3.   4.   5.]]\n"
       ]
      }
     ],
     "prompt_number": 5
    },
    {
     "cell_type": "markdown",
     "metadata": {},
     "source": [
      "Store the padded version to HDF5:"
     ]
    },
    {
     "cell_type": "code",
     "collapsed": false,
     "input": [
      "dset = hout.create_dataset('pad64',data=foo.pad,dtype='float64')\n",
      "hout.items()"
     ],
     "language": "python",
     "metadata": {},
     "outputs": [
      {
       "metadata": {},
       "output_type": "pyout",
       "prompt_number": 6,
       "text": [
        "[(u'foo32', <HDF5 dataset \"foo32\": shape (3,), type \"|O8\">),\n",
        " (u'foo_64', <HDF5 dataset \"foo_64\": shape (3,), type \"|O8\">),\n",
        " (u'pad64', <HDF5 dataset \"pad64\": shape (3, 5), type \"<f8\">)]"
       ]
      }
     ],
     "prompt_number": 6
    },
    {
     "cell_type": "markdown",
     "metadata": {},
     "source": [
      "pad64 is now stored as a 3-5 rectangular array (3 elements, 5 is the longest of them). Inspect 'pad64' in the HDF5 file:"
     ]
    },
    {
     "cell_type": "code",
     "collapsed": false,
     "input": [
      "hout['pad64'][...]"
     ],
     "language": "python",
     "metadata": {},
     "outputs": [
      {
       "metadata": {},
       "output_type": "pyout",
       "prompt_number": 7,
       "text": [
        "array([[  1.,   2.,  nan,  nan,  nan],\n",
        "       [  1.,   2.,   3.,  nan,  nan],\n",
        "       [  1.,   2.,   3.,   4.,   5.]])"
       ]
      }
     ],
     "prompt_number": 7
    },
    {
     "cell_type": "markdown",
     "metadata": {},
     "source": [
      "PadArray of course also works in reverse, i.e. it can take a padded array and return the ragged version:"
     ]
    },
    {
     "cell_type": "code",
     "collapsed": false,
     "input": [
      "bar = PadArray(hout['pad64'][...])\n",
      "print \"bar.pad:\\n\", bar.pad      # the padded version stored in the HDF5 file\n",
      "print \"bar.unpad:\\n\", bar.unpad  # the ragged version"
     ],
     "language": "python",
     "metadata": {},
     "outputs": [
      {
       "output_type": "stream",
       "stream": "stdout",
       "text": [
        "bar.pad:\n",
        "[[  1.   2.  nan  nan  nan]\n",
        " [  1.   2.   3.  nan  nan]\n",
        " [  1.   2.   3.   4.   5.]]\n",
        "bar.unpad:\n",
        "[array([ 1.,  2.]), array([ 1.,  2.,  3.]), array([ 1.,  2.,  3.,  4.,  5.])]\n"
       ]
      }
     ],
     "prompt_number": 8
    },
    {
     "cell_type": "markdown",
     "metadata": {},
     "source": [
      "Finally, you can pad with something other than nan:"
     ]
    },
    {
     "cell_type": "code",
     "collapsed": false,
     "input": [
      "baz = PadArray(inp,padval=-1)\n",
      "print \"baz.unpad:\\n\", baz.unpad\n",
      "print \"baz.pad:\\n\", baz.pad"
     ],
     "language": "python",
     "metadata": {},
     "outputs": [
      {
       "output_type": "stream",
       "stream": "stdout",
       "text": [
        "baz.unpad:\n",
        "[array([1, 2]), array([1, 2, 3]), array([1, 2, 3, 4, 5])]\n",
        "baz.pad:\n",
        "[[ 1.  2. -1. -1. -1.]\n",
        " [ 1.  2.  3. -1. -1.]\n",
        " [ 1.  2.  3.  4.  5.]]\n"
       ]
      }
     ],
     "prompt_number": 9
    },
    {
     "cell_type": "markdown",
     "metadata": {},
     "source": [
      "Clean up:"
     ]
    },
    {
     "cell_type": "code",
     "collapsed": false,
     "input": [
      "hout.close()"
     ],
     "language": "python",
     "metadata": {},
     "outputs": [],
     "prompt_number": 10
    },
    {
     "cell_type": "markdown",
     "metadata": {},
     "source": [
      "## The identity operator `is`"
     ]
    },
    {
     "cell_type": "markdown",
     "metadata": {},
     "source": [
      "Consider this:"
     ]
    },
    {
     "cell_type": "code",
     "collapsed": false,
     "input": [
      "a = 256; b = 256\n",
      "a is b"
     ],
     "language": "python",
     "metadata": {},
     "outputs": [
      {
       "metadata": {},
       "output_type": "pyout",
       "prompt_number": 11,
       "text": [
        "True"
       ]
      }
     ],
     "prompt_number": 11
    },
    {
     "cell_type": "markdown",
     "metadata": {},
     "source": [
      "So far so good. But then:"
     ]
    },
    {
     "cell_type": "code",
     "collapsed": false,
     "input": [
      "a = 257; b = 257\n",
      "a is b"
     ],
     "language": "python",
     "metadata": {},
     "outputs": [
      {
       "metadata": {},
       "output_type": "pyout",
       "prompt_number": 12,
       "text": [
        "False"
       ]
      }
     ],
     "prompt_number": 12
    },
    {
     "cell_type": "markdown",
     "metadata": {},
     "source": [
      "**Careful!** Python's identity operator `is` compares object identity, not their value. Only if two names refer to the same item in memory, `is` evaluates to `True`. As it happens, Python keeps a funny / stupid list of integers between -5 and +256 in memory, and for these integers always returns a reference. For other values this is not guaranteed... Read this bit: [https://docs.python.org/2/c-api/int.html](https://docs.python.org/2/c-api/int.html)\n",
      "\n",
      "**Lesson learnt:** always use the `==` operator if you want to compare by value. `is` is for instance good for comparing things to [built-in constants](https://docs.python.org/2/library/constants.html)"
     ]
    },
    {
     "cell_type": "code",
     "collapsed": false,
     "input": [
      "c, d = None, True\n",
      "(c is None, d is None, c is True, d is True)"
     ],
     "language": "python",
     "metadata": {},
     "outputs": [
      {
       "metadata": {},
       "output_type": "pyout",
       "prompt_number": 13,
       "text": [
        "(True, False, False, True)"
       ]
      }
     ],
     "prompt_number": 13
    },
    {
     "cell_type": "markdown",
     "metadata": {},
     "source": [
      "## References are not copies"
     ]
    },
    {
     "cell_type": "markdown",
     "metadata": {},
     "source": [
      "Consider this"
     ]
    },
    {
     "cell_type": "code",
     "collapsed": false,
     "input": [
      "list1 = ['a','b','c'] # set up a list\n",
      "list2 = list1         # set up another; are list1 and list2 separate objects?\n",
      "print list1\n",
      "print list2"
     ],
     "language": "python",
     "metadata": {},
     "outputs": [
      {
       "output_type": "stream",
       "stream": "stdout",
       "text": [
        "['a', 'b', 'c']\n",
        "['a', 'b', 'c']\n"
       ]
      }
     ],
     "prompt_number": 14
    },
    {
     "cell_type": "markdown",
     "metadata": {},
     "source": [
      "They look the same. Let's change one element in `list1`"
     ]
    },
    {
     "cell_type": "code",
     "collapsed": false,
     "input": [
      "list1[1] = 'x'\n",
      "print list1"
     ],
     "language": "python",
     "metadata": {},
     "outputs": [
      {
       "output_type": "stream",
       "stream": "stdout",
       "text": [
        "['a', 'x', 'c']\n"
       ]
      }
     ],
     "prompt_number": 15
    },
    {
     "cell_type": "markdown",
     "metadata": {},
     "source": [
      "As expected. Observe what happened to `list2` at the same time:"
     ]
    },
    {
     "cell_type": "code",
     "collapsed": false,
     "input": [
      "print list2"
     ],
     "language": "python",
     "metadata": {},
     "outputs": [
      {
       "output_type": "stream",
       "stream": "stdout",
       "text": [
        "['a', 'x', 'c']\n"
       ]
      }
     ],
     "prompt_number": 16
    },
    {
     "cell_type": "markdown",
     "metadata": {},
     "source": [
      "By saying `list1 = list2` above, both lists refer to the same piece of memory. They are not distinct objects!\n",
      "To make them distinct, an explicit copy of the values is necessary when creating `list2`:"
     ]
    },
    {
     "cell_type": "code",
     "collapsed": false,
     "input": [
      "list2 = list1[:]\n",
      "print list1\n",
      "print list2"
     ],
     "language": "python",
     "metadata": {},
     "outputs": [
      {
       "output_type": "stream",
       "stream": "stdout",
       "text": [
        "['a', 'x', 'c']\n",
        "['a', 'x', 'c']\n"
       ]
      }
     ],
     "prompt_number": 17
    },
    {
     "cell_type": "markdown",
     "metadata": {},
     "source": [
      "Now they still look identical, but if we change one element in `list2`..."
     ]
    },
    {
     "cell_type": "code",
     "collapsed": false,
     "input": [
      "list1[1] = 'y'\n",
      "print list1\n",
      "print list2"
     ],
     "language": "python",
     "metadata": {},
     "outputs": [
      {
       "output_type": "stream",
       "stream": "stdout",
       "text": [
        "['a', 'y', 'c']\n",
        "['a', 'x', 'c']\n"
       ]
      }
     ],
     "prompt_number": 18
    },
    {
     "cell_type": "markdown",
     "metadata": {},
     "source": [
      "... then `list2` is not affected, b/c both lists now point to entirely different places in memory.\n",
      "\n",
      "####The same does not apply for single-value variables:"
     ]
    },
    {
     "cell_type": "code",
     "collapsed": false,
     "input": [
      "a = 3\n",
      "b = a\n",
      "print a,b"
     ],
     "language": "python",
     "metadata": {},
     "outputs": [
      {
       "output_type": "stream",
       "stream": "stdout",
       "text": [
        "3 3\n"
       ]
      }
     ],
     "prompt_number": 19
    },
    {
     "cell_type": "code",
     "collapsed": false,
     "input": [
      "b = 7\n",
      "print a,b"
     ],
     "language": "python",
     "metadata": {},
     "outputs": [
      {
       "output_type": "stream",
       "stream": "stdout",
       "text": [
        "3 7\n"
       ]
      }
     ],
     "prompt_number": 20
    },
    {
     "cell_type": "markdown",
     "metadata": {},
     "source": [
      "####But it does apply to arrays:"
     ]
    },
    {
     "cell_type": "code",
     "collapsed": false,
     "input": [
      "from numpy import arange\n",
      "a = arange(6).reshape(2,3)\n",
      "b = a\n",
      "print a\n",
      "print b"
     ],
     "language": "python",
     "metadata": {},
     "outputs": [
      {
       "output_type": "stream",
       "stream": "stdout",
       "text": [
        "[[0 1 2]\n",
        " [3 4 5]]\n",
        "[[0 1 2]\n",
        " [3 4 5]]\n"
       ]
      }
     ],
     "prompt_number": 21
    },
    {
     "cell_type": "code",
     "collapsed": false,
     "input": [
      "b[0:2,0:2] = -123\n",
      "print b"
     ],
     "language": "python",
     "metadata": {},
     "outputs": [
      {
       "output_type": "stream",
       "stream": "stdout",
       "text": [
        "[[-123 -123    2]\n",
        " [-123 -123    5]]\n"
       ]
      }
     ],
     "prompt_number": 22
    },
    {
     "cell_type": "code",
     "collapsed": false,
     "input": [
      "print a"
     ],
     "language": "python",
     "metadata": {},
     "outputs": [
      {
       "output_type": "stream",
       "stream": "stdout",
       "text": [
        "[[-123 -123    2]\n",
        " [-123 -123    5]]\n"
       ]
      }
     ],
     "prompt_number": 23
    },
    {
     "cell_type": "markdown",
     "metadata": {},
     "source": [
      "To make arrays same by value, but distinct in memory, make an explicit copy:"
     ]
    },
    {
     "cell_type": "code",
     "collapsed": false,
     "input": [
      "a = arange(6).reshape(2,3)\n",
      "b = a.copy()\n",
      "print a\n",
      "print b"
     ],
     "language": "python",
     "metadata": {},
     "outputs": [
      {
       "output_type": "stream",
       "stream": "stdout",
       "text": [
        "[[0 1 2]\n",
        " [3 4 5]]\n",
        "[[0 1 2]\n",
        " [3 4 5]]\n"
       ]
      }
     ],
     "prompt_number": 24
    },
    {
     "cell_type": "markdown",
     "metadata": {},
     "source": [
      "Now change `b`"
     ]
    },
    {
     "cell_type": "code",
     "collapsed": false,
     "input": [
      "b[0:2,0:2] = -123\n",
      "print a\n",
      "print b"
     ],
     "language": "python",
     "metadata": {},
     "outputs": [
      {
       "output_type": "stream",
       "stream": "stdout",
       "text": [
        "[[0 1 2]\n",
        " [3 4 5]]\n",
        "[[-123 -123    2]\n",
        " [-123 -123    5]]\n"
       ]
      }
     ],
     "prompt_number": 25
    },
    {
     "cell_type": "markdown",
     "metadata": {},
     "source": [
      "`a` was not touched.\n",
      "Careful with array slicing:"
     ]
    },
    {
     "cell_type": "code",
     "collapsed": false,
     "input": [
      "a = arange(6).reshape(2,3)\n",
      "b = a[:,:]   # is this slicing a copy?\n",
      "print a\n",
      "print b"
     ],
     "language": "python",
     "metadata": {},
     "outputs": [
      {
       "output_type": "stream",
       "stream": "stdout",
       "text": [
        "[[0 1 2]\n",
        " [3 4 5]]\n",
        "[[0 1 2]\n",
        " [3 4 5]]\n"
       ]
      }
     ],
     "prompt_number": 26
    },
    {
     "cell_type": "code",
     "collapsed": false,
     "input": [
      "b[0:2,0:2] = -123\n",
      "print a\n",
      "print b"
     ],
     "language": "python",
     "metadata": {},
     "outputs": [
      {
       "output_type": "stream",
       "stream": "stdout",
       "text": [
        "[[-123 -123    2]\n",
        " [-123 -123    5]]\n",
        "[[-123 -123    2]\n",
        " [-123 -123    5]]\n"
       ]
      }
     ],
     "prompt_number": 27
    },
    {
     "cell_type": "markdown",
     "metadata": {},
     "source": [
      "**Slicing arrays via `:` or via the Ellipsis object `...` creates a 'view' of the original array, i.e. the new object still points to the same chunk of memory.**"
     ]
    },
    {
     "cell_type": "markdown",
     "metadata": {},
     "source": [
      "Apply an in-place operator, such as `+=`"
     ]
    },
    {
     "cell_type": "code",
     "collapsed": false,
     "input": [
      "b += 3\n",
      "print a\n",
      "print b"
     ],
     "language": "python",
     "metadata": {},
     "outputs": [
      {
       "output_type": "stream",
       "stream": "stdout",
       "text": [
        "[[-120 -120    5]\n",
        " [-120 -120    8]]\n",
        "[[-120 -120    5]\n",
        " [-120 -120    8]]\n"
       ]
      }
     ],
     "prompt_number": 28
    },
    {
     "cell_type": "markdown",
     "metadata": {},
     "source": [
      "It updated `b` in-place, i.e. used the same location in memory. And since `a` still points to that same memory, it changes with `b`.\n",
      "\n",
      "Now increment `b` with a normal `+` operator (not in-place):"
     ]
    },
    {
     "cell_type": "code",
     "collapsed": false,
     "input": [
      "b = b + 20\n",
      "print a\n",
      "print b"
     ],
     "language": "python",
     "metadata": {},
     "outputs": [
      {
       "output_type": "stream",
       "stream": "stdout",
       "text": [
        "[[-120 -120    5]\n",
        " [-120 -120    8]]\n",
        "[[-100 -100   25]\n",
        " [-100 -100   28]]\n"
       ]
      }
     ],
     "prompt_number": 29
    },
    {
     "cell_type": "markdown",
     "metadata": {},
     "source": [
      "An operator like `+` makes a copy of the array, and assigns the updated value to that new location in memory. `a` and `b` now point to different locations in memory."
     ]
    }
   ],
   "metadata": {}
  }
 ]
}