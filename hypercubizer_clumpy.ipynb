{
 "metadata": {
  "celltoolbar": "Raw Cell Format",
  "name": "",
  "signature": "sha256:80082949bec74180fb0ee7a61ea57342005de1a03a2e0ec52cf6dbdb83d42615"
 },
 "nbformat": 3,
 "nbformat_minor": 0,
 "worksheets": [
  {
   "cells": [
    {
     "cell_type": "code",
     "collapsed": false,
     "input": [
      "import hypercubizer"
     ],
     "language": "python",
     "metadata": {},
     "outputs": [],
     "prompt_number": 1
    },
    {
     "cell_type": "markdown",
     "metadata": {},
     "source": [
      "Directory where the CLUMPY model FITS files are (adjust as necessary)"
     ]
    },
    {
     "cell_type": "code",
     "collapsed": false,
     "input": [
      "rootdir = '../clumpy_models'"
     ],
     "language": "python",
     "metadata": {},
     "outputs": [],
     "prompt_number": 2
    },
    {
     "cell_type": "markdown",
     "metadata": {},
     "source": [
      "Define the file name pattern. Simply take any one of the FITS files, and wrap all parameter names in square brackets `[]`, and all parameter values in round parentheses `()`. It doesn't matter which model file you actually use."
     ]
    },
    {
     "cell_type": "code",
     "collapsed": false,
     "input": [
      "pattern = 'IMG-AA00-TORUSG-[sig](15)-[i](53.130)-[Y](010)-[N](01.0)-[q](0.0)-[tv](020.0).fits'"
     ],
     "language": "python",
     "metadata": {},
     "outputs": [],
     "prompt_number": 3
    },
    {
     "cell_type": "markdown",
     "metadata": {},
     "source": [
      "We'll be converting the image cubes first"
     ]
    },
    {
     "cell_type": "code",
     "collapsed": false,
     "input": [
      "hypercubenames = ['imgdata']"
     ],
     "language": "python",
     "metadata": {},
     "outputs": [],
     "prompt_number": 4
    },
    {
     "cell_type": "markdown",
     "metadata": {},
     "source": [
      "Run the file pattern matching and convert all models to a single hypercube"
     ]
    },
    {
     "cell_type": "code",
     "collapsed": false,
     "input": [
      "H = hypercubizer.Hypercubes(rootdir,pattern,hypercubenames=hypercubenames,func='fitsfile_clumpy')"
     ],
     "language": "python",
     "metadata": {},
     "outputs": [
      {
       "output_type": "stream",
       "stream": "stdout",
       "text": [
        "Matching file names to pattern\n",
        "\r",
        "Working on model 1 of 264 (0.4 percent) "
       ]
      },
      {
       "output_type": "stream",
       "stream": "stdout",
       "text": [
        "\r",
        "Working on model 2 of 264 (0.8 percent) "
       ]
      },
      {
       "output_type": "stream",
       "stream": "stdout",
       "text": [
        "\r",
        "Working on model 3 of 264 (1.1 percent) "
       ]
      },
      {
       "output_type": "stream",
       "stream": "stdout",
       "text": [
        "\r",
        "Working on model 4 of 264 (1.5 percent) "
       ]
      },
      {
       "output_type": "stream",
       "stream": "stdout",
       "text": [
        "\r",
        "Working on model 5 of 264 (1.9 percent) "
       ]
      },
      {
       "output_type": "stream",
       "stream": "stdout",
       "text": [
        "\r",
        "Working on model 6 of 264 (2.3 percent) "
       ]
      },
      {
       "output_type": "stream",
       "stream": "stdout",
       "text": [
        "\r",
        "Working on model 7 of 264 (2.7 percent) "
       ]
      },
      {
       "output_type": "stream",
       "stream": "stdout",
       "text": [
        "\r",
        "Working on model 8 of 264 (3.0 percent) "
       ]
      },
      {
       "output_type": "stream",
       "stream": "stdout",
       "text": [
        "\r",
        "Working on model 9 of 264 (3.4 percent) "
       ]
      },
      {
       "output_type": "stream",
       "stream": "stdout",
       "text": [
        "\r",
        "Working on model 10 of 264 (3.8 percent) "
       ]
      },
      {
       "output_type": "stream",
       "stream": "stdout",
       "text": [
        "\r",
        "Working on model 11 of 264 (4.2 percent) "
       ]
      },
      {
       "output_type": "stream",
       "stream": "stdout",
       "text": [
        "\r",
        "Working on model 12 of 264 (4.5 percent) "
       ]
      },
      {
       "output_type": "stream",
       "stream": "stdout",
       "text": [
        "\r",
        "Working on model 13 of 264 (4.9 percent) "
       ]
      },
      {
       "output_type": "stream",
       "stream": "stdout",
       "text": [
        "\r",
        "Working on model 14 of 264 (5.3 percent) "
       ]
      },
      {
       "output_type": "stream",
       "stream": "stdout",
       "text": [
        "\r",
        "Working on model 15 of 264 (5.7 percent) "
       ]
      },
      {
       "output_type": "stream",
       "stream": "stdout",
       "text": [
        "\r",
        "Working on model 16 of 264 (6.1 percent) "
       ]
      },
      {
       "output_type": "stream",
       "stream": "stdout",
       "text": [
        "\r",
        "Working on model 17 of 264 (6.4 percent) "
       ]
      },
      {
       "output_type": "stream",
       "stream": "stdout",
       "text": [
        "\r",
        "Working on model 18 of 264 (6.8 percent) "
       ]
      },
      {
       "output_type": "stream",
       "stream": "stdout",
       "text": [
        "\r",
        "Working on model 19 of 264 (7.2 percent) "
       ]
      },
      {
       "output_type": "stream",
       "stream": "stdout",
       "text": [
        "\r",
        "Working on model 20 of 264 (7.6 percent) "
       ]
      },
      {
       "output_type": "stream",
       "stream": "stdout",
       "text": [
        "\r",
        "Working on model 21 of 264 (8.0 percent) "
       ]
      },
      {
       "output_type": "stream",
       "stream": "stdout",
       "text": [
        "\r",
        "Working on model 22 of 264 (8.3 percent) "
       ]
      },
      {
       "output_type": "stream",
       "stream": "stdout",
       "text": [
        "\r",
        "Working on model 23 of 264 (8.7 percent) "
       ]
      },
      {
       "output_type": "stream",
       "stream": "stdout",
       "text": [
        "\r",
        "Working on model 24 of 264 (9.1 percent) "
       ]
      },
      {
       "output_type": "stream",
       "stream": "stdout",
       "text": [
        "\r",
        "Working on model 25 of 264 (9.5 percent) "
       ]
      },
      {
       "output_type": "stream",
       "stream": "stdout",
       "text": [
        "\r",
        "Working on model 26 of 264 (9.8 percent) "
       ]
      },
      {
       "output_type": "stream",
       "stream": "stdout",
       "text": [
        "\r",
        "Working on model 27 of 264 (10.2 percent) "
       ]
      },
      {
       "output_type": "stream",
       "stream": "stdout",
       "text": [
        "\r",
        "Working on model 28 of 264 (10.6 percent) "
       ]
      },
      {
       "output_type": "stream",
       "stream": "stdout",
       "text": [
        "\r",
        "Working on model 29 of 264 (11.0 percent) "
       ]
      },
      {
       "output_type": "stream",
       "stream": "stdout",
       "text": [
        "\r",
        "Working on model 30 of 264 (11.4 percent) "
       ]
      },
      {
       "output_type": "stream",
       "stream": "stdout",
       "text": [
        "\r",
        "Working on model 31 of 264 (11.7 percent) "
       ]
      },
      {
       "output_type": "stream",
       "stream": "stdout",
       "text": [
        "\r",
        "Working on model 32 of 264 (12.1 percent) "
       ]
      },
      {
       "output_type": "stream",
       "stream": "stdout",
       "text": [
        "\r",
        "Working on model 33 of 264 (12.5 percent) "
       ]
      },
      {
       "output_type": "stream",
       "stream": "stdout",
       "text": [
        "\r",
        "Working on model 34 of 264 (12.9 percent) "
       ]
      },
      {
       "output_type": "stream",
       "stream": "stdout",
       "text": [
        "\r",
        "Working on model 35 of 264 (13.3 percent) "
       ]
      },
      {
       "output_type": "stream",
       "stream": "stdout",
       "text": [
        "\r",
        "Working on model 36 of 264 (13.6 percent) "
       ]
      },
      {
       "output_type": "stream",
       "stream": "stdout",
       "text": [
        "\r",
        "Working on model 37 of 264 (14.0 percent) "
       ]
      },
      {
       "output_type": "stream",
       "stream": "stdout",
       "text": [
        "\r",
        "Working on model 38 of 264 (14.4 percent) "
       ]
      },
      {
       "output_type": "stream",
       "stream": "stdout",
       "text": [
        "\r",
        "Working on model 39 of 264 (14.8 percent) "
       ]
      },
      {
       "output_type": "stream",
       "stream": "stdout",
       "text": [
        "\r",
        "Working on model 40 of 264 (15.2 percent) "
       ]
      },
      {
       "output_type": "stream",
       "stream": "stdout",
       "text": [
        "\r",
        "Working on model 41 of 264 (15.5 percent) "
       ]
      },
      {
       "output_type": "stream",
       "stream": "stdout",
       "text": [
        "\r",
        "Working on model 42 of 264 (15.9 percent) "
       ]
      },
      {
       "output_type": "stream",
       "stream": "stdout",
       "text": [
        "\r",
        "Working on model 43 of 264 (16.3 percent) "
       ]
      },
      {
       "output_type": "stream",
       "stream": "stdout",
       "text": [
        "\r",
        "Working on model 44 of 264 (16.7 percent) "
       ]
      },
      {
       "output_type": "stream",
       "stream": "stdout",
       "text": [
        "\r",
        "Working on model 45 of 264 (17.0 percent) "
       ]
      },
      {
       "output_type": "stream",
       "stream": "stdout",
       "text": [
        "\r",
        "Working on model 46 of 264 (17.4 percent) "
       ]
      },
      {
       "output_type": "stream",
       "stream": "stdout",
       "text": [
        "\r",
        "Working on model 47 of 264 (17.8 percent) "
       ]
      },
      {
       "output_type": "stream",
       "stream": "stdout",
       "text": [
        "\r",
        "Working on model 48 of 264 (18.2 percent) "
       ]
      },
      {
       "output_type": "stream",
       "stream": "stdout",
       "text": [
        "\r",
        "Working on model 49 of 264 (18.6 percent) "
       ]
      },
      {
       "output_type": "stream",
       "stream": "stdout",
       "text": [
        "\r",
        "Working on model 50 of 264 (18.9 percent) "
       ]
      },
      {
       "output_type": "stream",
       "stream": "stdout",
       "text": [
        "\r",
        "Working on model 51 of 264 (19.3 percent) "
       ]
      },
      {
       "output_type": "stream",
       "stream": "stdout",
       "text": [
        "\r",
        "Working on model 52 of 264 (19.7 percent) "
       ]
      },
      {
       "output_type": "stream",
       "stream": "stdout",
       "text": [
        "\r",
        "Working on model 53 of 264 (20.1 percent) "
       ]
      },
      {
       "output_type": "stream",
       "stream": "stdout",
       "text": [
        "\r",
        "Working on model 54 of 264 (20.5 percent) "
       ]
      },
      {
       "output_type": "stream",
       "stream": "stdout",
       "text": [
        "\r",
        "Working on model 55 of 264 (20.8 percent) "
       ]
      },
      {
       "output_type": "stream",
       "stream": "stdout",
       "text": [
        "\r",
        "Working on model 56 of 264 (21.2 percent) "
       ]
      },
      {
       "output_type": "stream",
       "stream": "stdout",
       "text": [
        "\r",
        "Working on model 57 of 264 (21.6 percent) "
       ]
      },
      {
       "output_type": "stream",
       "stream": "stdout",
       "text": [
        "\r",
        "Working on model 58 of 264 (22.0 percent) "
       ]
      },
      {
       "output_type": "stream",
       "stream": "stdout",
       "text": [
        "\r",
        "Working on model 59 of 264 (22.3 percent) "
       ]
      },
      {
       "output_type": "stream",
       "stream": "stdout",
       "text": [
        "\r",
        "Working on model 60 of 264 (22.7 percent) "
       ]
      },
      {
       "output_type": "stream",
       "stream": "stdout",
       "text": [
        "\r",
        "Working on model 61 of 264 (23.1 percent) "
       ]
      },
      {
       "output_type": "stream",
       "stream": "stdout",
       "text": [
        "\r",
        "Working on model 62 of 264 (23.5 percent) "
       ]
      },
      {
       "output_type": "stream",
       "stream": "stdout",
       "text": [
        "\r",
        "Working on model 63 of 264 (23.9 percent) "
       ]
      },
      {
       "output_type": "stream",
       "stream": "stdout",
       "text": [
        "\r",
        "Working on model 64 of 264 (24.2 percent) "
       ]
      },
      {
       "output_type": "stream",
       "stream": "stdout",
       "text": [
        "\r",
        "Working on model 65 of 264 (24.6 percent) "
       ]
      },
      {
       "output_type": "stream",
       "stream": "stdout",
       "text": [
        "\r",
        "Working on model 66 of 264 (25.0 percent) "
       ]
      },
      {
       "output_type": "stream",
       "stream": "stdout",
       "text": [
        "\r",
        "Working on model 67 of 264 (25.4 percent) "
       ]
      },
      {
       "output_type": "stream",
       "stream": "stdout",
       "text": [
        "\r",
        "Working on model 68 of 264 (25.8 percent) "
       ]
      },
      {
       "output_type": "stream",
       "stream": "stdout",
       "text": [
        "\r",
        "Working on model 69 of 264 (26.1 percent) "
       ]
      },
      {
       "output_type": "stream",
       "stream": "stdout",
       "text": [
        "\r",
        "Working on model 70 of 264 (26.5 percent) "
       ]
      },
      {
       "output_type": "stream",
       "stream": "stdout",
       "text": [
        "\r",
        "Working on model 71 of 264 (26.9 percent) "
       ]
      },
      {
       "output_type": "stream",
       "stream": "stdout",
       "text": [
        "\r",
        "Working on model 72 of 264 (27.3 percent) "
       ]
      },
      {
       "output_type": "stream",
       "stream": "stdout",
       "text": [
        "\r",
        "Working on model 73 of 264 (27.7 percent) "
       ]
      },
      {
       "output_type": "stream",
       "stream": "stdout",
       "text": [
        "\r",
        "Working on model 74 of 264 (28.0 percent) "
       ]
      },
      {
       "output_type": "stream",
       "stream": "stdout",
       "text": [
        "\r",
        "Working on model 75 of 264 (28.4 percent) "
       ]
      },
      {
       "output_type": "stream",
       "stream": "stdout",
       "text": [
        "\r",
        "Working on model 76 of 264 (28.8 percent) "
       ]
      },
      {
       "output_type": "stream",
       "stream": "stdout",
       "text": [
        "\r",
        "Working on model 77 of 264 (29.2 percent) "
       ]
      },
      {
       "output_type": "stream",
       "stream": "stdout",
       "text": [
        "\r",
        "Working on model 78 of 264 (29.5 percent) "
       ]
      },
      {
       "output_type": "stream",
       "stream": "stdout",
       "text": [
        "\r",
        "Working on model 79 of 264 (29.9 percent) "
       ]
      },
      {
       "output_type": "stream",
       "stream": "stdout",
       "text": [
        "\r",
        "Working on model 80 of 264 (30.3 percent) "
       ]
      },
      {
       "output_type": "stream",
       "stream": "stdout",
       "text": [
        "\r",
        "Working on model 81 of 264 (30.7 percent) "
       ]
      },
      {
       "output_type": "stream",
       "stream": "stdout",
       "text": [
        "\r",
        "Working on model 82 of 264 (31.1 percent) "
       ]
      },
      {
       "output_type": "stream",
       "stream": "stdout",
       "text": [
        "\r",
        "Working on model 83 of 264 (31.4 percent) "
       ]
      },
      {
       "output_type": "stream",
       "stream": "stdout",
       "text": [
        "\r",
        "Working on model 84 of 264 (31.8 percent) "
       ]
      },
      {
       "output_type": "stream",
       "stream": "stdout",
       "text": [
        "\r",
        "Working on model 85 of 264 (32.2 percent) "
       ]
      },
      {
       "output_type": "stream",
       "stream": "stdout",
       "text": [
        "\r",
        "Working on model 86 of 264 (32.6 percent) "
       ]
      },
      {
       "output_type": "stream",
       "stream": "stdout",
       "text": [
        "\r",
        "Working on model 87 of 264 (33.0 percent) "
       ]
      },
      {
       "output_type": "stream",
       "stream": "stdout",
       "text": [
        "\r",
        "Working on model 88 of 264 (33.3 percent) "
       ]
      },
      {
       "output_type": "stream",
       "stream": "stdout",
       "text": [
        "\r",
        "Working on model 89 of 264 (33.7 percent) "
       ]
      },
      {
       "output_type": "stream",
       "stream": "stdout",
       "text": [
        "\r",
        "Working on model 90 of 264 (34.1 percent) "
       ]
      },
      {
       "output_type": "stream",
       "stream": "stdout",
       "text": [
        "\r",
        "Working on model 91 of 264 (34.5 percent) "
       ]
      },
      {
       "output_type": "stream",
       "stream": "stdout",
       "text": [
        "\r",
        "Working on model 92 of 264 (34.8 percent) "
       ]
      },
      {
       "output_type": "stream",
       "stream": "stdout",
       "text": [
        "\r",
        "Working on model 93 of 264 (35.2 percent) "
       ]
      },
      {
       "output_type": "stream",
       "stream": "stdout",
       "text": [
        "\r",
        "Working on model 94 of 264 (35.6 percent) "
       ]
      },
      {
       "output_type": "stream",
       "stream": "stdout",
       "text": [
        "\r",
        "Working on model 95 of 264 (36.0 percent) "
       ]
      },
      {
       "output_type": "stream",
       "stream": "stdout",
       "text": [
        "\r",
        "Working on model 96 of 264 (36.4 percent) "
       ]
      },
      {
       "output_type": "stream",
       "stream": "stdout",
       "text": [
        "\r",
        "Working on model 97 of 264 (36.7 percent) "
       ]
      },
      {
       "output_type": "stream",
       "stream": "stdout",
       "text": [
        "\r",
        "Working on model 98 of 264 (37.1 percent) "
       ]
      },
      {
       "output_type": "stream",
       "stream": "stdout",
       "text": [
        "\r",
        "Working on model 99 of 264 (37.5 percent) "
       ]
      },
      {
       "output_type": "stream",
       "stream": "stdout",
       "text": [
        "\r",
        "Working on model 100 of 264 (37.9 percent) "
       ]
      },
      {
       "output_type": "stream",
       "stream": "stdout",
       "text": [
        "\r",
        "Working on model 101 of 264 (38.3 percent) "
       ]
      },
      {
       "output_type": "stream",
       "stream": "stdout",
       "text": [
        "\r",
        "Working on model 102 of 264 (38.6 percent) "
       ]
      },
      {
       "output_type": "stream",
       "stream": "stdout",
       "text": [
        "\r",
        "Working on model 103 of 264 (39.0 percent) "
       ]
      },
      {
       "output_type": "stream",
       "stream": "stdout",
       "text": [
        "\r",
        "Working on model 104 of 264 (39.4 percent) "
       ]
      },
      {
       "output_type": "stream",
       "stream": "stdout",
       "text": [
        "\r",
        "Working on model 105 of 264 (39.8 percent) "
       ]
      },
      {
       "output_type": "stream",
       "stream": "stdout",
       "text": [
        "\r",
        "Working on model 106 of 264 (40.2 percent) "
       ]
      },
      {
       "output_type": "stream",
       "stream": "stdout",
       "text": [
        "\r",
        "Working on model 107 of 264 (40.5 percent) "
       ]
      },
      {
       "output_type": "stream",
       "stream": "stdout",
       "text": [
        "\r",
        "Working on model 108 of 264 (40.9 percent) "
       ]
      },
      {
       "output_type": "stream",
       "stream": "stdout",
       "text": [
        "\r",
        "Working on model 109 of 264 (41.3 percent) "
       ]
      },
      {
       "output_type": "stream",
       "stream": "stdout",
       "text": [
        "\r",
        "Working on model 110 of 264 (41.7 percent) "
       ]
      },
      {
       "output_type": "stream",
       "stream": "stdout",
       "text": [
        "\r",
        "Working on model 111 of 264 (42.0 percent) "
       ]
      },
      {
       "output_type": "stream",
       "stream": "stdout",
       "text": [
        "\r",
        "Working on model 112 of 264 (42.4 percent) "
       ]
      },
      {
       "output_type": "stream",
       "stream": "stdout",
       "text": [
        "\r",
        "Working on model 113 of 264 (42.8 percent) "
       ]
      },
      {
       "output_type": "stream",
       "stream": "stdout",
       "text": [
        "\r",
        "Working on model 114 of 264 (43.2 percent) "
       ]
      },
      {
       "output_type": "stream",
       "stream": "stdout",
       "text": [
        "\r",
        "Working on model 115 of 264 (43.6 percent) "
       ]
      },
      {
       "output_type": "stream",
       "stream": "stdout",
       "text": [
        "\r",
        "Working on model 116 of 264 (43.9 percent) "
       ]
      },
      {
       "output_type": "stream",
       "stream": "stdout",
       "text": [
        "\r",
        "Working on model 117 of 264 (44.3 percent) "
       ]
      },
      {
       "output_type": "stream",
       "stream": "stdout",
       "text": [
        "\r",
        "Working on model 118 of 264 (44.7 percent) "
       ]
      },
      {
       "output_type": "stream",
       "stream": "stdout",
       "text": [
        "\r",
        "Working on model 119 of 264 (45.1 percent) "
       ]
      },
      {
       "output_type": "stream",
       "stream": "stdout",
       "text": [
        "\r",
        "Working on model 120 of 264 (45.5 percent) "
       ]
      },
      {
       "output_type": "stream",
       "stream": "stdout",
       "text": [
        "\r",
        "Working on model 121 of 264 (45.8 percent) "
       ]
      },
      {
       "output_type": "stream",
       "stream": "stdout",
       "text": [
        "\r",
        "Working on model 122 of 264 (46.2 percent) "
       ]
      },
      {
       "output_type": "stream",
       "stream": "stdout",
       "text": [
        "\r",
        "Working on model 123 of 264 (46.6 percent) "
       ]
      },
      {
       "output_type": "stream",
       "stream": "stdout",
       "text": [
        "\r",
        "Working on model 124 of 264 (47.0 percent) "
       ]
      },
      {
       "output_type": "stream",
       "stream": "stdout",
       "text": [
        "\r",
        "Working on model 125 of 264 (47.3 percent) "
       ]
      },
      {
       "output_type": "stream",
       "stream": "stdout",
       "text": [
        "\r",
        "Working on model 126 of 264 (47.7 percent) "
       ]
      },
      {
       "output_type": "stream",
       "stream": "stdout",
       "text": [
        "\r",
        "Working on model 127 of 264 (48.1 percent) "
       ]
      },
      {
       "output_type": "stream",
       "stream": "stdout",
       "text": [
        "\r",
        "Working on model 128 of 264 (48.5 percent) "
       ]
      },
      {
       "output_type": "stream",
       "stream": "stdout",
       "text": [
        "\r",
        "Working on model 129 of 264 (48.9 percent) "
       ]
      },
      {
       "output_type": "stream",
       "stream": "stdout",
       "text": [
        "\r",
        "Working on model 130 of 264 (49.2 percent) "
       ]
      },
      {
       "output_type": "stream",
       "stream": "stdout",
       "text": [
        "\r",
        "Working on model 131 of 264 (49.6 percent) "
       ]
      },
      {
       "output_type": "stream",
       "stream": "stdout",
       "text": [
        "\r",
        "Working on model 132 of 264 (50.0 percent) "
       ]
      },
      {
       "output_type": "stream",
       "stream": "stdout",
       "text": [
        "\r",
        "Working on model 133 of 264 (50.4 percent) "
       ]
      },
      {
       "output_type": "stream",
       "stream": "stdout",
       "text": [
        "\r",
        "Working on model 134 of 264 (50.8 percent) "
       ]
      },
      {
       "output_type": "stream",
       "stream": "stdout",
       "text": [
        "\r",
        "Working on model 135 of 264 (51.1 percent) "
       ]
      },
      {
       "output_type": "stream",
       "stream": "stdout",
       "text": [
        "\r",
        "Working on model 136 of 264 (51.5 percent) "
       ]
      },
      {
       "output_type": "stream",
       "stream": "stdout",
       "text": [
        "\r",
        "Working on model 137 of 264 (51.9 percent) "
       ]
      },
      {
       "output_type": "stream",
       "stream": "stdout",
       "text": [
        "\r",
        "Working on model 138 of 264 (52.3 percent) "
       ]
      },
      {
       "output_type": "stream",
       "stream": "stdout",
       "text": [
        "\r",
        "Working on model 139 of 264 (52.7 percent) "
       ]
      },
      {
       "output_type": "stream",
       "stream": "stdout",
       "text": [
        "\r",
        "Working on model 140 of 264 (53.0 percent) "
       ]
      },
      {
       "output_type": "stream",
       "stream": "stdout",
       "text": [
        "\r",
        "Working on model 141 of 264 (53.4 percent) "
       ]
      },
      {
       "output_type": "stream",
       "stream": "stdout",
       "text": [
        "\r",
        "Working on model 142 of 264 (53.8 percent) "
       ]
      },
      {
       "output_type": "stream",
       "stream": "stdout",
       "text": [
        "\r",
        "Working on model 143 of 264 (54.2 percent) "
       ]
      },
      {
       "output_type": "stream",
       "stream": "stdout",
       "text": [
        "\r",
        "Working on model 144 of 264 (54.5 percent) "
       ]
      },
      {
       "output_type": "stream",
       "stream": "stdout",
       "text": [
        "\r",
        "Working on model 145 of 264 (54.9 percent) "
       ]
      },
      {
       "output_type": "stream",
       "stream": "stdout",
       "text": [
        "\r",
        "Working on model 146 of 264 (55.3 percent) "
       ]
      },
      {
       "output_type": "stream",
       "stream": "stdout",
       "text": [
        "\r",
        "Working on model 147 of 264 (55.7 percent) "
       ]
      },
      {
       "output_type": "stream",
       "stream": "stdout",
       "text": [
        "\r",
        "Working on model 148 of 264 (56.1 percent) "
       ]
      },
      {
       "output_type": "stream",
       "stream": "stdout",
       "text": [
        "\r",
        "Working on model 149 of 264 (56.4 percent) "
       ]
      },
      {
       "output_type": "stream",
       "stream": "stdout",
       "text": [
        "\r",
        "Working on model 150 of 264 (56.8 percent) "
       ]
      },
      {
       "output_type": "stream",
       "stream": "stdout",
       "text": [
        "\r",
        "Working on model 151 of 264 (57.2 percent) "
       ]
      },
      {
       "output_type": "stream",
       "stream": "stdout",
       "text": [
        "\r",
        "Working on model 152 of 264 (57.6 percent) "
       ]
      },
      {
       "output_type": "stream",
       "stream": "stdout",
       "text": [
        "\r",
        "Working on model 153 of 264 (58.0 percent) "
       ]
      },
      {
       "output_type": "stream",
       "stream": "stdout",
       "text": [
        "\r",
        "Working on model 154 of 264 (58.3 percent) "
       ]
      },
      {
       "output_type": "stream",
       "stream": "stdout",
       "text": [
        "\r",
        "Working on model 155 of 264 (58.7 percent) "
       ]
      },
      {
       "output_type": "stream",
       "stream": "stdout",
       "text": [
        "\r",
        "Working on model 156 of 264 (59.1 percent) "
       ]
      },
      {
       "output_type": "stream",
       "stream": "stdout",
       "text": [
        "\r",
        "Working on model 157 of 264 (59.5 percent) "
       ]
      },
      {
       "output_type": "stream",
       "stream": "stdout",
       "text": [
        "\r",
        "Working on model 158 of 264 (59.8 percent) "
       ]
      },
      {
       "output_type": "stream",
       "stream": "stdout",
       "text": [
        "\r",
        "Working on model 159 of 264 (60.2 percent) "
       ]
      },
      {
       "output_type": "stream",
       "stream": "stdout",
       "text": [
        "\r",
        "Working on model 160 of 264 (60.6 percent) "
       ]
      },
      {
       "output_type": "stream",
       "stream": "stdout",
       "text": [
        "\r",
        "Working on model 161 of 264 (61.0 percent) "
       ]
      },
      {
       "output_type": "stream",
       "stream": "stdout",
       "text": [
        "\r",
        "Working on model 162 of 264 (61.4 percent) "
       ]
      },
      {
       "output_type": "stream",
       "stream": "stdout",
       "text": [
        "\r",
        "Working on model 163 of 264 (61.7 percent) "
       ]
      },
      {
       "output_type": "stream",
       "stream": "stdout",
       "text": [
        "\r",
        "Working on model 164 of 264 (62.1 percent) "
       ]
      },
      {
       "output_type": "stream",
       "stream": "stdout",
       "text": [
        "\r",
        "Working on model 165 of 264 (62.5 percent) "
       ]
      },
      {
       "output_type": "stream",
       "stream": "stdout",
       "text": [
        "\r",
        "Working on model 166 of 264 (62.9 percent) "
       ]
      },
      {
       "output_type": "stream",
       "stream": "stdout",
       "text": [
        "\r",
        "Working on model 167 of 264 (63.3 percent) "
       ]
      },
      {
       "output_type": "stream",
       "stream": "stdout",
       "text": [
        "\r",
        "Working on model 168 of 264 (63.6 percent) "
       ]
      },
      {
       "output_type": "stream",
       "stream": "stdout",
       "text": [
        "\r",
        "Working on model 169 of 264 (64.0 percent) "
       ]
      },
      {
       "output_type": "stream",
       "stream": "stdout",
       "text": [
        "\r",
        "Working on model 170 of 264 (64.4 percent) "
       ]
      },
      {
       "output_type": "stream",
       "stream": "stdout",
       "text": [
        "\r",
        "Working on model 171 of 264 (64.8 percent) "
       ]
      },
      {
       "output_type": "stream",
       "stream": "stdout",
       "text": [
        "\r",
        "Working on model 172 of 264 (65.2 percent) "
       ]
      },
      {
       "output_type": "stream",
       "stream": "stdout",
       "text": [
        "\r",
        "Working on model 173 of 264 (65.5 percent) "
       ]
      },
      {
       "output_type": "stream",
       "stream": "stdout",
       "text": [
        "\r",
        "Working on model 174 of 264 (65.9 percent) "
       ]
      },
      {
       "output_type": "stream",
       "stream": "stdout",
       "text": [
        "\r",
        "Working on model 175 of 264 (66.3 percent) "
       ]
      },
      {
       "output_type": "stream",
       "stream": "stdout",
       "text": [
        "\r",
        "Working on model 176 of 264 (66.7 percent) "
       ]
      },
      {
       "output_type": "stream",
       "stream": "stdout",
       "text": [
        "\r",
        "Working on model 177 of 264 (67.0 percent) "
       ]
      },
      {
       "output_type": "stream",
       "stream": "stdout",
       "text": [
        "\r",
        "Working on model 178 of 264 (67.4 percent) "
       ]
      },
      {
       "output_type": "stream",
       "stream": "stdout",
       "text": [
        "\r",
        "Working on model 179 of 264 (67.8 percent) "
       ]
      },
      {
       "output_type": "stream",
       "stream": "stdout",
       "text": [
        "\r",
        "Working on model 180 of 264 (68.2 percent) "
       ]
      },
      {
       "output_type": "stream",
       "stream": "stdout",
       "text": [
        "\r",
        "Working on model 181 of 264 (68.6 percent) "
       ]
      },
      {
       "output_type": "stream",
       "stream": "stdout",
       "text": [
        "\r",
        "Working on model 182 of 264 (68.9 percent) "
       ]
      },
      {
       "output_type": "stream",
       "stream": "stdout",
       "text": [
        "\r",
        "Working on model 183 of 264 (69.3 percent) "
       ]
      },
      {
       "output_type": "stream",
       "stream": "stdout",
       "text": [
        "\r",
        "Working on model 184 of 264 (69.7 percent) "
       ]
      },
      {
       "output_type": "stream",
       "stream": "stdout",
       "text": [
        "\r",
        "Working on model 185 of 264 (70.1 percent) "
       ]
      },
      {
       "output_type": "stream",
       "stream": "stdout",
       "text": [
        "\r",
        "Working on model 186 of 264 (70.5 percent) "
       ]
      },
      {
       "output_type": "stream",
       "stream": "stdout",
       "text": [
        "\r",
        "Working on model 187 of 264 (70.8 percent) "
       ]
      },
      {
       "output_type": "stream",
       "stream": "stdout",
       "text": [
        "\r",
        "Working on model 188 of 264 (71.2 percent) "
       ]
      },
      {
       "output_type": "stream",
       "stream": "stdout",
       "text": [
        "\r",
        "Working on model 189 of 264 (71.6 percent) "
       ]
      },
      {
       "output_type": "stream",
       "stream": "stdout",
       "text": [
        "\r",
        "Working on model 190 of 264 (72.0 percent) "
       ]
      },
      {
       "output_type": "stream",
       "stream": "stdout",
       "text": [
        "\r",
        "Working on model 191 of 264 (72.3 percent) "
       ]
      },
      {
       "output_type": "stream",
       "stream": "stdout",
       "text": [
        "\r",
        "Working on model 192 of 264 (72.7 percent) "
       ]
      },
      {
       "output_type": "stream",
       "stream": "stdout",
       "text": [
        "\r",
        "Working on model 193 of 264 (73.1 percent) "
       ]
      },
      {
       "output_type": "stream",
       "stream": "stdout",
       "text": [
        "\r",
        "Working on model 194 of 264 (73.5 percent) "
       ]
      },
      {
       "output_type": "stream",
       "stream": "stdout",
       "text": [
        "\r",
        "Working on model 195 of 264 (73.9 percent) "
       ]
      },
      {
       "output_type": "stream",
       "stream": "stdout",
       "text": [
        "\r",
        "Working on model 196 of 264 (74.2 percent) "
       ]
      },
      {
       "output_type": "stream",
       "stream": "stdout",
       "text": [
        "\r",
        "Working on model 197 of 264 (74.6 percent) "
       ]
      },
      {
       "output_type": "stream",
       "stream": "stdout",
       "text": [
        "\r",
        "Working on model 198 of 264 (75.0 percent) "
       ]
      },
      {
       "output_type": "stream",
       "stream": "stdout",
       "text": [
        "\r",
        "Working on model 199 of 264 (75.4 percent) "
       ]
      },
      {
       "output_type": "stream",
       "stream": "stdout",
       "text": [
        "\r",
        "Working on model 200 of 264 (75.8 percent) "
       ]
      },
      {
       "output_type": "stream",
       "stream": "stdout",
       "text": [
        "\r",
        "Working on model 201 of 264 (76.1 percent) "
       ]
      },
      {
       "output_type": "stream",
       "stream": "stdout",
       "text": [
        "\r",
        "Working on model 202 of 264 (76.5 percent) "
       ]
      },
      {
       "output_type": "stream",
       "stream": "stdout",
       "text": [
        "\r",
        "Working on model 203 of 264 (76.9 percent) "
       ]
      },
      {
       "output_type": "stream",
       "stream": "stdout",
       "text": [
        "\r",
        "Working on model 204 of 264 (77.3 percent) "
       ]
      },
      {
       "output_type": "stream",
       "stream": "stdout",
       "text": [
        "\r",
        "Working on model 205 of 264 (77.7 percent) "
       ]
      },
      {
       "output_type": "stream",
       "stream": "stdout",
       "text": [
        "\r",
        "Working on model 206 of 264 (78.0 percent) "
       ]
      },
      {
       "output_type": "stream",
       "stream": "stdout",
       "text": [
        "\r",
        "Working on model 207 of 264 (78.4 percent) "
       ]
      },
      {
       "output_type": "stream",
       "stream": "stdout",
       "text": [
        "\r",
        "Working on model 208 of 264 (78.8 percent) "
       ]
      },
      {
       "output_type": "stream",
       "stream": "stdout",
       "text": [
        "\r",
        "Working on model 209 of 264 (79.2 percent) "
       ]
      },
      {
       "output_type": "stream",
       "stream": "stdout",
       "text": [
        "\r",
        "Working on model 210 of 264 (79.5 percent) "
       ]
      },
      {
       "output_type": "stream",
       "stream": "stdout",
       "text": [
        "\r",
        "Working on model 211 of 264 (79.9 percent) "
       ]
      },
      {
       "output_type": "stream",
       "stream": "stdout",
       "text": [
        "\r",
        "Working on model 212 of 264 (80.3 percent) "
       ]
      },
      {
       "output_type": "stream",
       "stream": "stdout",
       "text": [
        "\r",
        "Working on model 213 of 264 (80.7 percent) "
       ]
      },
      {
       "output_type": "stream",
       "stream": "stdout",
       "text": [
        "\r",
        "Working on model 214 of 264 (81.1 percent) "
       ]
      },
      {
       "output_type": "stream",
       "stream": "stdout",
       "text": [
        "\r",
        "Working on model 215 of 264 (81.4 percent) "
       ]
      },
      {
       "output_type": "stream",
       "stream": "stdout",
       "text": [
        "\r",
        "Working on model 216 of 264 (81.8 percent) "
       ]
      },
      {
       "output_type": "stream",
       "stream": "stdout",
       "text": [
        "\r",
        "Working on model 217 of 264 (82.2 percent) "
       ]
      },
      {
       "output_type": "stream",
       "stream": "stdout",
       "text": [
        "\r",
        "Working on model 218 of 264 (82.6 percent) "
       ]
      },
      {
       "output_type": "stream",
       "stream": "stdout",
       "text": [
        "\r",
        "Working on model 219 of 264 (83.0 percent) "
       ]
      },
      {
       "output_type": "stream",
       "stream": "stdout",
       "text": [
        "\r",
        "Working on model 220 of 264 (83.3 percent) "
       ]
      },
      {
       "output_type": "stream",
       "stream": "stdout",
       "text": [
        "\r",
        "Working on model 221 of 264 (83.7 percent) "
       ]
      },
      {
       "output_type": "stream",
       "stream": "stdout",
       "text": [
        "\r",
        "Working on model 222 of 264 (84.1 percent) "
       ]
      },
      {
       "output_type": "stream",
       "stream": "stdout",
       "text": [
        "\r",
        "Working on model 223 of 264 (84.5 percent) "
       ]
      },
      {
       "output_type": "stream",
       "stream": "stdout",
       "text": [
        "\r",
        "Working on model 224 of 264 (84.8 percent) "
       ]
      },
      {
       "output_type": "stream",
       "stream": "stdout",
       "text": [
        "\r",
        "Working on model 225 of 264 (85.2 percent) "
       ]
      },
      {
       "output_type": "stream",
       "stream": "stdout",
       "text": [
        "\r",
        "Working on model 226 of 264 (85.6 percent) "
       ]
      },
      {
       "output_type": "stream",
       "stream": "stdout",
       "text": [
        "\r",
        "Working on model 227 of 264 (86.0 percent) "
       ]
      },
      {
       "output_type": "stream",
       "stream": "stdout",
       "text": [
        "\r",
        "Working on model 228 of 264 (86.4 percent) "
       ]
      },
      {
       "output_type": "stream",
       "stream": "stdout",
       "text": [
        "\r",
        "Working on model 229 of 264 (86.7 percent) "
       ]
      },
      {
       "output_type": "stream",
       "stream": "stdout",
       "text": [
        "\r",
        "Working on model 230 of 264 (87.1 percent) "
       ]
      },
      {
       "output_type": "stream",
       "stream": "stdout",
       "text": [
        "\r",
        "Working on model 231 of 264 (87.5 percent) "
       ]
      },
      {
       "output_type": "stream",
       "stream": "stdout",
       "text": [
        "\r",
        "Working on model 232 of 264 (87.9 percent) "
       ]
      },
      {
       "output_type": "stream",
       "stream": "stdout",
       "text": [
        "\r",
        "Working on model 233 of 264 (88.3 percent) "
       ]
      },
      {
       "output_type": "stream",
       "stream": "stdout",
       "text": [
        "\r",
        "Working on model 234 of 264 (88.6 percent) "
       ]
      },
      {
       "output_type": "stream",
       "stream": "stdout",
       "text": [
        "\r",
        "Working on model 235 of 264 (89.0 percent) "
       ]
      },
      {
       "output_type": "stream",
       "stream": "stdout",
       "text": [
        "\r",
        "Working on model 236 of 264 (89.4 percent) "
       ]
      },
      {
       "output_type": "stream",
       "stream": "stdout",
       "text": [
        "\r",
        "Working on model 237 of 264 (89.8 percent) "
       ]
      },
      {
       "output_type": "stream",
       "stream": "stdout",
       "text": [
        "\r",
        "Working on model 238 of 264 (90.2 percent) "
       ]
      },
      {
       "output_type": "stream",
       "stream": "stdout",
       "text": [
        "\r",
        "Working on model 239 of 264 (90.5 percent) "
       ]
      },
      {
       "output_type": "stream",
       "stream": "stdout",
       "text": [
        "\r",
        "Working on model 240 of 264 (90.9 percent) "
       ]
      },
      {
       "output_type": "stream",
       "stream": "stdout",
       "text": [
        "\r",
        "Working on model 241 of 264 (91.3 percent) "
       ]
      },
      {
       "output_type": "stream",
       "stream": "stdout",
       "text": [
        "\r",
        "Working on model 242 of 264 (91.7 percent) "
       ]
      },
      {
       "output_type": "stream",
       "stream": "stdout",
       "text": [
        "\r",
        "Working on model 243 of 264 (92.0 percent) "
       ]
      },
      {
       "output_type": "stream",
       "stream": "stdout",
       "text": [
        "\r",
        "Working on model 244 of 264 (92.4 percent) "
       ]
      },
      {
       "output_type": "stream",
       "stream": "stdout",
       "text": [
        "\r",
        "Working on model 245 of 264 (92.8 percent) "
       ]
      },
      {
       "output_type": "stream",
       "stream": "stdout",
       "text": [
        "\r",
        "Working on model 246 of 264 (93.2 percent) "
       ]
      },
      {
       "output_type": "stream",
       "stream": "stdout",
       "text": [
        "\r",
        "Working on model 247 of 264 (93.6 percent) "
       ]
      },
      {
       "output_type": "stream",
       "stream": "stdout",
       "text": [
        "\r",
        "Working on model 248 of 264 (93.9 percent) "
       ]
      },
      {
       "output_type": "stream",
       "stream": "stdout",
       "text": [
        "\r",
        "Working on model 249 of 264 (94.3 percent) "
       ]
      },
      {
       "output_type": "stream",
       "stream": "stdout",
       "text": [
        "\r",
        "Working on model 250 of 264 (94.7 percent) "
       ]
      },
      {
       "output_type": "stream",
       "stream": "stdout",
       "text": [
        "\r",
        "Working on model 251 of 264 (95.1 percent) "
       ]
      },
      {
       "output_type": "stream",
       "stream": "stdout",
       "text": [
        "\r",
        "Working on model 252 of 264 (95.5 percent) "
       ]
      },
      {
       "output_type": "stream",
       "stream": "stdout",
       "text": [
        "\r",
        "Working on model 253 of 264 (95.8 percent) "
       ]
      },
      {
       "output_type": "stream",
       "stream": "stdout",
       "text": [
        "\r",
        "Working on model 254 of 264 (96.2 percent) "
       ]
      },
      {
       "output_type": "stream",
       "stream": "stdout",
       "text": [
        "\r",
        "Working on model 255 of 264 (96.6 percent) "
       ]
      },
      {
       "output_type": "stream",
       "stream": "stdout",
       "text": [
        "\r",
        "Working on model 256 of 264 (97.0 percent) "
       ]
      },
      {
       "output_type": "stream",
       "stream": "stdout",
       "text": [
        "\r",
        "Working on model 257 of 264 (97.3 percent) "
       ]
      },
      {
       "output_type": "stream",
       "stream": "stdout",
       "text": [
        "\r",
        "Working on model 258 of 264 (97.7 percent) "
       ]
      },
      {
       "output_type": "stream",
       "stream": "stdout",
       "text": [
        "\r",
        "Working on model 259 of 264 (98.1 percent) "
       ]
      },
      {
       "output_type": "stream",
       "stream": "stdout",
       "text": [
        "\r",
        "Working on model 260 of 264 (98.5 percent) "
       ]
      },
      {
       "output_type": "stream",
       "stream": "stdout",
       "text": [
        "\r",
        "Working on model 261 of 264 (98.9 percent) "
       ]
      },
      {
       "output_type": "stream",
       "stream": "stdout",
       "text": [
        "\r",
        "Working on model 262 of 264 (99.2 percent) "
       ]
      },
      {
       "output_type": "stream",
       "stream": "stdout",
       "text": [
        "\r",
        "Working on model 263 of 264 (99.6 percent) "
       ]
      },
      {
       "output_type": "stream",
       "stream": "stdout",
       "text": [
        "\r",
        "Working on model 264 of 264 (100.0 percent) "
       ]
      },
      {
       "output_type": "stream",
       "stream": "stdout",
       "text": [
        "\n",
        "\n",
        "Converting matched models to hypercubes\n",
        "\r",
        "Working on model 1 of 264 (0.4 percent) "
       ]
      },
      {
       "output_type": "stream",
       "stream": "stdout",
       "text": [
        "\r",
        "Working on model 2 of 264 (0.8 percent) "
       ]
      },
      {
       "output_type": "stream",
       "stream": "stdout",
       "text": [
        "\r",
        "Working on model 3 of 264 (1.1 percent) "
       ]
      },
      {
       "output_type": "stream",
       "stream": "stdout",
       "text": [
        "\r",
        "Working on model 4 of 264 (1.5 percent) "
       ]
      },
      {
       "output_type": "stream",
       "stream": "stdout",
       "text": [
        "\r",
        "Working on model 5 of 264 (1.9 percent) "
       ]
      },
      {
       "output_type": "stream",
       "stream": "stdout",
       "text": [
        "\r",
        "Working on model 6 of 264 (2.3 percent) "
       ]
      },
      {
       "output_type": "stream",
       "stream": "stdout",
       "text": [
        "\r",
        "Working on model 7 of 264 (2.7 percent) "
       ]
      },
      {
       "output_type": "stream",
       "stream": "stdout",
       "text": [
        "\r",
        "Working on model 8 of 264 (3.0 percent) "
       ]
      },
      {
       "output_type": "stream",
       "stream": "stdout",
       "text": [
        "\r",
        "Working on model 9 of 264 (3.4 percent) "
       ]
      },
      {
       "output_type": "stream",
       "stream": "stdout",
       "text": [
        "\r",
        "Working on model 10 of 264 (3.8 percent) "
       ]
      },
      {
       "output_type": "stream",
       "stream": "stdout",
       "text": [
        "\r",
        "Working on model 11 of 264 (4.2 percent) "
       ]
      },
      {
       "output_type": "stream",
       "stream": "stdout",
       "text": [
        "\r",
        "Working on model 12 of 264 (4.5 percent) "
       ]
      },
      {
       "output_type": "stream",
       "stream": "stdout",
       "text": [
        "\r",
        "Working on model 13 of 264 (4.9 percent) "
       ]
      },
      {
       "output_type": "stream",
       "stream": "stdout",
       "text": [
        "\r",
        "Working on model 14 of 264 (5.3 percent) "
       ]
      },
      {
       "output_type": "stream",
       "stream": "stdout",
       "text": [
        "\r",
        "Working on model 15 of 264 (5.7 percent) "
       ]
      },
      {
       "output_type": "stream",
       "stream": "stdout",
       "text": [
        "\r",
        "Working on model 16 of 264 (6.1 percent) "
       ]
      },
      {
       "output_type": "stream",
       "stream": "stdout",
       "text": [
        "\r",
        "Working on model 17 of 264 (6.4 percent) "
       ]
      },
      {
       "output_type": "stream",
       "stream": "stdout",
       "text": [
        "\r",
        "Working on model 18 of 264 (6.8 percent) "
       ]
      },
      {
       "output_type": "stream",
       "stream": "stdout",
       "text": [
        "\r",
        "Working on model 19 of 264 (7.2 percent) "
       ]
      },
      {
       "output_type": "stream",
       "stream": "stdout",
       "text": [
        "\r",
        "Working on model 20 of 264 (7.6 percent) "
       ]
      },
      {
       "output_type": "stream",
       "stream": "stdout",
       "text": [
        "\r",
        "Working on model 21 of 264 (8.0 percent) "
       ]
      },
      {
       "output_type": "stream",
       "stream": "stdout",
       "text": [
        "\r",
        "Working on model 22 of 264 (8.3 percent) "
       ]
      },
      {
       "output_type": "stream",
       "stream": "stdout",
       "text": [
        "\r",
        "Working on model 23 of 264 (8.7 percent) "
       ]
      },
      {
       "output_type": "stream",
       "stream": "stdout",
       "text": [
        "\r",
        "Working on model 24 of 264 (9.1 percent) "
       ]
      },
      {
       "output_type": "stream",
       "stream": "stdout",
       "text": [
        "\r",
        "Working on model 25 of 264 (9.5 percent) "
       ]
      },
      {
       "output_type": "stream",
       "stream": "stdout",
       "text": [
        "\r",
        "Working on model 26 of 264 (9.8 percent) "
       ]
      },
      {
       "output_type": "stream",
       "stream": "stdout",
       "text": [
        "\r",
        "Working on model 27 of 264 (10.2 percent) "
       ]
      },
      {
       "output_type": "stream",
       "stream": "stdout",
       "text": [
        "\r",
        "Working on model 28 of 264 (10.6 percent) "
       ]
      },
      {
       "output_type": "stream",
       "stream": "stdout",
       "text": [
        "\r",
        "Working on model 29 of 264 (11.0 percent) "
       ]
      },
      {
       "output_type": "stream",
       "stream": "stdout",
       "text": [
        "\r",
        "Working on model 30 of 264 (11.4 percent) "
       ]
      },
      {
       "output_type": "stream",
       "stream": "stdout",
       "text": [
        "\r",
        "Working on model 31 of 264 (11.7 percent) "
       ]
      },
      {
       "output_type": "stream",
       "stream": "stdout",
       "text": [
        "\r",
        "Working on model 32 of 264 (12.1 percent) "
       ]
      },
      {
       "output_type": "stream",
       "stream": "stdout",
       "text": [
        "\r",
        "Working on model 33 of 264 (12.5 percent) "
       ]
      },
      {
       "output_type": "stream",
       "stream": "stdout",
       "text": [
        "\r",
        "Working on model 34 of 264 (12.9 percent) "
       ]
      },
      {
       "output_type": "stream",
       "stream": "stdout",
       "text": [
        "\r",
        "Working on model 35 of 264 (13.3 percent) "
       ]
      },
      {
       "output_type": "stream",
       "stream": "stdout",
       "text": [
        "\r",
        "Working on model 36 of 264 (13.6 percent) "
       ]
      },
      {
       "output_type": "stream",
       "stream": "stdout",
       "text": [
        "\r",
        "Working on model 37 of 264 (14.0 percent) "
       ]
      },
      {
       "output_type": "stream",
       "stream": "stdout",
       "text": [
        "\r",
        "Working on model 38 of 264 (14.4 percent) "
       ]
      },
      {
       "output_type": "stream",
       "stream": "stdout",
       "text": [
        "\r",
        "Working on model 39 of 264 (14.8 percent) "
       ]
      },
      {
       "output_type": "stream",
       "stream": "stdout",
       "text": [
        "\r",
        "Working on model 40 of 264 (15.2 percent) "
       ]
      },
      {
       "output_type": "stream",
       "stream": "stdout",
       "text": [
        "\r",
        "Working on model 41 of 264 (15.5 percent) "
       ]
      },
      {
       "output_type": "stream",
       "stream": "stdout",
       "text": [
        "\r",
        "Working on model 42 of 264 (15.9 percent) "
       ]
      },
      {
       "output_type": "stream",
       "stream": "stdout",
       "text": [
        "\r",
        "Working on model 43 of 264 (16.3 percent) "
       ]
      },
      {
       "output_type": "stream",
       "stream": "stdout",
       "text": [
        "\r",
        "Working on model 44 of 264 (16.7 percent) "
       ]
      },
      {
       "output_type": "stream",
       "stream": "stdout",
       "text": [
        "\r",
        "Working on model 45 of 264 (17.0 percent) "
       ]
      },
      {
       "output_type": "stream",
       "stream": "stdout",
       "text": [
        "\r",
        "Working on model 46 of 264 (17.4 percent) "
       ]
      },
      {
       "output_type": "stream",
       "stream": "stdout",
       "text": [
        "\r",
        "Working on model 47 of 264 (17.8 percent) "
       ]
      },
      {
       "output_type": "stream",
       "stream": "stdout",
       "text": [
        "\r",
        "Working on model 48 of 264 (18.2 percent) "
       ]
      },
      {
       "output_type": "stream",
       "stream": "stdout",
       "text": [
        "\r",
        "Working on model 49 of 264 (18.6 percent) "
       ]
      },
      {
       "output_type": "stream",
       "stream": "stdout",
       "text": [
        "\r",
        "Working on model 50 of 264 (18.9 percent) "
       ]
      },
      {
       "output_type": "stream",
       "stream": "stdout",
       "text": [
        "\r",
        "Working on model 51 of 264 (19.3 percent) "
       ]
      },
      {
       "output_type": "stream",
       "stream": "stdout",
       "text": [
        "\r",
        "Working on model 52 of 264 (19.7 percent) "
       ]
      },
      {
       "output_type": "stream",
       "stream": "stdout",
       "text": [
        "\r",
        "Working on model 53 of 264 (20.1 percent) "
       ]
      },
      {
       "output_type": "stream",
       "stream": "stdout",
       "text": [
        "\r",
        "Working on model 54 of 264 (20.5 percent) "
       ]
      },
      {
       "output_type": "stream",
       "stream": "stdout",
       "text": [
        "\r",
        "Working on model 55 of 264 (20.8 percent) "
       ]
      },
      {
       "output_type": "stream",
       "stream": "stdout",
       "text": [
        "\r",
        "Working on model 56 of 264 (21.2 percent) "
       ]
      },
      {
       "output_type": "stream",
       "stream": "stdout",
       "text": [
        "\r",
        "Working on model 57 of 264 (21.6 percent) "
       ]
      },
      {
       "output_type": "stream",
       "stream": "stdout",
       "text": [
        "\r",
        "Working on model 58 of 264 (22.0 percent) "
       ]
      },
      {
       "output_type": "stream",
       "stream": "stdout",
       "text": [
        "\r",
        "Working on model 59 of 264 (22.3 percent) "
       ]
      },
      {
       "output_type": "stream",
       "stream": "stdout",
       "text": [
        "\r",
        "Working on model 60 of 264 (22.7 percent) "
       ]
      },
      {
       "output_type": "stream",
       "stream": "stdout",
       "text": [
        "\r",
        "Working on model 61 of 264 (23.1 percent) "
       ]
      },
      {
       "output_type": "stream",
       "stream": "stdout",
       "text": [
        "\r",
        "Working on model 62 of 264 (23.5 percent) "
       ]
      },
      {
       "output_type": "stream",
       "stream": "stdout",
       "text": [
        "\r",
        "Working on model 63 of 264 (23.9 percent) "
       ]
      },
      {
       "output_type": "stream",
       "stream": "stdout",
       "text": [
        "\r",
        "Working on model 64 of 264 (24.2 percent) "
       ]
      },
      {
       "output_type": "stream",
       "stream": "stdout",
       "text": [
        "\r",
        "Working on model 65 of 264 (24.6 percent) "
       ]
      },
      {
       "output_type": "stream",
       "stream": "stdout",
       "text": [
        "\r",
        "Working on model 66 of 264 (25.0 percent) "
       ]
      },
      {
       "output_type": "stream",
       "stream": "stdout",
       "text": [
        "\r",
        "Working on model 67 of 264 (25.4 percent) "
       ]
      },
      {
       "output_type": "stream",
       "stream": "stdout",
       "text": [
        "\r",
        "Working on model 68 of 264 (25.8 percent) "
       ]
      },
      {
       "output_type": "stream",
       "stream": "stdout",
       "text": [
        "\r",
        "Working on model 69 of 264 (26.1 percent) "
       ]
      },
      {
       "output_type": "stream",
       "stream": "stdout",
       "text": [
        "\r",
        "Working on model 70 of 264 (26.5 percent) "
       ]
      },
      {
       "output_type": "stream",
       "stream": "stdout",
       "text": [
        "\r",
        "Working on model 71 of 264 (26.9 percent) "
       ]
      },
      {
       "output_type": "stream",
       "stream": "stdout",
       "text": [
        "\r",
        "Working on model 72 of 264 (27.3 percent) "
       ]
      },
      {
       "output_type": "stream",
       "stream": "stdout",
       "text": [
        "\r",
        "Working on model 73 of 264 (27.7 percent) "
       ]
      },
      {
       "output_type": "stream",
       "stream": "stdout",
       "text": [
        "\r",
        "Working on model 74 of 264 (28.0 percent) "
       ]
      },
      {
       "output_type": "stream",
       "stream": "stdout",
       "text": [
        "\r",
        "Working on model 75 of 264 (28.4 percent) "
       ]
      },
      {
       "output_type": "stream",
       "stream": "stdout",
       "text": [
        "\r",
        "Working on model 76 of 264 (28.8 percent) "
       ]
      },
      {
       "output_type": "stream",
       "stream": "stdout",
       "text": [
        "\r",
        "Working on model 77 of 264 (29.2 percent) "
       ]
      },
      {
       "output_type": "stream",
       "stream": "stdout",
       "text": [
        "\r",
        "Working on model 78 of 264 (29.5 percent) "
       ]
      },
      {
       "output_type": "stream",
       "stream": "stdout",
       "text": [
        "\r",
        "Working on model 79 of 264 (29.9 percent) "
       ]
      },
      {
       "output_type": "stream",
       "stream": "stdout",
       "text": [
        "\r",
        "Working on model 80 of 264 (30.3 percent) "
       ]
      },
      {
       "output_type": "stream",
       "stream": "stdout",
       "text": [
        "\r",
        "Working on model 81 of 264 (30.7 percent) "
       ]
      },
      {
       "output_type": "stream",
       "stream": "stdout",
       "text": [
        "\r",
        "Working on model 82 of 264 (31.1 percent) "
       ]
      },
      {
       "output_type": "stream",
       "stream": "stdout",
       "text": [
        "\r",
        "Working on model 83 of 264 (31.4 percent) "
       ]
      },
      {
       "output_type": "stream",
       "stream": "stdout",
       "text": [
        "\r",
        "Working on model 84 of 264 (31.8 percent) "
       ]
      },
      {
       "output_type": "stream",
       "stream": "stdout",
       "text": [
        "\r",
        "Working on model 85 of 264 (32.2 percent) "
       ]
      },
      {
       "output_type": "stream",
       "stream": "stdout",
       "text": [
        "\r",
        "Working on model 86 of 264 (32.6 percent) "
       ]
      },
      {
       "output_type": "stream",
       "stream": "stdout",
       "text": [
        "\r",
        "Working on model 87 of 264 (33.0 percent) "
       ]
      },
      {
       "output_type": "stream",
       "stream": "stdout",
       "text": [
        "\r",
        "Working on model 88 of 264 (33.3 percent) "
       ]
      },
      {
       "output_type": "stream",
       "stream": "stdout",
       "text": [
        "\r",
        "Working on model 89 of 264 (33.7 percent) "
       ]
      },
      {
       "output_type": "stream",
       "stream": "stdout",
       "text": [
        "\r",
        "Working on model 90 of 264 (34.1 percent) "
       ]
      },
      {
       "output_type": "stream",
       "stream": "stdout",
       "text": [
        "\r",
        "Working on model 91 of 264 (34.5 percent) "
       ]
      },
      {
       "output_type": "stream",
       "stream": "stdout",
       "text": [
        "\r",
        "Working on model 92 of 264 (34.8 percent) "
       ]
      },
      {
       "output_type": "stream",
       "stream": "stdout",
       "text": [
        "\r",
        "Working on model 93 of 264 (35.2 percent) "
       ]
      },
      {
       "output_type": "stream",
       "stream": "stdout",
       "text": [
        "\r",
        "Working on model 94 of 264 (35.6 percent) "
       ]
      },
      {
       "output_type": "stream",
       "stream": "stdout",
       "text": [
        "\r",
        "Working on model 95 of 264 (36.0 percent) "
       ]
      },
      {
       "output_type": "stream",
       "stream": "stdout",
       "text": [
        "\r",
        "Working on model 96 of 264 (36.4 percent) "
       ]
      },
      {
       "output_type": "stream",
       "stream": "stdout",
       "text": [
        "\r",
        "Working on model 97 of 264 (36.7 percent) "
       ]
      },
      {
       "output_type": "stream",
       "stream": "stdout",
       "text": [
        "\r",
        "Working on model 98 of 264 (37.1 percent) "
       ]
      },
      {
       "output_type": "stream",
       "stream": "stdout",
       "text": [
        "\r",
        "Working on model 99 of 264 (37.5 percent) "
       ]
      },
      {
       "output_type": "stream",
       "stream": "stdout",
       "text": [
        "\r",
        "Working on model 100 of 264 (37.9 percent) "
       ]
      },
      {
       "output_type": "stream",
       "stream": "stdout",
       "text": [
        "\r",
        "Working on model 101 of 264 (38.3 percent) "
       ]
      },
      {
       "output_type": "stream",
       "stream": "stdout",
       "text": [
        "\r",
        "Working on model 102 of 264 (38.6 percent) "
       ]
      },
      {
       "output_type": "stream",
       "stream": "stdout",
       "text": [
        "\r",
        "Working on model 103 of 264 (39.0 percent) "
       ]
      },
      {
       "output_type": "stream",
       "stream": "stdout",
       "text": [
        "\r",
        "Working on model 104 of 264 (39.4 percent) "
       ]
      },
      {
       "output_type": "stream",
       "stream": "stdout",
       "text": [
        "\r",
        "Working on model 105 of 264 (39.8 percent) "
       ]
      },
      {
       "output_type": "stream",
       "stream": "stdout",
       "text": [
        "\r",
        "Working on model 106 of 264 (40.2 percent) "
       ]
      },
      {
       "output_type": "stream",
       "stream": "stdout",
       "text": [
        "\r",
        "Working on model 107 of 264 (40.5 percent) "
       ]
      },
      {
       "output_type": "stream",
       "stream": "stdout",
       "text": [
        "\r",
        "Working on model 108 of 264 (40.9 percent) "
       ]
      },
      {
       "output_type": "stream",
       "stream": "stdout",
       "text": [
        "\r",
        "Working on model 109 of 264 (41.3 percent) "
       ]
      },
      {
       "output_type": "stream",
       "stream": "stdout",
       "text": [
        "\r",
        "Working on model 110 of 264 (41.7 percent) "
       ]
      },
      {
       "output_type": "stream",
       "stream": "stdout",
       "text": [
        "\r",
        "Working on model 111 of 264 (42.0 percent) "
       ]
      },
      {
       "output_type": "stream",
       "stream": "stdout",
       "text": [
        "\r",
        "Working on model 112 of 264 (42.4 percent) "
       ]
      },
      {
       "output_type": "stream",
       "stream": "stdout",
       "text": [
        "\r",
        "Working on model 113 of 264 (42.8 percent) "
       ]
      },
      {
       "output_type": "stream",
       "stream": "stdout",
       "text": [
        "\r",
        "Working on model 114 of 264 (43.2 percent) "
       ]
      },
      {
       "output_type": "stream",
       "stream": "stdout",
       "text": [
        "\r",
        "Working on model 115 of 264 (43.6 percent) "
       ]
      },
      {
       "output_type": "stream",
       "stream": "stdout",
       "text": [
        "\r",
        "Working on model 116 of 264 (43.9 percent) "
       ]
      },
      {
       "output_type": "stream",
       "stream": "stdout",
       "text": [
        "\r",
        "Working on model 117 of 264 (44.3 percent) "
       ]
      },
      {
       "output_type": "stream",
       "stream": "stdout",
       "text": [
        "\r",
        "Working on model 118 of 264 (44.7 percent) "
       ]
      },
      {
       "output_type": "stream",
       "stream": "stdout",
       "text": [
        "\r",
        "Working on model 119 of 264 (45.1 percent) "
       ]
      },
      {
       "output_type": "stream",
       "stream": "stdout",
       "text": [
        "\r",
        "Working on model 120 of 264 (45.5 percent) "
       ]
      },
      {
       "output_type": "stream",
       "stream": "stdout",
       "text": [
        "\r",
        "Working on model 121 of 264 (45.8 percent) "
       ]
      },
      {
       "output_type": "stream",
       "stream": "stdout",
       "text": [
        "\r",
        "Working on model 122 of 264 (46.2 percent) "
       ]
      },
      {
       "output_type": "stream",
       "stream": "stdout",
       "text": [
        "\r",
        "Working on model 123 of 264 (46.6 percent) "
       ]
      },
      {
       "output_type": "stream",
       "stream": "stdout",
       "text": [
        "\r",
        "Working on model 124 of 264 (47.0 percent) "
       ]
      },
      {
       "output_type": "stream",
       "stream": "stdout",
       "text": [
        "\r",
        "Working on model 125 of 264 (47.3 percent) "
       ]
      },
      {
       "output_type": "stream",
       "stream": "stdout",
       "text": [
        "\r",
        "Working on model 126 of 264 (47.7 percent) "
       ]
      },
      {
       "output_type": "stream",
       "stream": "stdout",
       "text": [
        "\r",
        "Working on model 127 of 264 (48.1 percent) "
       ]
      },
      {
       "output_type": "stream",
       "stream": "stdout",
       "text": [
        "\r",
        "Working on model 128 of 264 (48.5 percent) "
       ]
      },
      {
       "output_type": "stream",
       "stream": "stdout",
       "text": [
        "\r",
        "Working on model 129 of 264 (48.9 percent) "
       ]
      },
      {
       "output_type": "stream",
       "stream": "stdout",
       "text": [
        "\r",
        "Working on model 130 of 264 (49.2 percent) "
       ]
      },
      {
       "output_type": "stream",
       "stream": "stdout",
       "text": [
        "\r",
        "Working on model 131 of 264 (49.6 percent) "
       ]
      },
      {
       "output_type": "stream",
       "stream": "stdout",
       "text": [
        "\r",
        "Working on model 132 of 264 (50.0 percent) "
       ]
      },
      {
       "output_type": "stream",
       "stream": "stdout",
       "text": [
        "\r",
        "Working on model 133 of 264 (50.4 percent) "
       ]
      },
      {
       "output_type": "stream",
       "stream": "stdout",
       "text": [
        "\r",
        "Working on model 134 of 264 (50.8 percent) "
       ]
      },
      {
       "output_type": "stream",
       "stream": "stdout",
       "text": [
        "\r",
        "Working on model 135 of 264 (51.1 percent) "
       ]
      },
      {
       "output_type": "stream",
       "stream": "stdout",
       "text": [
        "\r",
        "Working on model 136 of 264 (51.5 percent) "
       ]
      },
      {
       "output_type": "stream",
       "stream": "stdout",
       "text": [
        "\r",
        "Working on model 137 of 264 (51.9 percent) "
       ]
      },
      {
       "output_type": "stream",
       "stream": "stdout",
       "text": [
        "\r",
        "Working on model 138 of 264 (52.3 percent) "
       ]
      },
      {
       "output_type": "stream",
       "stream": "stdout",
       "text": [
        "\r",
        "Working on model 139 of 264 (52.7 percent) "
       ]
      },
      {
       "output_type": "stream",
       "stream": "stdout",
       "text": [
        "\r",
        "Working on model 140 of 264 (53.0 percent) "
       ]
      },
      {
       "output_type": "stream",
       "stream": "stdout",
       "text": [
        "\r",
        "Working on model 141 of 264 (53.4 percent) "
       ]
      },
      {
       "output_type": "stream",
       "stream": "stdout",
       "text": [
        "\r",
        "Working on model 142 of 264 (53.8 percent) "
       ]
      },
      {
       "output_type": "stream",
       "stream": "stdout",
       "text": [
        "\r",
        "Working on model 143 of 264 (54.2 percent) "
       ]
      },
      {
       "output_type": "stream",
       "stream": "stdout",
       "text": [
        "\r",
        "Working on model 144 of 264 (54.5 percent) "
       ]
      },
      {
       "output_type": "stream",
       "stream": "stdout",
       "text": [
        "\r",
        "Working on model 145 of 264 (54.9 percent) "
       ]
      },
      {
       "output_type": "stream",
       "stream": "stdout",
       "text": [
        "\r",
        "Working on model 146 of 264 (55.3 percent) "
       ]
      },
      {
       "output_type": "stream",
       "stream": "stdout",
       "text": [
        "\r",
        "Working on model 147 of 264 (55.7 percent) "
       ]
      },
      {
       "output_type": "stream",
       "stream": "stdout",
       "text": [
        "\r",
        "Working on model 148 of 264 (56.1 percent) "
       ]
      },
      {
       "output_type": "stream",
       "stream": "stdout",
       "text": [
        "\r",
        "Working on model 149 of 264 (56.4 percent) "
       ]
      },
      {
       "output_type": "stream",
       "stream": "stdout",
       "text": [
        "\r",
        "Working on model 150 of 264 (56.8 percent) "
       ]
      },
      {
       "output_type": "stream",
       "stream": "stdout",
       "text": [
        "\r",
        "Working on model 151 of 264 (57.2 percent) "
       ]
      },
      {
       "output_type": "stream",
       "stream": "stdout",
       "text": [
        "\r",
        "Working on model 152 of 264 (57.6 percent) "
       ]
      },
      {
       "output_type": "stream",
       "stream": "stdout",
       "text": [
        "\r",
        "Working on model 153 of 264 (58.0 percent) "
       ]
      },
      {
       "output_type": "stream",
       "stream": "stdout",
       "text": [
        "\r",
        "Working on model 154 of 264 (58.3 percent) "
       ]
      },
      {
       "output_type": "stream",
       "stream": "stdout",
       "text": [
        "\r",
        "Working on model 155 of 264 (58.7 percent) "
       ]
      },
      {
       "output_type": "stream",
       "stream": "stdout",
       "text": [
        "\r",
        "Working on model 156 of 264 (59.1 percent) "
       ]
      },
      {
       "output_type": "stream",
       "stream": "stdout",
       "text": [
        "\r",
        "Working on model 157 of 264 (59.5 percent) "
       ]
      },
      {
       "output_type": "stream",
       "stream": "stdout",
       "text": [
        "\r",
        "Working on model 158 of 264 (59.8 percent) "
       ]
      },
      {
       "output_type": "stream",
       "stream": "stdout",
       "text": [
        "\r",
        "Working on model 159 of 264 (60.2 percent) "
       ]
      },
      {
       "output_type": "stream",
       "stream": "stdout",
       "text": [
        "\r",
        "Working on model 160 of 264 (60.6 percent) "
       ]
      },
      {
       "output_type": "stream",
       "stream": "stdout",
       "text": [
        "\r",
        "Working on model 161 of 264 (61.0 percent) "
       ]
      },
      {
       "output_type": "stream",
       "stream": "stdout",
       "text": [
        "\r",
        "Working on model 162 of 264 (61.4 percent) "
       ]
      },
      {
       "output_type": "stream",
       "stream": "stdout",
       "text": [
        "\r",
        "Working on model 163 of 264 (61.7 percent) "
       ]
      },
      {
       "output_type": "stream",
       "stream": "stdout",
       "text": [
        "\r",
        "Working on model 164 of 264 (62.1 percent) "
       ]
      },
      {
       "output_type": "stream",
       "stream": "stdout",
       "text": [
        "\r",
        "Working on model 165 of 264 (62.5 percent) "
       ]
      },
      {
       "output_type": "stream",
       "stream": "stdout",
       "text": [
        "\r",
        "Working on model 166 of 264 (62.9 percent) "
       ]
      },
      {
       "output_type": "stream",
       "stream": "stdout",
       "text": [
        "\r",
        "Working on model 167 of 264 (63.3 percent) "
       ]
      },
      {
       "output_type": "stream",
       "stream": "stdout",
       "text": [
        "\r",
        "Working on model 168 of 264 (63.6 percent) "
       ]
      },
      {
       "output_type": "stream",
       "stream": "stdout",
       "text": [
        "\r",
        "Working on model 169 of 264 (64.0 percent) "
       ]
      },
      {
       "output_type": "stream",
       "stream": "stdout",
       "text": [
        "\r",
        "Working on model 170 of 264 (64.4 percent) "
       ]
      },
      {
       "output_type": "stream",
       "stream": "stdout",
       "text": [
        "\r",
        "Working on model 171 of 264 (64.8 percent) "
       ]
      },
      {
       "output_type": "stream",
       "stream": "stdout",
       "text": [
        "\r",
        "Working on model 172 of 264 (65.2 percent) "
       ]
      },
      {
       "output_type": "stream",
       "stream": "stdout",
       "text": [
        "\r",
        "Working on model 173 of 264 (65.5 percent) "
       ]
      },
      {
       "output_type": "stream",
       "stream": "stdout",
       "text": [
        "\r",
        "Working on model 174 of 264 (65.9 percent) "
       ]
      },
      {
       "output_type": "stream",
       "stream": "stdout",
       "text": [
        "\r",
        "Working on model 175 of 264 (66.3 percent) "
       ]
      },
      {
       "output_type": "stream",
       "stream": "stdout",
       "text": [
        "\r",
        "Working on model 176 of 264 (66.7 percent) "
       ]
      },
      {
       "output_type": "stream",
       "stream": "stdout",
       "text": [
        "\r",
        "Working on model 177 of 264 (67.0 percent) "
       ]
      },
      {
       "output_type": "stream",
       "stream": "stdout",
       "text": [
        "\r",
        "Working on model 178 of 264 (67.4 percent) "
       ]
      },
      {
       "output_type": "stream",
       "stream": "stdout",
       "text": [
        "\r",
        "Working on model 179 of 264 (67.8 percent) "
       ]
      },
      {
       "output_type": "stream",
       "stream": "stdout",
       "text": [
        "\r",
        "Working on model 180 of 264 (68.2 percent) "
       ]
      },
      {
       "output_type": "stream",
       "stream": "stdout",
       "text": [
        "\r",
        "Working on model 181 of 264 (68.6 percent) "
       ]
      },
      {
       "output_type": "stream",
       "stream": "stdout",
       "text": [
        "\r",
        "Working on model 182 of 264 (68.9 percent) "
       ]
      },
      {
       "output_type": "stream",
       "stream": "stdout",
       "text": [
        "\r",
        "Working on model 183 of 264 (69.3 percent) "
       ]
      },
      {
       "output_type": "stream",
       "stream": "stdout",
       "text": [
        "\r",
        "Working on model 184 of 264 (69.7 percent) "
       ]
      },
      {
       "output_type": "stream",
       "stream": "stdout",
       "text": [
        "\r",
        "Working on model 185 of 264 (70.1 percent) "
       ]
      },
      {
       "output_type": "stream",
       "stream": "stdout",
       "text": [
        "\r",
        "Working on model 186 of 264 (70.5 percent) "
       ]
      },
      {
       "output_type": "stream",
       "stream": "stdout",
       "text": [
        "\r",
        "Working on model 187 of 264 (70.8 percent) "
       ]
      },
      {
       "output_type": "stream",
       "stream": "stdout",
       "text": [
        "\r",
        "Working on model 188 of 264 (71.2 percent) "
       ]
      },
      {
       "output_type": "stream",
       "stream": "stdout",
       "text": [
        "\r",
        "Working on model 189 of 264 (71.6 percent) "
       ]
      },
      {
       "output_type": "stream",
       "stream": "stdout",
       "text": [
        "\r",
        "Working on model 190 of 264 (72.0 percent) "
       ]
      },
      {
       "output_type": "stream",
       "stream": "stdout",
       "text": [
        "\r",
        "Working on model 191 of 264 (72.3 percent) "
       ]
      },
      {
       "output_type": "stream",
       "stream": "stdout",
       "text": [
        "\r",
        "Working on model 192 of 264 (72.7 percent) "
       ]
      },
      {
       "output_type": "stream",
       "stream": "stdout",
       "text": [
        "\r",
        "Working on model 193 of 264 (73.1 percent) "
       ]
      },
      {
       "output_type": "stream",
       "stream": "stdout",
       "text": [
        "\r",
        "Working on model 194 of 264 (73.5 percent) "
       ]
      },
      {
       "output_type": "stream",
       "stream": "stdout",
       "text": [
        "\r",
        "Working on model 195 of 264 (73.9 percent) "
       ]
      },
      {
       "output_type": "stream",
       "stream": "stdout",
       "text": [
        "\r",
        "Working on model 196 of 264 (74.2 percent) "
       ]
      },
      {
       "output_type": "stream",
       "stream": "stdout",
       "text": [
        "\r",
        "Working on model 197 of 264 (74.6 percent) "
       ]
      },
      {
       "output_type": "stream",
       "stream": "stdout",
       "text": [
        "\r",
        "Working on model 198 of 264 (75.0 percent) "
       ]
      },
      {
       "output_type": "stream",
       "stream": "stdout",
       "text": [
        "\r",
        "Working on model 199 of 264 (75.4 percent) "
       ]
      },
      {
       "output_type": "stream",
       "stream": "stdout",
       "text": [
        "\r",
        "Working on model 200 of 264 (75.8 percent) "
       ]
      },
      {
       "output_type": "stream",
       "stream": "stdout",
       "text": [
        "\r",
        "Working on model 201 of 264 (76.1 percent) "
       ]
      },
      {
       "output_type": "stream",
       "stream": "stdout",
       "text": [
        "\r",
        "Working on model 202 of 264 (76.5 percent) "
       ]
      },
      {
       "output_type": "stream",
       "stream": "stdout",
       "text": [
        "\r",
        "Working on model 203 of 264 (76.9 percent) "
       ]
      },
      {
       "output_type": "stream",
       "stream": "stdout",
       "text": [
        "\r",
        "Working on model 204 of 264 (77.3 percent) "
       ]
      },
      {
       "output_type": "stream",
       "stream": "stdout",
       "text": [
        "\r",
        "Working on model 205 of 264 (77.7 percent) "
       ]
      },
      {
       "output_type": "stream",
       "stream": "stdout",
       "text": [
        "\r",
        "Working on model 206 of 264 (78.0 percent) "
       ]
      },
      {
       "output_type": "stream",
       "stream": "stdout",
       "text": [
        "\r",
        "Working on model 207 of 264 (78.4 percent) "
       ]
      },
      {
       "output_type": "stream",
       "stream": "stdout",
       "text": [
        "\r",
        "Working on model 208 of 264 (78.8 percent) "
       ]
      },
      {
       "output_type": "stream",
       "stream": "stdout",
       "text": [
        "\r",
        "Working on model 209 of 264 (79.2 percent) "
       ]
      },
      {
       "output_type": "stream",
       "stream": "stdout",
       "text": [
        "\r",
        "Working on model 210 of 264 (79.5 percent) "
       ]
      },
      {
       "output_type": "stream",
       "stream": "stdout",
       "text": [
        "\r",
        "Working on model 211 of 264 (79.9 percent) "
       ]
      },
      {
       "output_type": "stream",
       "stream": "stdout",
       "text": [
        "\r",
        "Working on model 212 of 264 (80.3 percent) "
       ]
      },
      {
       "output_type": "stream",
       "stream": "stdout",
       "text": [
        "\r",
        "Working on model 213 of 264 (80.7 percent) "
       ]
      },
      {
       "output_type": "stream",
       "stream": "stdout",
       "text": [
        "\r",
        "Working on model 214 of 264 (81.1 percent) "
       ]
      },
      {
       "output_type": "stream",
       "stream": "stdout",
       "text": [
        "\r",
        "Working on model 215 of 264 (81.4 percent) "
       ]
      },
      {
       "output_type": "stream",
       "stream": "stdout",
       "text": [
        "\r",
        "Working on model 216 of 264 (81.8 percent) "
       ]
      },
      {
       "output_type": "stream",
       "stream": "stdout",
       "text": [
        "\r",
        "Working on model 217 of 264 (82.2 percent) "
       ]
      },
      {
       "output_type": "stream",
       "stream": "stdout",
       "text": [
        "\r",
        "Working on model 218 of 264 (82.6 percent) "
       ]
      },
      {
       "output_type": "stream",
       "stream": "stdout",
       "text": [
        "\r",
        "Working on model 219 of 264 (83.0 percent) "
       ]
      },
      {
       "output_type": "stream",
       "stream": "stdout",
       "text": [
        "\r",
        "Working on model 220 of 264 (83.3 percent) "
       ]
      },
      {
       "output_type": "stream",
       "stream": "stdout",
       "text": [
        "\r",
        "Working on model 221 of 264 (83.7 percent) "
       ]
      },
      {
       "output_type": "stream",
       "stream": "stdout",
       "text": [
        "\r",
        "Working on model 222 of 264 (84.1 percent) "
       ]
      },
      {
       "output_type": "stream",
       "stream": "stdout",
       "text": [
        "\r",
        "Working on model 223 of 264 (84.5 percent) "
       ]
      },
      {
       "output_type": "stream",
       "stream": "stdout",
       "text": [
        "\r",
        "Working on model 224 of 264 (84.8 percent) "
       ]
      },
      {
       "output_type": "stream",
       "stream": "stdout",
       "text": [
        "\r",
        "Working on model 225 of 264 (85.2 percent) "
       ]
      },
      {
       "output_type": "stream",
       "stream": "stdout",
       "text": [
        "\r",
        "Working on model 226 of 264 (85.6 percent) "
       ]
      },
      {
       "output_type": "stream",
       "stream": "stdout",
       "text": [
        "\r",
        "Working on model 227 of 264 (86.0 percent) "
       ]
      },
      {
       "output_type": "stream",
       "stream": "stdout",
       "text": [
        "\r",
        "Working on model 228 of 264 (86.4 percent) "
       ]
      },
      {
       "output_type": "stream",
       "stream": "stdout",
       "text": [
        "\r",
        "Working on model 229 of 264 (86.7 percent) "
       ]
      },
      {
       "output_type": "stream",
       "stream": "stdout",
       "text": [
        "\r",
        "Working on model 230 of 264 (87.1 percent) "
       ]
      },
      {
       "output_type": "stream",
       "stream": "stdout",
       "text": [
        "\r",
        "Working on model 231 of 264 (87.5 percent) "
       ]
      },
      {
       "output_type": "stream",
       "stream": "stdout",
       "text": [
        "\r",
        "Working on model 232 of 264 (87.9 percent) "
       ]
      },
      {
       "output_type": "stream",
       "stream": "stdout",
       "text": [
        "\r",
        "Working on model 233 of 264 (88.3 percent) "
       ]
      },
      {
       "output_type": "stream",
       "stream": "stdout",
       "text": [
        "\r",
        "Working on model 234 of 264 (88.6 percent) "
       ]
      },
      {
       "output_type": "stream",
       "stream": "stdout",
       "text": [
        "\r",
        "Working on model 235 of 264 (89.0 percent) "
       ]
      },
      {
       "output_type": "stream",
       "stream": "stdout",
       "text": [
        "\r",
        "Working on model 236 of 264 (89.4 percent) "
       ]
      },
      {
       "output_type": "stream",
       "stream": "stdout",
       "text": [
        "\r",
        "Working on model 237 of 264 (89.8 percent) "
       ]
      },
      {
       "output_type": "stream",
       "stream": "stdout",
       "text": [
        "\r",
        "Working on model 238 of 264 (90.2 percent) "
       ]
      },
      {
       "output_type": "stream",
       "stream": "stdout",
       "text": [
        "\r",
        "Working on model 239 of 264 (90.5 percent) "
       ]
      },
      {
       "output_type": "stream",
       "stream": "stdout",
       "text": [
        "\r",
        "Working on model 240 of 264 (90.9 percent) "
       ]
      },
      {
       "output_type": "stream",
       "stream": "stdout",
       "text": [
        "\r",
        "Working on model 241 of 264 (91.3 percent) "
       ]
      },
      {
       "output_type": "stream",
       "stream": "stdout",
       "text": [
        "\r",
        "Working on model 242 of 264 (91.7 percent) "
       ]
      },
      {
       "output_type": "stream",
       "stream": "stdout",
       "text": [
        "\r",
        "Working on model 243 of 264 (92.0 percent) "
       ]
      },
      {
       "output_type": "stream",
       "stream": "stdout",
       "text": [
        "\r",
        "Working on model 244 of 264 (92.4 percent) "
       ]
      },
      {
       "output_type": "stream",
       "stream": "stdout",
       "text": [
        "\r",
        "Working on model 245 of 264 (92.8 percent) "
       ]
      },
      {
       "output_type": "stream",
       "stream": "stdout",
       "text": [
        "\r",
        "Working on model 246 of 264 (93.2 percent) "
       ]
      },
      {
       "output_type": "stream",
       "stream": "stdout",
       "text": [
        "\r",
        "Working on model 247 of 264 (93.6 percent) "
       ]
      },
      {
       "output_type": "stream",
       "stream": "stdout",
       "text": [
        "\r",
        "Working on model 248 of 264 (93.9 percent) "
       ]
      },
      {
       "output_type": "stream",
       "stream": "stdout",
       "text": [
        "\r",
        "Working on model 249 of 264 (94.3 percent) "
       ]
      },
      {
       "output_type": "stream",
       "stream": "stdout",
       "text": [
        "\r",
        "Working on model 250 of 264 (94.7 percent) "
       ]
      },
      {
       "output_type": "stream",
       "stream": "stdout",
       "text": [
        "\r",
        "Working on model 251 of 264 (95.1 percent) "
       ]
      },
      {
       "output_type": "stream",
       "stream": "stdout",
       "text": [
        "\r",
        "Working on model 252 of 264 (95.5 percent) "
       ]
      },
      {
       "output_type": "stream",
       "stream": "stdout",
       "text": [
        "\r",
        "Working on model 253 of 264 (95.8 percent) "
       ]
      },
      {
       "output_type": "stream",
       "stream": "stdout",
       "text": [
        "\r",
        "Working on model 254 of 264 (96.2 percent) "
       ]
      },
      {
       "output_type": "stream",
       "stream": "stdout",
       "text": [
        "\r",
        "Working on model 255 of 264 (96.6 percent) "
       ]
      },
      {
       "output_type": "stream",
       "stream": "stdout",
       "text": [
        "\r",
        "Working on model 256 of 264 (97.0 percent) "
       ]
      },
      {
       "output_type": "stream",
       "stream": "stdout",
       "text": [
        "\r",
        "Working on model 257 of 264 (97.3 percent) "
       ]
      },
      {
       "output_type": "stream",
       "stream": "stdout",
       "text": [
        "\r",
        "Working on model 258 of 264 (97.7 percent) "
       ]
      },
      {
       "output_type": "stream",
       "stream": "stdout",
       "text": [
        "\r",
        "Working on model 259 of 264 (98.1 percent) "
       ]
      },
      {
       "output_type": "stream",
       "stream": "stdout",
       "text": [
        "\r",
        "Working on model 260 of 264 (98.5 percent) "
       ]
      },
      {
       "output_type": "stream",
       "stream": "stdout",
       "text": [
        "\r",
        "Working on model 261 of 264 (98.9 percent) "
       ]
      },
      {
       "output_type": "stream",
       "stream": "stdout",
       "text": [
        "\r",
        "Working on model 262 of 264 (99.2 percent) "
       ]
      },
      {
       "output_type": "stream",
       "stream": "stdout",
       "text": [
        "\r",
        "Working on model 263 of 264 (99.6 percent) "
       ]
      },
      {
       "output_type": "stream",
       "stream": "stdout",
       "text": [
        "\r",
        "Working on model 264 of 264 (100.0 percent) "
       ]
      },
      {
       "output_type": "stream",
       "stream": "stdout",
       "text": [
        "\n",
        "\n"
       ]
      }
     ],
     "prompt_number": 5
    },
    {
     "cell_type": "markdown",
     "metadata": {},
     "source": [
      "Store everything to group `imgdata` in an `hdf5` file"
     ]
    },
    {
     "cell_type": "code",
     "collapsed": false,
     "input": [
      "H.store2hdf(filename='clumpy_cube_264.hdf5',groupname='imgdata')"
     ],
     "language": "python",
     "metadata": {},
     "outputs": [
      {
       "output_type": "stream",
       "stream": "stdout",
       "text": [
        "Storing results to hdf5 file\n",
        "File: ../clumpy_models/clumpy_cube_264.hdf5\n",
        "    Storing attribute:  pattern\n",
        "    Storing attribute:  rootdir\n",
        "    Storing attribute:  Nhypercubes\n",
        "    Storing attribute:  Nparam\n",
        "    Storing attribute:  hypercubenames\n",
        "    Storing attribute:  hypercubeshape\n",
        "    Storing attribute:  paramnames\n",
        "    Storing attribute:  funcname\n",
        "    Storing attribute:  theta\n",
        "    Storing attribute:  imgdata\n",
        "Closing hdf5 file."
       ]
      },
      {
       "output_type": "stream",
       "stream": "stdout",
       "text": [
        "\n"
       ]
      }
     ],
     "prompt_number": 6
    },
    {
     "cell_type": "markdown",
     "metadata": {},
     "source": [
      "Now let's also load the projected cloud maps"
     ]
    },
    {
     "cell_type": "code",
     "collapsed": false,
     "input": [
      "hypercubenames = ['clddata']\n",
      "H = hypercubizer.Hypercubes(rootdir,pattern,hypercubenames=hypercubenames,func='fitsfile_clumpy')"
     ],
     "language": "python",
     "metadata": {},
     "outputs": [
      {
       "output_type": "stream",
       "stream": "stdout",
       "text": [
        "Matching file names to pattern\n",
        "\r",
        "Working on model 1 of 265 (0.4 percent) "
       ]
      },
      {
       "output_type": "stream",
       "stream": "stdout",
       "text": [
        "\r",
        "Working on model 2 of 265 (0.8 percent) "
       ]
      },
      {
       "output_type": "stream",
       "stream": "stdout",
       "text": [
        "\r",
        "Working on model 3 of 265 (1.1 percent) "
       ]
      },
      {
       "output_type": "stream",
       "stream": "stdout",
       "text": [
        "\r",
        "Working on model 4 of 265 (1.5 percent) "
       ]
      },
      {
       "output_type": "stream",
       "stream": "stdout",
       "text": [
        "\r",
        "Working on model 5 of 265 (1.9 percent) "
       ]
      },
      {
       "output_type": "stream",
       "stream": "stdout",
       "text": [
        "\r",
        "Working on model 6 of 265 (2.3 percent) "
       ]
      },
      {
       "output_type": "stream",
       "stream": "stdout",
       "text": [
        "\r",
        "Working on model 7 of 265 (2.6 percent) "
       ]
      },
      {
       "output_type": "stream",
       "stream": "stdout",
       "text": [
        "\r",
        "Working on model 8 of 265 (3.0 percent) "
       ]
      },
      {
       "output_type": "stream",
       "stream": "stdout",
       "text": [
        "\r",
        "Working on model 9 of 265 (3.4 percent) "
       ]
      },
      {
       "output_type": "stream",
       "stream": "stdout",
       "text": [
        "\r",
        "Working on model 10 of 265 (3.8 percent) "
       ]
      },
      {
       "output_type": "stream",
       "stream": "stdout",
       "text": [
        "\r",
        "Working on model 11 of 265 (4.2 percent) "
       ]
      },
      {
       "output_type": "stream",
       "stream": "stdout",
       "text": [
        "\r",
        "Working on model 12 of 265 (4.5 percent) "
       ]
      },
      {
       "output_type": "stream",
       "stream": "stdout",
       "text": [
        "\r",
        "Working on model 13 of 265 (4.9 percent) "
       ]
      },
      {
       "output_type": "stream",
       "stream": "stdout",
       "text": [
        "\r",
        "Working on model 14 of 265 (5.3 percent) "
       ]
      },
      {
       "output_type": "stream",
       "stream": "stdout",
       "text": [
        "\r",
        "Working on model 15 of 265 (5.7 percent) "
       ]
      },
      {
       "output_type": "stream",
       "stream": "stdout",
       "text": [
        "\r",
        "Working on model 16 of 265 (6.0 percent) "
       ]
      },
      {
       "output_type": "stream",
       "stream": "stdout",
       "text": [
        "\r",
        "Working on model 17 of 265 (6.4 percent) "
       ]
      },
      {
       "output_type": "stream",
       "stream": "stdout",
       "text": [
        "\r",
        "Working on model 18 of 265 (6.8 percent) "
       ]
      },
      {
       "output_type": "stream",
       "stream": "stdout",
       "text": [
        "\r",
        "Working on model 19 of 265 (7.2 percent) "
       ]
      },
      {
       "output_type": "stream",
       "stream": "stdout",
       "text": [
        "\r",
        "Working on model 20 of 265 (7.5 percent) "
       ]
      },
      {
       "output_type": "stream",
       "stream": "stdout",
       "text": [
        "\r",
        "Working on model 21 of 265 (7.9 percent) "
       ]
      },
      {
       "output_type": "stream",
       "stream": "stdout",
       "text": [
        "\r",
        "Working on model 22 of 265 (8.3 percent) "
       ]
      },
      {
       "output_type": "stream",
       "stream": "stdout",
       "text": [
        "\r",
        "Working on model 23 of 265 (8.7 percent) "
       ]
      },
      {
       "output_type": "stream",
       "stream": "stdout",
       "text": [
        "\r",
        "Working on model 24 of 265 (9.1 percent) "
       ]
      },
      {
       "output_type": "stream",
       "stream": "stdout",
       "text": [
        "\r",
        "Working on model 25 of 265 (9.4 percent) "
       ]
      },
      {
       "output_type": "stream",
       "stream": "stdout",
       "text": [
        "\r",
        "Working on model 26 of 265 (9.8 percent) "
       ]
      },
      {
       "output_type": "stream",
       "stream": "stdout",
       "text": [
        "\r",
        "Working on model 27 of 265 (10.2 percent) "
       ]
      },
      {
       "output_type": "stream",
       "stream": "stdout",
       "text": [
        "\r",
        "Working on model 28 of 265 (10.6 percent) "
       ]
      },
      {
       "output_type": "stream",
       "stream": "stdout",
       "text": [
        "\r",
        "Working on model 29 of 265 (10.9 percent) "
       ]
      },
      {
       "output_type": "stream",
       "stream": "stdout",
       "text": [
        "\r",
        "Working on model 30 of 265 (11.3 percent) "
       ]
      },
      {
       "output_type": "stream",
       "stream": "stdout",
       "text": [
        "\r",
        "Working on model 31 of 265 (11.7 percent) "
       ]
      },
      {
       "output_type": "stream",
       "stream": "stdout",
       "text": [
        "\r",
        "Working on model 32 of 265 (12.1 percent) "
       ]
      },
      {
       "output_type": "stream",
       "stream": "stdout",
       "text": [
        "\r",
        "Working on model 33 of 265 (12.5 percent) "
       ]
      },
      {
       "output_type": "stream",
       "stream": "stdout",
       "text": [
        "\r",
        "Working on model 34 of 265 (12.8 percent) "
       ]
      },
      {
       "output_type": "stream",
       "stream": "stdout",
       "text": [
        "\r",
        "Working on model 35 of 265 (13.2 percent) "
       ]
      },
      {
       "output_type": "stream",
       "stream": "stdout",
       "text": [
        "\r",
        "Working on model 36 of 265 (13.6 percent) "
       ]
      },
      {
       "output_type": "stream",
       "stream": "stdout",
       "text": [
        "\r",
        "Working on model 37 of 265 (14.0 percent) "
       ]
      },
      {
       "output_type": "stream",
       "stream": "stdout",
       "text": [
        "\r",
        "Working on model 38 of 265 (14.3 percent) "
       ]
      },
      {
       "output_type": "stream",
       "stream": "stdout",
       "text": [
        "\r",
        "Working on model 39 of 265 (14.7 percent) "
       ]
      },
      {
       "output_type": "stream",
       "stream": "stdout",
       "text": [
        "\r",
        "Working on model 40 of 265 (15.1 percent) "
       ]
      },
      {
       "output_type": "stream",
       "stream": "stdout",
       "text": [
        "\r",
        "Working on model 41 of 265 (15.5 percent) "
       ]
      },
      {
       "output_type": "stream",
       "stream": "stdout",
       "text": [
        "\r",
        "Working on model 42 of 265 (15.8 percent) "
       ]
      },
      {
       "output_type": "stream",
       "stream": "stdout",
       "text": [
        "\r",
        "Working on model 43 of 265 (16.2 percent) "
       ]
      },
      {
       "output_type": "stream",
       "stream": "stdout",
       "text": [
        "\r",
        "Working on model 44 of 265 (16.6 percent) "
       ]
      },
      {
       "output_type": "stream",
       "stream": "stdout",
       "text": [
        "\r",
        "Working on model 45 of 265 (17.0 percent) "
       ]
      },
      {
       "output_type": "stream",
       "stream": "stdout",
       "text": [
        "\r",
        "Working on model 46 of 265 (17.4 percent) "
       ]
      },
      {
       "output_type": "stream",
       "stream": "stdout",
       "text": [
        "\r",
        "Working on model 47 of 265 (17.7 percent) "
       ]
      },
      {
       "output_type": "stream",
       "stream": "stdout",
       "text": [
        "\r",
        "Working on model 48 of 265 (18.1 percent) "
       ]
      },
      {
       "output_type": "stream",
       "stream": "stdout",
       "text": [
        "\r",
        "Working on model 49 of 265 (18.5 percent) "
       ]
      },
      {
       "output_type": "stream",
       "stream": "stdout",
       "text": [
        "\r",
        "Working on model 50 of 265 (18.9 percent) "
       ]
      },
      {
       "output_type": "stream",
       "stream": "stdout",
       "text": [
        "\r",
        "Working on model 51 of 265 (19.2 percent) "
       ]
      },
      {
       "output_type": "stream",
       "stream": "stdout",
       "text": [
        "\r",
        "Working on model 52 of 265 (19.6 percent) "
       ]
      },
      {
       "output_type": "stream",
       "stream": "stdout",
       "text": [
        "\r",
        "Working on model 53 of 265 (20.0 percent) "
       ]
      },
      {
       "output_type": "stream",
       "stream": "stdout",
       "text": [
        "\r",
        "Working on model 54 of 265 (20.4 percent) "
       ]
      },
      {
       "output_type": "stream",
       "stream": "stdout",
       "text": [
        "\r",
        "Working on model 55 of 265 (20.8 percent) "
       ]
      },
      {
       "output_type": "stream",
       "stream": "stdout",
       "text": [
        "\r",
        "Working on model 56 of 265 (21.1 percent) "
       ]
      },
      {
       "output_type": "stream",
       "stream": "stdout",
       "text": [
        "\r",
        "Working on model 57 of 265 (21.5 percent) "
       ]
      },
      {
       "output_type": "stream",
       "stream": "stdout",
       "text": [
        "\r",
        "Working on model 58 of 265 (21.9 percent) "
       ]
      },
      {
       "output_type": "stream",
       "stream": "stdout",
       "text": [
        "\r",
        "Working on model 59 of 265 (22.3 percent) "
       ]
      },
      {
       "output_type": "stream",
       "stream": "stdout",
       "text": [
        "\r",
        "Working on model 60 of 265 (22.6 percent) "
       ]
      },
      {
       "output_type": "stream",
       "stream": "stdout",
       "text": [
        "\r",
        "Working on model 61 of 265 (23.0 percent) "
       ]
      },
      {
       "output_type": "stream",
       "stream": "stdout",
       "text": [
        "\r",
        "Working on model 62 of 265 (23.4 percent) "
       ]
      },
      {
       "output_type": "stream",
       "stream": "stdout",
       "text": [
        "\r",
        "Working on model 63 of 265 (23.8 percent) "
       ]
      },
      {
       "output_type": "stream",
       "stream": "stdout",
       "text": [
        "\r",
        "Working on model 64 of 265 (24.2 percent) "
       ]
      },
      {
       "output_type": "stream",
       "stream": "stdout",
       "text": [
        "\r",
        "Working on model 65 of 265 (24.5 percent) "
       ]
      },
      {
       "output_type": "stream",
       "stream": "stdout",
       "text": [
        "\r",
        "Working on model 66 of 265 (24.9 percent) "
       ]
      },
      {
       "output_type": "stream",
       "stream": "stdout",
       "text": [
        "\r",
        "Working on model 67 of 265 (25.3 percent) "
       ]
      },
      {
       "output_type": "stream",
       "stream": "stdout",
       "text": [
        "\r",
        "Working on model 68 of 265 (25.7 percent) "
       ]
      },
      {
       "output_type": "stream",
       "stream": "stdout",
       "text": [
        "\r",
        "Working on model 69 of 265 (26.0 percent) "
       ]
      },
      {
       "output_type": "stream",
       "stream": "stdout",
       "text": [
        "\r",
        "Working on model 70 of 265 (26.4 percent) "
       ]
      },
      {
       "output_type": "stream",
       "stream": "stdout",
       "text": [
        "\r",
        "Working on model 71 of 265 (26.8 percent) "
       ]
      },
      {
       "output_type": "stream",
       "stream": "stdout",
       "text": [
        "\r",
        "Working on model 72 of 265 (27.2 percent) "
       ]
      },
      {
       "output_type": "stream",
       "stream": "stdout",
       "text": [
        "\r",
        "Working on model 73 of 265 (27.5 percent) "
       ]
      },
      {
       "output_type": "stream",
       "stream": "stdout",
       "text": [
        "\r",
        "Working on model 74 of 265 (27.9 percent) "
       ]
      },
      {
       "output_type": "stream",
       "stream": "stdout",
       "text": [
        "\r",
        "Working on model 75 of 265 (28.3 percent) "
       ]
      },
      {
       "output_type": "stream",
       "stream": "stdout",
       "text": [
        "\r",
        "Working on model 76 of 265 (28.7 percent) "
       ]
      },
      {
       "output_type": "stream",
       "stream": "stdout",
       "text": [
        "\r",
        "Working on model 77 of 265 (29.1 percent) "
       ]
      },
      {
       "output_type": "stream",
       "stream": "stdout",
       "text": [
        "\r",
        "Working on model 78 of 265 (29.4 percent) "
       ]
      },
      {
       "output_type": "stream",
       "stream": "stdout",
       "text": [
        "\r",
        "Working on model 79 of 265 (29.8 percent) "
       ]
      },
      {
       "output_type": "stream",
       "stream": "stdout",
       "text": [
        "\r",
        "Working on model 80 of 265 (30.2 percent) "
       ]
      },
      {
       "output_type": "stream",
       "stream": "stdout",
       "text": [
        "\r",
        "Working on model 81 of 265 (30.6 percent) "
       ]
      },
      {
       "output_type": "stream",
       "stream": "stdout",
       "text": [
        "\r",
        "Working on model 82 of 265 (30.9 percent) "
       ]
      },
      {
       "output_type": "stream",
       "stream": "stdout",
       "text": [
        "\r",
        "Working on model 83 of 265 (31.3 percent) "
       ]
      },
      {
       "output_type": "stream",
       "stream": "stdout",
       "text": [
        "\r",
        "Working on model 84 of 265 (31.7 percent) "
       ]
      },
      {
       "output_type": "stream",
       "stream": "stdout",
       "text": [
        "\r",
        "Working on model 85 of 265 (32.1 percent) "
       ]
      },
      {
       "output_type": "stream",
       "stream": "stdout",
       "text": [
        "\r",
        "Working on model 86 of 265 (32.5 percent) "
       ]
      },
      {
       "output_type": "stream",
       "stream": "stdout",
       "text": [
        "\r",
        "Working on model 87 of 265 (32.8 percent) "
       ]
      },
      {
       "output_type": "stream",
       "stream": "stdout",
       "text": [
        "\r",
        "Working on model 88 of 265 (33.2 percent) "
       ]
      },
      {
       "output_type": "stream",
       "stream": "stdout",
       "text": [
        "\r",
        "Working on model 89 of 265 (33.6 percent) "
       ]
      },
      {
       "output_type": "stream",
       "stream": "stdout",
       "text": [
        "\r",
        "Working on model 90 of 265 (34.0 percent) "
       ]
      },
      {
       "output_type": "stream",
       "stream": "stdout",
       "text": [
        "\r",
        "Working on model 91 of 265 (34.3 percent) "
       ]
      },
      {
       "output_type": "stream",
       "stream": "stdout",
       "text": [
        "\r",
        "Working on model 92 of 265 (34.7 percent) "
       ]
      },
      {
       "output_type": "stream",
       "stream": "stdout",
       "text": [
        "\r",
        "Working on model 93 of 265 (35.1 percent) "
       ]
      },
      {
       "output_type": "stream",
       "stream": "stdout",
       "text": [
        "\r",
        "Working on model 94 of 265 (35.5 percent) "
       ]
      },
      {
       "output_type": "stream",
       "stream": "stdout",
       "text": [
        "\r",
        "Working on model 95 of 265 (35.8 percent) "
       ]
      },
      {
       "output_type": "stream",
       "stream": "stdout",
       "text": [
        "\r",
        "Working on model 96 of 265 (36.2 percent) "
       ]
      },
      {
       "output_type": "stream",
       "stream": "stdout",
       "text": [
        "\r",
        "Working on model 97 of 265 (36.6 percent) "
       ]
      },
      {
       "output_type": "stream",
       "stream": "stdout",
       "text": [
        "\r",
        "Working on model 98 of 265 (37.0 percent) "
       ]
      },
      {
       "output_type": "stream",
       "stream": "stdout",
       "text": [
        "\r",
        "Working on model 99 of 265 (37.4 percent) "
       ]
      },
      {
       "output_type": "stream",
       "stream": "stdout",
       "text": [
        "\r",
        "Working on model 100 of 265 (37.7 percent) "
       ]
      },
      {
       "output_type": "stream",
       "stream": "stdout",
       "text": [
        "\r",
        "Working on model 101 of 265 (38.1 percent) "
       ]
      },
      {
       "output_type": "stream",
       "stream": "stdout",
       "text": [
        "\r",
        "Working on model 102 of 265 (38.5 percent) "
       ]
      },
      {
       "output_type": "stream",
       "stream": "stdout",
       "text": [
        "\r",
        "Working on model 103 of 265 (38.9 percent) "
       ]
      },
      {
       "output_type": "stream",
       "stream": "stdout",
       "text": [
        "\r",
        "Working on model 104 of 265 (39.2 percent) "
       ]
      },
      {
       "output_type": "stream",
       "stream": "stdout",
       "text": [
        "\r",
        "Working on model 105 of 265 (39.6 percent) "
       ]
      },
      {
       "output_type": "stream",
       "stream": "stdout",
       "text": [
        "\r",
        "Working on model 106 of 265 (40.0 percent) "
       ]
      },
      {
       "output_type": "stream",
       "stream": "stdout",
       "text": [
        "\r",
        "Working on model 107 of 265 (40.4 percent) "
       ]
      },
      {
       "output_type": "stream",
       "stream": "stdout",
       "text": [
        "\r",
        "Working on model 108 of 265 (40.8 percent) "
       ]
      },
      {
       "output_type": "stream",
       "stream": "stdout",
       "text": [
        "\r",
        "Working on model 109 of 265 (41.1 percent) "
       ]
      },
      {
       "output_type": "stream",
       "stream": "stdout",
       "text": [
        "\r",
        "Working on model 110 of 265 (41.5 percent) "
       ]
      },
      {
       "output_type": "stream",
       "stream": "stdout",
       "text": [
        "\r",
        "Working on model 111 of 265 (41.9 percent) "
       ]
      },
      {
       "output_type": "stream",
       "stream": "stdout",
       "text": [
        "\r",
        "Working on model 112 of 265 (42.3 percent) "
       ]
      },
      {
       "output_type": "stream",
       "stream": "stdout",
       "text": [
        "\r",
        "Working on model 113 of 265 (42.6 percent) "
       ]
      },
      {
       "output_type": "stream",
       "stream": "stdout",
       "text": [
        "\r",
        "Working on model 114 of 265 (43.0 percent) "
       ]
      },
      {
       "output_type": "stream",
       "stream": "stdout",
       "text": [
        "\r",
        "Working on model 115 of 265 (43.4 percent) "
       ]
      },
      {
       "output_type": "stream",
       "stream": "stdout",
       "text": [
        "\r",
        "Working on model 116 of 265 (43.8 percent) "
       ]
      },
      {
       "output_type": "stream",
       "stream": "stdout",
       "text": [
        "\r",
        "Working on model 117 of 265 (44.2 percent) "
       ]
      },
      {
       "output_type": "stream",
       "stream": "stdout",
       "text": [
        "\r",
        "Working on model 118 of 265 (44.5 percent) "
       ]
      },
      {
       "output_type": "stream",
       "stream": "stdout",
       "text": [
        "\r",
        "Working on model 119 of 265 (44.9 percent) "
       ]
      },
      {
       "output_type": "stream",
       "stream": "stdout",
       "text": [
        "\r",
        "Working on model 120 of 265 (45.3 percent) "
       ]
      },
      {
       "output_type": "stream",
       "stream": "stdout",
       "text": [
        "\r",
        "Working on model 121 of 265 (45.7 percent) "
       ]
      },
      {
       "output_type": "stream",
       "stream": "stdout",
       "text": [
        "\r",
        "Working on model 122 of 265 (46.0 percent) "
       ]
      },
      {
       "output_type": "stream",
       "stream": "stdout",
       "text": [
        "\r",
        "Working on model 123 of 265 (46.4 percent) "
       ]
      },
      {
       "output_type": "stream",
       "stream": "stdout",
       "text": [
        "\r",
        "Working on model 124 of 265 (46.8 percent) "
       ]
      },
      {
       "output_type": "stream",
       "stream": "stdout",
       "text": [
        "\r",
        "Working on model 125 of 265 (47.2 percent) "
       ]
      },
      {
       "output_type": "stream",
       "stream": "stdout",
       "text": [
        "\r",
        "Working on model 126 of 265 (47.5 percent) "
       ]
      },
      {
       "output_type": "stream",
       "stream": "stdout",
       "text": [
        "\r",
        "Working on model 127 of 265 (47.9 percent) "
       ]
      },
      {
       "output_type": "stream",
       "stream": "stdout",
       "text": [
        "\r",
        "Working on model 128 of 265 (48.3 percent) "
       ]
      },
      {
       "output_type": "stream",
       "stream": "stdout",
       "text": [
        "\r",
        "Working on model 129 of 265 (48.7 percent) "
       ]
      },
      {
       "output_type": "stream",
       "stream": "stdout",
       "text": [
        "\r",
        "Working on model 130 of 265 (49.1 percent) "
       ]
      },
      {
       "output_type": "stream",
       "stream": "stdout",
       "text": [
        "\r",
        "Working on model 131 of 265 (49.4 percent) "
       ]
      },
      {
       "output_type": "stream",
       "stream": "stdout",
       "text": [
        "\r",
        "Working on model 132 of 265 (49.8 percent) "
       ]
      },
      {
       "output_type": "stream",
       "stream": "stdout",
       "text": [
        "\r",
        "Working on model 133 of 265 (50.2 percent) "
       ]
      },
      {
       "output_type": "stream",
       "stream": "stdout",
       "text": [
        "\r",
        "Working on model 134 of 265 (50.6 percent) "
       ]
      },
      {
       "output_type": "stream",
       "stream": "stdout",
       "text": [
        "\r",
        "Working on model 135 of 265 (50.9 percent) "
       ]
      },
      {
       "output_type": "stream",
       "stream": "stdout",
       "text": [
        "\r",
        "Working on model 136 of 265 (51.3 percent) "
       ]
      },
      {
       "output_type": "stream",
       "stream": "stdout",
       "text": [
        "\r",
        "Working on model 137 of 265 (51.7 percent) "
       ]
      },
      {
       "output_type": "stream",
       "stream": "stdout",
       "text": [
        "\r",
        "Working on model 138 of 265 (52.1 percent) "
       ]
      },
      {
       "output_type": "stream",
       "stream": "stdout",
       "text": [
        "\r",
        "Working on model 139 of 265 (52.5 percent) "
       ]
      },
      {
       "output_type": "stream",
       "stream": "stdout",
       "text": [
        "\r",
        "Working on model 140 of 265 (52.8 percent) "
       ]
      },
      {
       "output_type": "stream",
       "stream": "stdout",
       "text": [
        "\r",
        "Working on model 141 of 265 (53.2 percent) "
       ]
      },
      {
       "output_type": "stream",
       "stream": "stdout",
       "text": [
        "\r",
        "Working on model 142 of 265 (53.6 percent) "
       ]
      },
      {
       "output_type": "stream",
       "stream": "stdout",
       "text": [
        "\r",
        "Working on model 143 of 265 (54.0 percent) "
       ]
      },
      {
       "output_type": "stream",
       "stream": "stdout",
       "text": [
        "\r",
        "Working on model 144 of 265 (54.3 percent) "
       ]
      },
      {
       "output_type": "stream",
       "stream": "stdout",
       "text": [
        "\r",
        "Working on model 145 of 265 (54.7 percent) "
       ]
      },
      {
       "output_type": "stream",
       "stream": "stdout",
       "text": [
        "\r",
        "Working on model 146 of 265 (55.1 percent) "
       ]
      },
      {
       "output_type": "stream",
       "stream": "stdout",
       "text": [
        "\r",
        "Working on model 147 of 265 (55.5 percent) "
       ]
      },
      {
       "output_type": "stream",
       "stream": "stdout",
       "text": [
        "\r",
        "Working on model 148 of 265 (55.8 percent) "
       ]
      },
      {
       "output_type": "stream",
       "stream": "stdout",
       "text": [
        "\r",
        "Working on model 149 of 265 (56.2 percent) "
       ]
      },
      {
       "output_type": "stream",
       "stream": "stdout",
       "text": [
        "\r",
        "Working on model 150 of 265 (56.6 percent) "
       ]
      },
      {
       "output_type": "stream",
       "stream": "stdout",
       "text": [
        "\r",
        "Working on model 151 of 265 (57.0 percent) "
       ]
      },
      {
       "output_type": "stream",
       "stream": "stdout",
       "text": [
        "\r",
        "Working on model 152 of 265 (57.4 percent) "
       ]
      },
      {
       "output_type": "stream",
       "stream": "stdout",
       "text": [
        "\r",
        "Working on model 153 of 265 (57.7 percent) "
       ]
      },
      {
       "output_type": "stream",
       "stream": "stdout",
       "text": [
        "\r",
        "Working on model 154 of 265 (58.1 percent) "
       ]
      },
      {
       "output_type": "stream",
       "stream": "stdout",
       "text": [
        "\r",
        "Working on model 155 of 265 (58.5 percent) "
       ]
      },
      {
       "output_type": "stream",
       "stream": "stdout",
       "text": [
        "\r",
        "Working on model 156 of 265 (58.9 percent) "
       ]
      },
      {
       "output_type": "stream",
       "stream": "stdout",
       "text": [
        "\r",
        "Working on model 157 of 265 (59.2 percent) "
       ]
      },
      {
       "output_type": "stream",
       "stream": "stdout",
       "text": [
        "\r",
        "Working on model 158 of 265 (59.6 percent) "
       ]
      },
      {
       "output_type": "stream",
       "stream": "stdout",
       "text": [
        "\r",
        "Working on model 159 of 265 (60.0 percent) "
       ]
      },
      {
       "output_type": "stream",
       "stream": "stdout",
       "text": [
        "\r",
        "Working on model 160 of 265 (60.4 percent) "
       ]
      },
      {
       "output_type": "stream",
       "stream": "stdout",
       "text": [
        "\r",
        "Working on model 161 of 265 (60.8 percent) "
       ]
      },
      {
       "output_type": "stream",
       "stream": "stdout",
       "text": [
        "\r",
        "Working on model 162 of 265 (61.1 percent) "
       ]
      },
      {
       "output_type": "stream",
       "stream": "stdout",
       "text": [
        "\r",
        "Working on model 163 of 265 (61.5 percent) "
       ]
      },
      {
       "output_type": "stream",
       "stream": "stdout",
       "text": [
        "\r",
        "Working on model 164 of 265 (61.9 percent) "
       ]
      },
      {
       "output_type": "stream",
       "stream": "stdout",
       "text": [
        "\r",
        "Working on model 165 of 265 (62.3 percent) "
       ]
      },
      {
       "output_type": "stream",
       "stream": "stdout",
       "text": [
        "\r",
        "Working on model 166 of 265 (62.6 percent) "
       ]
      },
      {
       "output_type": "stream",
       "stream": "stdout",
       "text": [
        "\r",
        "Working on model 167 of 265 (63.0 percent) "
       ]
      },
      {
       "output_type": "stream",
       "stream": "stdout",
       "text": [
        "\r",
        "Working on model 168 of 265 (63.4 percent) "
       ]
      },
      {
       "output_type": "stream",
       "stream": "stdout",
       "text": [
        "\r",
        "Working on model 169 of 265 (63.8 percent) "
       ]
      },
      {
       "output_type": "stream",
       "stream": "stdout",
       "text": [
        "\r",
        "Working on model 170 of 265 (64.2 percent) "
       ]
      },
      {
       "output_type": "stream",
       "stream": "stdout",
       "text": [
        "\r",
        "Working on model 171 of 265 (64.5 percent) "
       ]
      },
      {
       "output_type": "stream",
       "stream": "stdout",
       "text": [
        "\r",
        "Working on model 172 of 265 (64.9 percent) "
       ]
      },
      {
       "output_type": "stream",
       "stream": "stdout",
       "text": [
        "\r",
        "Working on model 173 of 265 (65.3 percent) "
       ]
      },
      {
       "output_type": "stream",
       "stream": "stdout",
       "text": [
        "\r",
        "Working on model 174 of 265 (65.7 percent) "
       ]
      },
      {
       "output_type": "stream",
       "stream": "stdout",
       "text": [
        "\r",
        "Working on model 175 of 265 (66.0 percent) "
       ]
      },
      {
       "output_type": "stream",
       "stream": "stdout",
       "text": [
        "\r",
        "Working on model 176 of 265 (66.4 percent) "
       ]
      },
      {
       "output_type": "stream",
       "stream": "stdout",
       "text": [
        "\r",
        "Working on model 177 of 265 (66.8 percent) "
       ]
      },
      {
       "output_type": "stream",
       "stream": "stdout",
       "text": [
        "\r",
        "Working on model 178 of 265 (67.2 percent) "
       ]
      },
      {
       "output_type": "stream",
       "stream": "stdout",
       "text": [
        "\r",
        "Working on model 179 of 265 (67.5 percent) "
       ]
      },
      {
       "output_type": "stream",
       "stream": "stdout",
       "text": [
        "\r",
        "Working on model 180 of 265 (67.9 percent) "
       ]
      },
      {
       "output_type": "stream",
       "stream": "stdout",
       "text": [
        "\r",
        "Working on model 181 of 265 (68.3 percent) "
       ]
      },
      {
       "output_type": "stream",
       "stream": "stdout",
       "text": [
        "\r",
        "Working on model 182 of 265 (68.7 percent) "
       ]
      },
      {
       "output_type": "stream",
       "stream": "stdout",
       "text": [
        "\r",
        "Working on model 183 of 265 (69.1 percent) "
       ]
      },
      {
       "output_type": "stream",
       "stream": "stdout",
       "text": [
        "\r",
        "Working on model 184 of 265 (69.4 percent) "
       ]
      },
      {
       "output_type": "stream",
       "stream": "stdout",
       "text": [
        "\r",
        "Working on model 185 of 265 (69.8 percent) "
       ]
      },
      {
       "output_type": "stream",
       "stream": "stdout",
       "text": [
        "\r",
        "Working on model 186 of 265 (70.2 percent) "
       ]
      },
      {
       "output_type": "stream",
       "stream": "stdout",
       "text": [
        "\r",
        "Working on model 187 of 265 (70.6 percent) "
       ]
      },
      {
       "output_type": "stream",
       "stream": "stdout",
       "text": [
        "\r",
        "Working on model 188 of 265 (70.9 percent) "
       ]
      },
      {
       "output_type": "stream",
       "stream": "stdout",
       "text": [
        "\r",
        "Working on model 189 of 265 (71.3 percent) "
       ]
      },
      {
       "output_type": "stream",
       "stream": "stdout",
       "text": [
        "\r",
        "Working on model 190 of 265 (71.7 percent) "
       ]
      },
      {
       "output_type": "stream",
       "stream": "stdout",
       "text": [
        "\r",
        "Working on model 191 of 265 (72.1 percent) "
       ]
      },
      {
       "output_type": "stream",
       "stream": "stdout",
       "text": [
        "\r",
        "Working on model 192 of 265 (72.5 percent) "
       ]
      },
      {
       "output_type": "stream",
       "stream": "stdout",
       "text": [
        "\r",
        "Working on model 193 of 265 (72.8 percent) "
       ]
      },
      {
       "output_type": "stream",
       "stream": "stdout",
       "text": [
        "\r",
        "Working on model 194 of 265 (73.2 percent) "
       ]
      },
      {
       "output_type": "stream",
       "stream": "stdout",
       "text": [
        "\r",
        "Working on model 195 of 265 (73.6 percent) "
       ]
      },
      {
       "output_type": "stream",
       "stream": "stdout",
       "text": [
        "\r",
        "Working on model 196 of 265 (74.0 percent) "
       ]
      },
      {
       "output_type": "stream",
       "stream": "stdout",
       "text": [
        "\r",
        "Working on model 197 of 265 (74.3 percent) "
       ]
      },
      {
       "output_type": "stream",
       "stream": "stdout",
       "text": [
        "\r",
        "Working on model 198 of 265 (74.7 percent) "
       ]
      },
      {
       "output_type": "stream",
       "stream": "stdout",
       "text": [
        "\r",
        "Working on model 199 of 265 (75.1 percent) "
       ]
      },
      {
       "output_type": "stream",
       "stream": "stdout",
       "text": [
        "\r",
        "Working on model 200 of 265 (75.5 percent) "
       ]
      },
      {
       "output_type": "stream",
       "stream": "stdout",
       "text": [
        "\r",
        "Working on model 201 of 265 (75.8 percent) "
       ]
      },
      {
       "output_type": "stream",
       "stream": "stdout",
       "text": [
        "\r",
        "Working on model 202 of 265 (76.2 percent) "
       ]
      },
      {
       "output_type": "stream",
       "stream": "stdout",
       "text": [
        "\r",
        "Working on model 203 of 265 (76.6 percent) "
       ]
      },
      {
       "output_type": "stream",
       "stream": "stdout",
       "text": [
        "\r",
        "Working on model 204 of 265 (77.0 percent) "
       ]
      },
      {
       "output_type": "stream",
       "stream": "stdout",
       "text": [
        "\r",
        "Working on model 205 of 265 (77.4 percent) "
       ]
      },
      {
       "output_type": "stream",
       "stream": "stdout",
       "text": [
        "\r",
        "Working on model 206 of 265 (77.7 percent) "
       ]
      },
      {
       "output_type": "stream",
       "stream": "stdout",
       "text": [
        "\r",
        "Working on model 207 of 265 (78.1 percent) "
       ]
      },
      {
       "output_type": "stream",
       "stream": "stdout",
       "text": [
        "\r",
        "Working on model 208 of 265 (78.5 percent) "
       ]
      },
      {
       "output_type": "stream",
       "stream": "stdout",
       "text": [
        "\r",
        "Working on model 209 of 265 (78.9 percent) "
       ]
      },
      {
       "output_type": "stream",
       "stream": "stdout",
       "text": [
        "\r",
        "Working on model 210 of 265 (79.2 percent) "
       ]
      },
      {
       "output_type": "stream",
       "stream": "stdout",
       "text": [
        "\r",
        "Working on model 211 of 265 (79.6 percent) "
       ]
      },
      {
       "output_type": "stream",
       "stream": "stdout",
       "text": [
        "\r",
        "Working on model 212 of 265 (80.0 percent) "
       ]
      },
      {
       "output_type": "stream",
       "stream": "stdout",
       "text": [
        "\r",
        "Working on model 213 of 265 (80.4 percent) "
       ]
      },
      {
       "output_type": "stream",
       "stream": "stdout",
       "text": [
        "\r",
        "Working on model 214 of 265 (80.8 percent) "
       ]
      },
      {
       "output_type": "stream",
       "stream": "stdout",
       "text": [
        "\r",
        "Working on model 215 of 265 (81.1 percent) "
       ]
      },
      {
       "output_type": "stream",
       "stream": "stdout",
       "text": [
        "\r",
        "Working on model 216 of 265 (81.5 percent) "
       ]
      },
      {
       "output_type": "stream",
       "stream": "stdout",
       "text": [
        "\r",
        "Working on model 217 of 265 (81.9 percent) "
       ]
      },
      {
       "output_type": "stream",
       "stream": "stdout",
       "text": [
        "\r",
        "Working on model 218 of 265 (82.3 percent) "
       ]
      },
      {
       "output_type": "stream",
       "stream": "stdout",
       "text": [
        "\r",
        "Working on model 219 of 265 (82.6 percent) "
       ]
      },
      {
       "output_type": "stream",
       "stream": "stdout",
       "text": [
        "\r",
        "Working on model 220 of 265 (83.0 percent) "
       ]
      },
      {
       "output_type": "stream",
       "stream": "stdout",
       "text": [
        "\r",
        "Working on model 221 of 265 (83.4 percent) "
       ]
      },
      {
       "output_type": "stream",
       "stream": "stdout",
       "text": [
        "\r",
        "Working on model 222 of 265 (83.8 percent) "
       ]
      },
      {
       "output_type": "stream",
       "stream": "stdout",
       "text": [
        "\r",
        "Working on model 223 of 265 (84.2 percent) "
       ]
      },
      {
       "output_type": "stream",
       "stream": "stdout",
       "text": [
        "\r",
        "Working on model 224 of 265 (84.5 percent) "
       ]
      },
      {
       "output_type": "stream",
       "stream": "stdout",
       "text": [
        "\r",
        "Working on model 225 of 265 (84.9 percent) "
       ]
      },
      {
       "output_type": "stream",
       "stream": "stdout",
       "text": [
        "\r",
        "Working on model 226 of 265 (85.3 percent) "
       ]
      },
      {
       "output_type": "stream",
       "stream": "stdout",
       "text": [
        "\r",
        "Working on model 227 of 265 (85.7 percent) "
       ]
      },
      {
       "output_type": "stream",
       "stream": "stdout",
       "text": [
        "\r",
        "Working on model 228 of 265 (86.0 percent) "
       ]
      },
      {
       "output_type": "stream",
       "stream": "stdout",
       "text": [
        "\r",
        "Working on model 229 of 265 (86.4 percent) "
       ]
      },
      {
       "output_type": "stream",
       "stream": "stdout",
       "text": [
        "\r",
        "Working on model 230 of 265 (86.8 percent) "
       ]
      },
      {
       "output_type": "stream",
       "stream": "stdout",
       "text": [
        "\r",
        "Working on model 231 of 265 (87.2 percent) "
       ]
      },
      {
       "output_type": "stream",
       "stream": "stdout",
       "text": [
        "\r",
        "Working on model 232 of 265 (87.5 percent) "
       ]
      },
      {
       "output_type": "stream",
       "stream": "stdout",
       "text": [
        "\r",
        "Working on model 233 of 265 (87.9 percent) "
       ]
      },
      {
       "output_type": "stream",
       "stream": "stdout",
       "text": [
        "\r",
        "Working on model 234 of 265 (88.3 percent) "
       ]
      },
      {
       "output_type": "stream",
       "stream": "stdout",
       "text": [
        "\r",
        "Working on model 235 of 265 (88.7 percent) "
       ]
      },
      {
       "output_type": "stream",
       "stream": "stdout",
       "text": [
        "\r",
        "Working on model 236 of 265 (89.1 percent) "
       ]
      },
      {
       "output_type": "stream",
       "stream": "stdout",
       "text": [
        "\r",
        "Working on model 237 of 265 (89.4 percent) "
       ]
      },
      {
       "output_type": "stream",
       "stream": "stdout",
       "text": [
        "\r",
        "Working on model 238 of 265 (89.8 percent) "
       ]
      },
      {
       "output_type": "stream",
       "stream": "stdout",
       "text": [
        "\r",
        "Working on model 239 of 265 (90.2 percent) "
       ]
      },
      {
       "output_type": "stream",
       "stream": "stdout",
       "text": [
        "\r",
        "Working on model 240 of 265 (90.6 percent) "
       ]
      },
      {
       "output_type": "stream",
       "stream": "stdout",
       "text": [
        "\r",
        "Working on model 241 of 265 (90.9 percent) "
       ]
      },
      {
       "output_type": "stream",
       "stream": "stdout",
       "text": [
        "\r",
        "Working on model 242 of 265 (91.3 percent) "
       ]
      },
      {
       "output_type": "stream",
       "stream": "stdout",
       "text": [
        "\r",
        "Working on model 243 of 265 (91.7 percent) "
       ]
      },
      {
       "output_type": "stream",
       "stream": "stdout",
       "text": [
        "\r",
        "Working on model 244 of 265 (92.1 percent) "
       ]
      },
      {
       "output_type": "stream",
       "stream": "stdout",
       "text": [
        "\r",
        "Working on model 245 of 265 (92.5 percent) "
       ]
      },
      {
       "output_type": "stream",
       "stream": "stdout",
       "text": [
        "\r",
        "Working on model 246 of 265 (92.8 percent) "
       ]
      },
      {
       "output_type": "stream",
       "stream": "stdout",
       "text": [
        "\r",
        "Working on model 247 of 265 (93.2 percent) "
       ]
      },
      {
       "output_type": "stream",
       "stream": "stdout",
       "text": [
        "\r",
        "Working on model 248 of 265 (93.6 percent) "
       ]
      },
      {
       "output_type": "stream",
       "stream": "stdout",
       "text": [
        "\r",
        "Working on model 249 of 265 (94.0 percent) "
       ]
      },
      {
       "output_type": "stream",
       "stream": "stdout",
       "text": [
        "\r",
        "Working on model 250 of 265 (94.3 percent) "
       ]
      },
      {
       "output_type": "stream",
       "stream": "stdout",
       "text": [
        "\r",
        "Working on model 251 of 265 (94.7 percent) "
       ]
      },
      {
       "output_type": "stream",
       "stream": "stdout",
       "text": [
        "\r",
        "Working on model 252 of 265 (95.1 percent) "
       ]
      },
      {
       "output_type": "stream",
       "stream": "stdout",
       "text": [
        "\r",
        "Working on model 253 of 265 (95.5 percent) "
       ]
      },
      {
       "output_type": "stream",
       "stream": "stdout",
       "text": [
        "\r",
        "Working on model 254 of 265 (95.8 percent) "
       ]
      },
      {
       "output_type": "stream",
       "stream": "stdout",
       "text": [
        "\r",
        "Working on model 255 of 265 (96.2 percent) "
       ]
      },
      {
       "output_type": "stream",
       "stream": "stdout",
       "text": [
        "\r",
        "Working on model 256 of 265 (96.6 percent) "
       ]
      },
      {
       "output_type": "stream",
       "stream": "stdout",
       "text": [
        "\r",
        "Working on model 257 of 265 (97.0 percent) "
       ]
      },
      {
       "output_type": "stream",
       "stream": "stdout",
       "text": [
        "\r",
        "Working on model 258 of 265 (97.4 percent) "
       ]
      },
      {
       "output_type": "stream",
       "stream": "stdout",
       "text": [
        "\r",
        "Working on model 259 of 265 (97.7 percent) "
       ]
      },
      {
       "output_type": "stream",
       "stream": "stdout",
       "text": [
        "\r",
        "Working on model 260 of 265 (98.1 percent) "
       ]
      },
      {
       "output_type": "stream",
       "stream": "stdout",
       "text": [
        "\r",
        "Working on model 261 of 265 (98.5 percent) "
       ]
      },
      {
       "output_type": "stream",
       "stream": "stdout",
       "text": [
        "\r",
        "Working on model 262 of 265 (98.9 percent) "
       ]
      },
      {
       "output_type": "stream",
       "stream": "stdout",
       "text": [
        "\r",
        "Working on model 263 of 265 (99.2 percent) "
       ]
      },
      {
       "output_type": "stream",
       "stream": "stdout",
       "text": [
        "\r",
        "Working on model 264 of 265 (99.6 percent) "
       ]
      },
      {
       "output_type": "stream",
       "stream": "stdout",
       "text": [
        "\r",
        "Working on model 265 of 265 (100.0 percent) "
       ]
      },
      {
       "output_type": "stream",
       "stream": "stdout",
       "text": [
        "\n",
        "\n",
        "Converting matched models to hypercubes\n",
        "\r",
        "Working on model 1 of 264 (0.4 percent) "
       ]
      },
      {
       "output_type": "stream",
       "stream": "stdout",
       "text": [
        "\r",
        "Working on model 2 of 264 (0.8 percent) "
       ]
      },
      {
       "output_type": "stream",
       "stream": "stdout",
       "text": [
        "\r",
        "Working on model 3 of 264 (1.1 percent) "
       ]
      },
      {
       "output_type": "stream",
       "stream": "stdout",
       "text": [
        "\r",
        "Working on model 4 of 264 (1.5 percent) "
       ]
      },
      {
       "output_type": "stream",
       "stream": "stdout",
       "text": [
        "\r",
        "Working on model 5 of 264 (1.9 percent) "
       ]
      },
      {
       "output_type": "stream",
       "stream": "stdout",
       "text": [
        "\r",
        "Working on model 6 of 264 (2.3 percent) "
       ]
      },
      {
       "output_type": "stream",
       "stream": "stdout",
       "text": [
        "\r",
        "Working on model 7 of 264 (2.7 percent) "
       ]
      },
      {
       "output_type": "stream",
       "stream": "stdout",
       "text": [
        "\r",
        "Working on model 8 of 264 (3.0 percent) "
       ]
      },
      {
       "output_type": "stream",
       "stream": "stdout",
       "text": [
        "\r",
        "Working on model 9 of 264 (3.4 percent) "
       ]
      },
      {
       "output_type": "stream",
       "stream": "stdout",
       "text": [
        "\r",
        "Working on model 10 of 264 (3.8 percent) "
       ]
      },
      {
       "output_type": "stream",
       "stream": "stdout",
       "text": [
        "\r",
        "Working on model 11 of 264 (4.2 percent) "
       ]
      },
      {
       "output_type": "stream",
       "stream": "stdout",
       "text": [
        "\r",
        "Working on model 12 of 264 (4.5 percent) "
       ]
      },
      {
       "output_type": "stream",
       "stream": "stdout",
       "text": [
        "\r",
        "Working on model 13 of 264 (4.9 percent) "
       ]
      },
      {
       "output_type": "stream",
       "stream": "stdout",
       "text": [
        "\r",
        "Working on model 14 of 264 (5.3 percent) "
       ]
      },
      {
       "output_type": "stream",
       "stream": "stdout",
       "text": [
        "\r",
        "Working on model 15 of 264 (5.7 percent) "
       ]
      },
      {
       "output_type": "stream",
       "stream": "stdout",
       "text": [
        "\r",
        "Working on model 16 of 264 (6.1 percent) "
       ]
      },
      {
       "output_type": "stream",
       "stream": "stdout",
       "text": [
        "\r",
        "Working on model 17 of 264 (6.4 percent) "
       ]
      },
      {
       "output_type": "stream",
       "stream": "stdout",
       "text": [
        "\r",
        "Working on model 18 of 264 (6.8 percent) "
       ]
      },
      {
       "output_type": "stream",
       "stream": "stdout",
       "text": [
        "\r",
        "Working on model 19 of 264 (7.2 percent) "
       ]
      },
      {
       "output_type": "stream",
       "stream": "stdout",
       "text": [
        "\r",
        "Working on model 20 of 264 (7.6 percent) "
       ]
      },
      {
       "output_type": "stream",
       "stream": "stdout",
       "text": [
        "\r",
        "Working on model 21 of 264 (8.0 percent) "
       ]
      },
      {
       "output_type": "stream",
       "stream": "stdout",
       "text": [
        "\r",
        "Working on model 22 of 264 (8.3 percent) "
       ]
      },
      {
       "output_type": "stream",
       "stream": "stdout",
       "text": [
        "\r",
        "Working on model 23 of 264 (8.7 percent) "
       ]
      },
      {
       "output_type": "stream",
       "stream": "stdout",
       "text": [
        "\r",
        "Working on model 24 of 264 (9.1 percent) "
       ]
      },
      {
       "output_type": "stream",
       "stream": "stdout",
       "text": [
        "\r",
        "Working on model 25 of 264 (9.5 percent) "
       ]
      },
      {
       "output_type": "stream",
       "stream": "stdout",
       "text": [
        "\r",
        "Working on model 26 of 264 (9.8 percent) "
       ]
      },
      {
       "output_type": "stream",
       "stream": "stdout",
       "text": [
        "\r",
        "Working on model 27 of 264 (10.2 percent) "
       ]
      },
      {
       "output_type": "stream",
       "stream": "stdout",
       "text": [
        "\r",
        "Working on model 28 of 264 (10.6 percent) "
       ]
      },
      {
       "output_type": "stream",
       "stream": "stdout",
       "text": [
        "\r",
        "Working on model 29 of 264 (11.0 percent) "
       ]
      },
      {
       "output_type": "stream",
       "stream": "stdout",
       "text": [
        "\r",
        "Working on model 30 of 264 (11.4 percent) "
       ]
      },
      {
       "output_type": "stream",
       "stream": "stdout",
       "text": [
        "\r",
        "Working on model 31 of 264 (11.7 percent) "
       ]
      },
      {
       "output_type": "stream",
       "stream": "stdout",
       "text": [
        "\r",
        "Working on model 32 of 264 (12.1 percent) "
       ]
      },
      {
       "output_type": "stream",
       "stream": "stdout",
       "text": [
        "\r",
        "Working on model 33 of 264 (12.5 percent) "
       ]
      },
      {
       "output_type": "stream",
       "stream": "stdout",
       "text": [
        "\r",
        "Working on model 34 of 264 (12.9 percent) "
       ]
      },
      {
       "output_type": "stream",
       "stream": "stdout",
       "text": [
        "\r",
        "Working on model 35 of 264 (13.3 percent) "
       ]
      },
      {
       "output_type": "stream",
       "stream": "stdout",
       "text": [
        "\r",
        "Working on model 36 of 264 (13.6 percent) "
       ]
      },
      {
       "output_type": "stream",
       "stream": "stdout",
       "text": [
        "\r",
        "Working on model 37 of 264 (14.0 percent) "
       ]
      },
      {
       "output_type": "stream",
       "stream": "stdout",
       "text": [
        "\r",
        "Working on model 38 of 264 (14.4 percent) "
       ]
      },
      {
       "output_type": "stream",
       "stream": "stdout",
       "text": [
        "\r",
        "Working on model 39 of 264 (14.8 percent) "
       ]
      },
      {
       "output_type": "stream",
       "stream": "stdout",
       "text": [
        "\r",
        "Working on model 40 of 264 (15.2 percent) "
       ]
      },
      {
       "output_type": "stream",
       "stream": "stdout",
       "text": [
        "\r",
        "Working on model 41 of 264 (15.5 percent) "
       ]
      },
      {
       "output_type": "stream",
       "stream": "stdout",
       "text": [
        "\r",
        "Working on model 42 of 264 (15.9 percent) "
       ]
      },
      {
       "output_type": "stream",
       "stream": "stdout",
       "text": [
        "\r",
        "Working on model 43 of 264 (16.3 percent) "
       ]
      },
      {
       "output_type": "stream",
       "stream": "stdout",
       "text": [
        "\r",
        "Working on model 44 of 264 (16.7 percent) "
       ]
      },
      {
       "output_type": "stream",
       "stream": "stdout",
       "text": [
        "\r",
        "Working on model 45 of 264 (17.0 percent) "
       ]
      },
      {
       "output_type": "stream",
       "stream": "stdout",
       "text": [
        "\r",
        "Working on model 46 of 264 (17.4 percent) "
       ]
      },
      {
       "output_type": "stream",
       "stream": "stdout",
       "text": [
        "\r",
        "Working on model 47 of 264 (17.8 percent) "
       ]
      },
      {
       "output_type": "stream",
       "stream": "stdout",
       "text": [
        "\r",
        "Working on model 48 of 264 (18.2 percent) "
       ]
      },
      {
       "output_type": "stream",
       "stream": "stdout",
       "text": [
        "\r",
        "Working on model 49 of 264 (18.6 percent) "
       ]
      },
      {
       "output_type": "stream",
       "stream": "stdout",
       "text": [
        "\r",
        "Working on model 50 of 264 (18.9 percent) "
       ]
      },
      {
       "output_type": "stream",
       "stream": "stdout",
       "text": [
        "\r",
        "Working on model 51 of 264 (19.3 percent) "
       ]
      },
      {
       "output_type": "stream",
       "stream": "stdout",
       "text": [
        "\r",
        "Working on model 52 of 264 (19.7 percent) "
       ]
      },
      {
       "output_type": "stream",
       "stream": "stdout",
       "text": [
        "\r",
        "Working on model 53 of 264 (20.1 percent) "
       ]
      },
      {
       "output_type": "stream",
       "stream": "stdout",
       "text": [
        "\r",
        "Working on model 54 of 264 (20.5 percent) "
       ]
      },
      {
       "output_type": "stream",
       "stream": "stdout",
       "text": [
        "\r",
        "Working on model 55 of 264 (20.8 percent) "
       ]
      },
      {
       "output_type": "stream",
       "stream": "stdout",
       "text": [
        "\r",
        "Working on model 56 of 264 (21.2 percent) "
       ]
      },
      {
       "output_type": "stream",
       "stream": "stdout",
       "text": [
        "\r",
        "Working on model 57 of 264 (21.6 percent) "
       ]
      },
      {
       "output_type": "stream",
       "stream": "stdout",
       "text": [
        "\r",
        "Working on model 58 of 264 (22.0 percent) "
       ]
      },
      {
       "output_type": "stream",
       "stream": "stdout",
       "text": [
        "\r",
        "Working on model 59 of 264 (22.3 percent) "
       ]
      },
      {
       "output_type": "stream",
       "stream": "stdout",
       "text": [
        "\r",
        "Working on model 60 of 264 (22.7 percent) "
       ]
      },
      {
       "output_type": "stream",
       "stream": "stdout",
       "text": [
        "\r",
        "Working on model 61 of 264 (23.1 percent) "
       ]
      },
      {
       "output_type": "stream",
       "stream": "stdout",
       "text": [
        "\r",
        "Working on model 62 of 264 (23.5 percent) "
       ]
      },
      {
       "output_type": "stream",
       "stream": "stdout",
       "text": [
        "\r",
        "Working on model 63 of 264 (23.9 percent) "
       ]
      },
      {
       "output_type": "stream",
       "stream": "stdout",
       "text": [
        "\r",
        "Working on model 64 of 264 (24.2 percent) "
       ]
      },
      {
       "output_type": "stream",
       "stream": "stdout",
       "text": [
        "\r",
        "Working on model 65 of 264 (24.6 percent) "
       ]
      },
      {
       "output_type": "stream",
       "stream": "stdout",
       "text": [
        "\r",
        "Working on model 66 of 264 (25.0 percent) "
       ]
      },
      {
       "output_type": "stream",
       "stream": "stdout",
       "text": [
        "\r",
        "Working on model 67 of 264 (25.4 percent) "
       ]
      },
      {
       "output_type": "stream",
       "stream": "stdout",
       "text": [
        "\r",
        "Working on model 68 of 264 (25.8 percent) "
       ]
      },
      {
       "output_type": "stream",
       "stream": "stdout",
       "text": [
        "\r",
        "Working on model 69 of 264 (26.1 percent) "
       ]
      },
      {
       "output_type": "stream",
       "stream": "stdout",
       "text": [
        "\r",
        "Working on model 70 of 264 (26.5 percent) "
       ]
      },
      {
       "output_type": "stream",
       "stream": "stdout",
       "text": [
        "\r",
        "Working on model 71 of 264 (26.9 percent) "
       ]
      },
      {
       "output_type": "stream",
       "stream": "stdout",
       "text": [
        "\r",
        "Working on model 72 of 264 (27.3 percent) "
       ]
      },
      {
       "output_type": "stream",
       "stream": "stdout",
       "text": [
        "\r",
        "Working on model 73 of 264 (27.7 percent) "
       ]
      },
      {
       "output_type": "stream",
       "stream": "stdout",
       "text": [
        "\r",
        "Working on model 74 of 264 (28.0 percent) "
       ]
      },
      {
       "output_type": "stream",
       "stream": "stdout",
       "text": [
        "\r",
        "Working on model 75 of 264 (28.4 percent) "
       ]
      },
      {
       "output_type": "stream",
       "stream": "stdout",
       "text": [
        "\r",
        "Working on model 76 of 264 (28.8 percent) "
       ]
      },
      {
       "output_type": "stream",
       "stream": "stdout",
       "text": [
        "\r",
        "Working on model 77 of 264 (29.2 percent) "
       ]
      },
      {
       "output_type": "stream",
       "stream": "stdout",
       "text": [
        "\r",
        "Working on model 78 of 264 (29.5 percent) "
       ]
      },
      {
       "output_type": "stream",
       "stream": "stdout",
       "text": [
        "\r",
        "Working on model 79 of 264 (29.9 percent) "
       ]
      },
      {
       "output_type": "stream",
       "stream": "stdout",
       "text": [
        "\r",
        "Working on model 80 of 264 (30.3 percent) "
       ]
      },
      {
       "output_type": "stream",
       "stream": "stdout",
       "text": [
        "\r",
        "Working on model 81 of 264 (30.7 percent) "
       ]
      },
      {
       "output_type": "stream",
       "stream": "stdout",
       "text": [
        "\r",
        "Working on model 82 of 264 (31.1 percent) "
       ]
      },
      {
       "output_type": "stream",
       "stream": "stdout",
       "text": [
        "\r",
        "Working on model 83 of 264 (31.4 percent) "
       ]
      },
      {
       "output_type": "stream",
       "stream": "stdout",
       "text": [
        "\r",
        "Working on model 84 of 264 (31.8 percent) "
       ]
      },
      {
       "output_type": "stream",
       "stream": "stdout",
       "text": [
        "\r",
        "Working on model 85 of 264 (32.2 percent) "
       ]
      },
      {
       "output_type": "stream",
       "stream": "stdout",
       "text": [
        "\r",
        "Working on model 86 of 264 (32.6 percent) "
       ]
      },
      {
       "output_type": "stream",
       "stream": "stdout",
       "text": [
        "\r",
        "Working on model 87 of 264 (33.0 percent) "
       ]
      },
      {
       "output_type": "stream",
       "stream": "stdout",
       "text": [
        "\r",
        "Working on model 88 of 264 (33.3 percent) "
       ]
      },
      {
       "output_type": "stream",
       "stream": "stdout",
       "text": [
        "\r",
        "Working on model 89 of 264 (33.7 percent) "
       ]
      },
      {
       "output_type": "stream",
       "stream": "stdout",
       "text": [
        "\r",
        "Working on model 90 of 264 (34.1 percent) "
       ]
      },
      {
       "output_type": "stream",
       "stream": "stdout",
       "text": [
        "\r",
        "Working on model 91 of 264 (34.5 percent) "
       ]
      },
      {
       "output_type": "stream",
       "stream": "stdout",
       "text": [
        "\r",
        "Working on model 92 of 264 (34.8 percent) "
       ]
      },
      {
       "output_type": "stream",
       "stream": "stdout",
       "text": [
        "\r",
        "Working on model 93 of 264 (35.2 percent) "
       ]
      },
      {
       "output_type": "stream",
       "stream": "stdout",
       "text": [
        "\r",
        "Working on model 94 of 264 (35.6 percent) "
       ]
      },
      {
       "output_type": "stream",
       "stream": "stdout",
       "text": [
        "\r",
        "Working on model 95 of 264 (36.0 percent) "
       ]
      },
      {
       "output_type": "stream",
       "stream": "stdout",
       "text": [
        "\r",
        "Working on model 96 of 264 (36.4 percent) "
       ]
      },
      {
       "output_type": "stream",
       "stream": "stdout",
       "text": [
        "\r",
        "Working on model 97 of 264 (36.7 percent) "
       ]
      },
      {
       "output_type": "stream",
       "stream": "stdout",
       "text": [
        "\r",
        "Working on model 98 of 264 (37.1 percent) "
       ]
      },
      {
       "output_type": "stream",
       "stream": "stdout",
       "text": [
        "\r",
        "Working on model 99 of 264 (37.5 percent) "
       ]
      },
      {
       "output_type": "stream",
       "stream": "stdout",
       "text": [
        "\r",
        "Working on model 100 of 264 (37.9 percent) "
       ]
      },
      {
       "output_type": "stream",
       "stream": "stdout",
       "text": [
        "\r",
        "Working on model 101 of 264 (38.3 percent) "
       ]
      },
      {
       "output_type": "stream",
       "stream": "stdout",
       "text": [
        "\r",
        "Working on model 102 of 264 (38.6 percent) "
       ]
      },
      {
       "output_type": "stream",
       "stream": "stdout",
       "text": [
        "\r",
        "Working on model 103 of 264 (39.0 percent) "
       ]
      },
      {
       "output_type": "stream",
       "stream": "stdout",
       "text": [
        "\r",
        "Working on model 104 of 264 (39.4 percent) "
       ]
      },
      {
       "output_type": "stream",
       "stream": "stdout",
       "text": [
        "\r",
        "Working on model 105 of 264 (39.8 percent) "
       ]
      },
      {
       "output_type": "stream",
       "stream": "stdout",
       "text": [
        "\r",
        "Working on model 106 of 264 (40.2 percent) "
       ]
      },
      {
       "output_type": "stream",
       "stream": "stdout",
       "text": [
        "\r",
        "Working on model 107 of 264 (40.5 percent) "
       ]
      },
      {
       "output_type": "stream",
       "stream": "stdout",
       "text": [
        "\r",
        "Working on model 108 of 264 (40.9 percent) "
       ]
      },
      {
       "output_type": "stream",
       "stream": "stdout",
       "text": [
        "\r",
        "Working on model 109 of 264 (41.3 percent) "
       ]
      },
      {
       "output_type": "stream",
       "stream": "stdout",
       "text": [
        "\r",
        "Working on model 110 of 264 (41.7 percent) "
       ]
      },
      {
       "output_type": "stream",
       "stream": "stdout",
       "text": [
        "\r",
        "Working on model 111 of 264 (42.0 percent) "
       ]
      },
      {
       "output_type": "stream",
       "stream": "stdout",
       "text": [
        "\r",
        "Working on model 112 of 264 (42.4 percent) "
       ]
      },
      {
       "output_type": "stream",
       "stream": "stdout",
       "text": [
        "\r",
        "Working on model 113 of 264 (42.8 percent) "
       ]
      },
      {
       "output_type": "stream",
       "stream": "stdout",
       "text": [
        "\r",
        "Working on model 114 of 264 (43.2 percent) "
       ]
      },
      {
       "output_type": "stream",
       "stream": "stdout",
       "text": [
        "\r",
        "Working on model 115 of 264 (43.6 percent) "
       ]
      },
      {
       "output_type": "stream",
       "stream": "stdout",
       "text": [
        "\r",
        "Working on model 116 of 264 (43.9 percent) "
       ]
      },
      {
       "output_type": "stream",
       "stream": "stdout",
       "text": [
        "\r",
        "Working on model 117 of 264 (44.3 percent) "
       ]
      },
      {
       "output_type": "stream",
       "stream": "stdout",
       "text": [
        "\r",
        "Working on model 118 of 264 (44.7 percent) "
       ]
      },
      {
       "output_type": "stream",
       "stream": "stdout",
       "text": [
        "\r",
        "Working on model 119 of 264 (45.1 percent) "
       ]
      },
      {
       "output_type": "stream",
       "stream": "stdout",
       "text": [
        "\r",
        "Working on model 120 of 264 (45.5 percent) "
       ]
      },
      {
       "output_type": "stream",
       "stream": "stdout",
       "text": [
        "\r",
        "Working on model 121 of 264 (45.8 percent) "
       ]
      },
      {
       "output_type": "stream",
       "stream": "stdout",
       "text": [
        "\r",
        "Working on model 122 of 264 (46.2 percent) "
       ]
      },
      {
       "output_type": "stream",
       "stream": "stdout",
       "text": [
        "\r",
        "Working on model 123 of 264 (46.6 percent) "
       ]
      },
      {
       "output_type": "stream",
       "stream": "stdout",
       "text": [
        "\r",
        "Working on model 124 of 264 (47.0 percent) "
       ]
      },
      {
       "output_type": "stream",
       "stream": "stdout",
       "text": [
        "\r",
        "Working on model 125 of 264 (47.3 percent) "
       ]
      },
      {
       "output_type": "stream",
       "stream": "stdout",
       "text": [
        "\r",
        "Working on model 126 of 264 (47.7 percent) "
       ]
      },
      {
       "output_type": "stream",
       "stream": "stdout",
       "text": [
        "\r",
        "Working on model 127 of 264 (48.1 percent) "
       ]
      },
      {
       "output_type": "stream",
       "stream": "stdout",
       "text": [
        "\r",
        "Working on model 128 of 264 (48.5 percent) "
       ]
      },
      {
       "output_type": "stream",
       "stream": "stdout",
       "text": [
        "\r",
        "Working on model 129 of 264 (48.9 percent) "
       ]
      },
      {
       "output_type": "stream",
       "stream": "stdout",
       "text": [
        "\r",
        "Working on model 130 of 264 (49.2 percent) "
       ]
      },
      {
       "output_type": "stream",
       "stream": "stdout",
       "text": [
        "\r",
        "Working on model 131 of 264 (49.6 percent) "
       ]
      },
      {
       "output_type": "stream",
       "stream": "stdout",
       "text": [
        "\r",
        "Working on model 132 of 264 (50.0 percent) "
       ]
      },
      {
       "output_type": "stream",
       "stream": "stdout",
       "text": [
        "\r",
        "Working on model 133 of 264 (50.4 percent) "
       ]
      },
      {
       "output_type": "stream",
       "stream": "stdout",
       "text": [
        "\r",
        "Working on model 134 of 264 (50.8 percent) "
       ]
      },
      {
       "output_type": "stream",
       "stream": "stdout",
       "text": [
        "\r",
        "Working on model 135 of 264 (51.1 percent) "
       ]
      },
      {
       "output_type": "stream",
       "stream": "stdout",
       "text": [
        "\r",
        "Working on model 136 of 264 (51.5 percent) "
       ]
      },
      {
       "output_type": "stream",
       "stream": "stdout",
       "text": [
        "\r",
        "Working on model 137 of 264 (51.9 percent) "
       ]
      },
      {
       "output_type": "stream",
       "stream": "stdout",
       "text": [
        "\r",
        "Working on model 138 of 264 (52.3 percent) "
       ]
      },
      {
       "output_type": "stream",
       "stream": "stdout",
       "text": [
        "\r",
        "Working on model 139 of 264 (52.7 percent) "
       ]
      },
      {
       "output_type": "stream",
       "stream": "stdout",
       "text": [
        "\r",
        "Working on model 140 of 264 (53.0 percent) "
       ]
      },
      {
       "output_type": "stream",
       "stream": "stdout",
       "text": [
        "\r",
        "Working on model 141 of 264 (53.4 percent) "
       ]
      },
      {
       "output_type": "stream",
       "stream": "stdout",
       "text": [
        "\r",
        "Working on model 142 of 264 (53.8 percent) "
       ]
      },
      {
       "output_type": "stream",
       "stream": "stdout",
       "text": [
        "\r",
        "Working on model 143 of 264 (54.2 percent) "
       ]
      },
      {
       "output_type": "stream",
       "stream": "stdout",
       "text": [
        "\r",
        "Working on model 144 of 264 (54.5 percent) "
       ]
      },
      {
       "output_type": "stream",
       "stream": "stdout",
       "text": [
        "\r",
        "Working on model 145 of 264 (54.9 percent) "
       ]
      },
      {
       "output_type": "stream",
       "stream": "stdout",
       "text": [
        "\r",
        "Working on model 146 of 264 (55.3 percent) "
       ]
      },
      {
       "output_type": "stream",
       "stream": "stdout",
       "text": [
        "\r",
        "Working on model 147 of 264 (55.7 percent) "
       ]
      },
      {
       "output_type": "stream",
       "stream": "stdout",
       "text": [
        "\r",
        "Working on model 148 of 264 (56.1 percent) "
       ]
      },
      {
       "output_type": "stream",
       "stream": "stdout",
       "text": [
        "\r",
        "Working on model 149 of 264 (56.4 percent) "
       ]
      },
      {
       "output_type": "stream",
       "stream": "stdout",
       "text": [
        "\r",
        "Working on model 150 of 264 (56.8 percent) "
       ]
      },
      {
       "output_type": "stream",
       "stream": "stdout",
       "text": [
        "\r",
        "Working on model 151 of 264 (57.2 percent) "
       ]
      },
      {
       "output_type": "stream",
       "stream": "stdout",
       "text": [
        "\r",
        "Working on model 152 of 264 (57.6 percent) "
       ]
      },
      {
       "output_type": "stream",
       "stream": "stdout",
       "text": [
        "\r",
        "Working on model 153 of 264 (58.0 percent) "
       ]
      },
      {
       "output_type": "stream",
       "stream": "stdout",
       "text": [
        "\r",
        "Working on model 154 of 264 (58.3 percent) "
       ]
      },
      {
       "output_type": "stream",
       "stream": "stdout",
       "text": [
        "\r",
        "Working on model 155 of 264 (58.7 percent) "
       ]
      },
      {
       "output_type": "stream",
       "stream": "stdout",
       "text": [
        "\r",
        "Working on model 156 of 264 (59.1 percent) "
       ]
      },
      {
       "output_type": "stream",
       "stream": "stdout",
       "text": [
        "\r",
        "Working on model 157 of 264 (59.5 percent) "
       ]
      },
      {
       "output_type": "stream",
       "stream": "stdout",
       "text": [
        "\r",
        "Working on model 158 of 264 (59.8 percent) "
       ]
      },
      {
       "output_type": "stream",
       "stream": "stdout",
       "text": [
        "\r",
        "Working on model 159 of 264 (60.2 percent) "
       ]
      },
      {
       "output_type": "stream",
       "stream": "stdout",
       "text": [
        "\r",
        "Working on model 160 of 264 (60.6 percent) "
       ]
      },
      {
       "output_type": "stream",
       "stream": "stdout",
       "text": [
        "\r",
        "Working on model 161 of 264 (61.0 percent) "
       ]
      },
      {
       "output_type": "stream",
       "stream": "stdout",
       "text": [
        "\r",
        "Working on model 162 of 264 (61.4 percent) "
       ]
      },
      {
       "output_type": "stream",
       "stream": "stdout",
       "text": [
        "\r",
        "Working on model 163 of 264 (61.7 percent) "
       ]
      },
      {
       "output_type": "stream",
       "stream": "stdout",
       "text": [
        "\r",
        "Working on model 164 of 264 (62.1 percent) "
       ]
      },
      {
       "output_type": "stream",
       "stream": "stdout",
       "text": [
        "\r",
        "Working on model 165 of 264 (62.5 percent) "
       ]
      },
      {
       "output_type": "stream",
       "stream": "stdout",
       "text": [
        "\r",
        "Working on model 166 of 264 (62.9 percent) "
       ]
      },
      {
       "output_type": "stream",
       "stream": "stdout",
       "text": [
        "\r",
        "Working on model 167 of 264 (63.3 percent) "
       ]
      },
      {
       "output_type": "stream",
       "stream": "stdout",
       "text": [
        "\r",
        "Working on model 168 of 264 (63.6 percent) "
       ]
      },
      {
       "output_type": "stream",
       "stream": "stdout",
       "text": [
        "\r",
        "Working on model 169 of 264 (64.0 percent) "
       ]
      },
      {
       "output_type": "stream",
       "stream": "stdout",
       "text": [
        "\r",
        "Working on model 170 of 264 (64.4 percent) "
       ]
      },
      {
       "output_type": "stream",
       "stream": "stdout",
       "text": [
        "\r",
        "Working on model 171 of 264 (64.8 percent) "
       ]
      },
      {
       "output_type": "stream",
       "stream": "stdout",
       "text": [
        "\r",
        "Working on model 172 of 264 (65.2 percent) "
       ]
      },
      {
       "output_type": "stream",
       "stream": "stdout",
       "text": [
        "\r",
        "Working on model 173 of 264 (65.5 percent) "
       ]
      },
      {
       "output_type": "stream",
       "stream": "stdout",
       "text": [
        "\r",
        "Working on model 174 of 264 (65.9 percent) "
       ]
      },
      {
       "output_type": "stream",
       "stream": "stdout",
       "text": [
        "\r",
        "Working on model 175 of 264 (66.3 percent) "
       ]
      },
      {
       "output_type": "stream",
       "stream": "stdout",
       "text": [
        "\r",
        "Working on model 176 of 264 (66.7 percent) "
       ]
      },
      {
       "output_type": "stream",
       "stream": "stdout",
       "text": [
        "\r",
        "Working on model 177 of 264 (67.0 percent) "
       ]
      },
      {
       "output_type": "stream",
       "stream": "stdout",
       "text": [
        "\r",
        "Working on model 178 of 264 (67.4 percent) "
       ]
      },
      {
       "output_type": "stream",
       "stream": "stdout",
       "text": [
        "\r",
        "Working on model 179 of 264 (67.8 percent) "
       ]
      },
      {
       "output_type": "stream",
       "stream": "stdout",
       "text": [
        "\r",
        "Working on model 180 of 264 (68.2 percent) "
       ]
      },
      {
       "output_type": "stream",
       "stream": "stdout",
       "text": [
        "\r",
        "Working on model 181 of 264 (68.6 percent) "
       ]
      },
      {
       "output_type": "stream",
       "stream": "stdout",
       "text": [
        "\r",
        "Working on model 182 of 264 (68.9 percent) "
       ]
      },
      {
       "output_type": "stream",
       "stream": "stdout",
       "text": [
        "\r",
        "Working on model 183 of 264 (69.3 percent) "
       ]
      },
      {
       "output_type": "stream",
       "stream": "stdout",
       "text": [
        "\r",
        "Working on model 184 of 264 (69.7 percent) "
       ]
      },
      {
       "output_type": "stream",
       "stream": "stdout",
       "text": [
        "\r",
        "Working on model 185 of 264 (70.1 percent) "
       ]
      },
      {
       "output_type": "stream",
       "stream": "stdout",
       "text": [
        "\r",
        "Working on model 186 of 264 (70.5 percent) "
       ]
      },
      {
       "output_type": "stream",
       "stream": "stdout",
       "text": [
        "\r",
        "Working on model 187 of 264 (70.8 percent) "
       ]
      },
      {
       "output_type": "stream",
       "stream": "stdout",
       "text": [
        "\r",
        "Working on model 188 of 264 (71.2 percent) "
       ]
      },
      {
       "output_type": "stream",
       "stream": "stdout",
       "text": [
        "\r",
        "Working on model 189 of 264 (71.6 percent) "
       ]
      },
      {
       "output_type": "stream",
       "stream": "stdout",
       "text": [
        "\r",
        "Working on model 190 of 264 (72.0 percent) "
       ]
      },
      {
       "output_type": "stream",
       "stream": "stdout",
       "text": [
        "\r",
        "Working on model 191 of 264 (72.3 percent) "
       ]
      },
      {
       "output_type": "stream",
       "stream": "stdout",
       "text": [
        "\r",
        "Working on model 192 of 264 (72.7 percent) "
       ]
      },
      {
       "output_type": "stream",
       "stream": "stdout",
       "text": [
        "\r",
        "Working on model 193 of 264 (73.1 percent) "
       ]
      },
      {
       "output_type": "stream",
       "stream": "stdout",
       "text": [
        "\r",
        "Working on model 194 of 264 (73.5 percent) "
       ]
      },
      {
       "output_type": "stream",
       "stream": "stdout",
       "text": [
        "\r",
        "Working on model 195 of 264 (73.9 percent) "
       ]
      },
      {
       "output_type": "stream",
       "stream": "stdout",
       "text": [
        "\r",
        "Working on model 196 of 264 (74.2 percent) "
       ]
      },
      {
       "output_type": "stream",
       "stream": "stdout",
       "text": [
        "\r",
        "Working on model 197 of 264 (74.6 percent) "
       ]
      },
      {
       "output_type": "stream",
       "stream": "stdout",
       "text": [
        "\r",
        "Working on model 198 of 264 (75.0 percent) "
       ]
      },
      {
       "output_type": "stream",
       "stream": "stdout",
       "text": [
        "\r",
        "Working on model 199 of 264 (75.4 percent) "
       ]
      },
      {
       "output_type": "stream",
       "stream": "stdout",
       "text": [
        "\r",
        "Working on model 200 of 264 (75.8 percent) "
       ]
      },
      {
       "output_type": "stream",
       "stream": "stdout",
       "text": [
        "\r",
        "Working on model 201 of 264 (76.1 percent) "
       ]
      },
      {
       "output_type": "stream",
       "stream": "stdout",
       "text": [
        "\r",
        "Working on model 202 of 264 (76.5 percent) "
       ]
      },
      {
       "output_type": "stream",
       "stream": "stdout",
       "text": [
        "\r",
        "Working on model 203 of 264 (76.9 percent) "
       ]
      },
      {
       "output_type": "stream",
       "stream": "stdout",
       "text": [
        "\r",
        "Working on model 204 of 264 (77.3 percent) "
       ]
      },
      {
       "output_type": "stream",
       "stream": "stdout",
       "text": [
        "\r",
        "Working on model 205 of 264 (77.7 percent) "
       ]
      },
      {
       "output_type": "stream",
       "stream": "stdout",
       "text": [
        "\r",
        "Working on model 206 of 264 (78.0 percent) "
       ]
      },
      {
       "output_type": "stream",
       "stream": "stdout",
       "text": [
        "\r",
        "Working on model 207 of 264 (78.4 percent) "
       ]
      },
      {
       "output_type": "stream",
       "stream": "stdout",
       "text": [
        "\r",
        "Working on model 208 of 264 (78.8 percent) "
       ]
      },
      {
       "output_type": "stream",
       "stream": "stdout",
       "text": [
        "\r",
        "Working on model 209 of 264 (79.2 percent) "
       ]
      },
      {
       "output_type": "stream",
       "stream": "stdout",
       "text": [
        "\r",
        "Working on model 210 of 264 (79.5 percent) "
       ]
      },
      {
       "output_type": "stream",
       "stream": "stdout",
       "text": [
        "\r",
        "Working on model 211 of 264 (79.9 percent) "
       ]
      },
      {
       "output_type": "stream",
       "stream": "stdout",
       "text": [
        "\r",
        "Working on model 212 of 264 (80.3 percent) "
       ]
      },
      {
       "output_type": "stream",
       "stream": "stdout",
       "text": [
        "\r",
        "Working on model 213 of 264 (80.7 percent) "
       ]
      },
      {
       "output_type": "stream",
       "stream": "stdout",
       "text": [
        "\r",
        "Working on model 214 of 264 (81.1 percent) "
       ]
      },
      {
       "output_type": "stream",
       "stream": "stdout",
       "text": [
        "\r",
        "Working on model 215 of 264 (81.4 percent) "
       ]
      },
      {
       "output_type": "stream",
       "stream": "stdout",
       "text": [
        "\r",
        "Working on model 216 of 264 (81.8 percent) "
       ]
      },
      {
       "output_type": "stream",
       "stream": "stdout",
       "text": [
        "\r",
        "Working on model 217 of 264 (82.2 percent) "
       ]
      },
      {
       "output_type": "stream",
       "stream": "stdout",
       "text": [
        "\r",
        "Working on model 218 of 264 (82.6 percent) "
       ]
      },
      {
       "output_type": "stream",
       "stream": "stdout",
       "text": [
        "\r",
        "Working on model 219 of 264 (83.0 percent) "
       ]
      },
      {
       "output_type": "stream",
       "stream": "stdout",
       "text": [
        "\r",
        "Working on model 220 of 264 (83.3 percent) "
       ]
      },
      {
       "output_type": "stream",
       "stream": "stdout",
       "text": [
        "\r",
        "Working on model 221 of 264 (83.7 percent) "
       ]
      },
      {
       "output_type": "stream",
       "stream": "stdout",
       "text": [
        "\r",
        "Working on model 222 of 264 (84.1 percent) "
       ]
      },
      {
       "output_type": "stream",
       "stream": "stdout",
       "text": [
        "\r",
        "Working on model 223 of 264 (84.5 percent) "
       ]
      },
      {
       "output_type": "stream",
       "stream": "stdout",
       "text": [
        "\r",
        "Working on model 224 of 264 (84.8 percent) "
       ]
      },
      {
       "output_type": "stream",
       "stream": "stdout",
       "text": [
        "\r",
        "Working on model 225 of 264 (85.2 percent) "
       ]
      },
      {
       "output_type": "stream",
       "stream": "stdout",
       "text": [
        "\r",
        "Working on model 226 of 264 (85.6 percent) "
       ]
      },
      {
       "output_type": "stream",
       "stream": "stdout",
       "text": [
        "\r",
        "Working on model 227 of 264 (86.0 percent) "
       ]
      },
      {
       "output_type": "stream",
       "stream": "stdout",
       "text": [
        "\r",
        "Working on model 228 of 264 (86.4 percent) "
       ]
      },
      {
       "output_type": "stream",
       "stream": "stdout",
       "text": [
        "\r",
        "Working on model 229 of 264 (86.7 percent) "
       ]
      },
      {
       "output_type": "stream",
       "stream": "stdout",
       "text": [
        "\r",
        "Working on model 230 of 264 (87.1 percent) "
       ]
      },
      {
       "output_type": "stream",
       "stream": "stdout",
       "text": [
        "\r",
        "Working on model 231 of 264 (87.5 percent) "
       ]
      },
      {
       "output_type": "stream",
       "stream": "stdout",
       "text": [
        "\r",
        "Working on model 232 of 264 (87.9 percent) "
       ]
      },
      {
       "output_type": "stream",
       "stream": "stdout",
       "text": [
        "\r",
        "Working on model 233 of 264 (88.3 percent) "
       ]
      },
      {
       "output_type": "stream",
       "stream": "stdout",
       "text": [
        "\r",
        "Working on model 234 of 264 (88.6 percent) "
       ]
      },
      {
       "output_type": "stream",
       "stream": "stdout",
       "text": [
        "\r",
        "Working on model 235 of 264 (89.0 percent) "
       ]
      },
      {
       "output_type": "stream",
       "stream": "stdout",
       "text": [
        "\r",
        "Working on model 236 of 264 (89.4 percent) "
       ]
      },
      {
       "output_type": "stream",
       "stream": "stdout",
       "text": [
        "\r",
        "Working on model 237 of 264 (89.8 percent) "
       ]
      },
      {
       "output_type": "stream",
       "stream": "stdout",
       "text": [
        "\r",
        "Working on model 238 of 264 (90.2 percent) "
       ]
      },
      {
       "output_type": "stream",
       "stream": "stdout",
       "text": [
        "\r",
        "Working on model 239 of 264 (90.5 percent) "
       ]
      },
      {
       "output_type": "stream",
       "stream": "stdout",
       "text": [
        "\r",
        "Working on model 240 of 264 (90.9 percent) "
       ]
      },
      {
       "output_type": "stream",
       "stream": "stdout",
       "text": [
        "\r",
        "Working on model 241 of 264 (91.3 percent) "
       ]
      },
      {
       "output_type": "stream",
       "stream": "stdout",
       "text": [
        "\r",
        "Working on model 242 of 264 (91.7 percent) "
       ]
      },
      {
       "output_type": "stream",
       "stream": "stdout",
       "text": [
        "\r",
        "Working on model 243 of 264 (92.0 percent) "
       ]
      },
      {
       "output_type": "stream",
       "stream": "stdout",
       "text": [
        "\r",
        "Working on model 244 of 264 (92.4 percent) "
       ]
      },
      {
       "output_type": "stream",
       "stream": "stdout",
       "text": [
        "\r",
        "Working on model 245 of 264 (92.8 percent) "
       ]
      },
      {
       "output_type": "stream",
       "stream": "stdout",
       "text": [
        "\r",
        "Working on model 246 of 264 (93.2 percent) "
       ]
      },
      {
       "output_type": "stream",
       "stream": "stdout",
       "text": [
        "\r",
        "Working on model 247 of 264 (93.6 percent) "
       ]
      },
      {
       "output_type": "stream",
       "stream": "stdout",
       "text": [
        "\r",
        "Working on model 248 of 264 (93.9 percent) "
       ]
      },
      {
       "output_type": "stream",
       "stream": "stdout",
       "text": [
        "\r",
        "Working on model 249 of 264 (94.3 percent) "
       ]
      },
      {
       "output_type": "stream",
       "stream": "stdout",
       "text": [
        "\r",
        "Working on model 250 of 264 (94.7 percent) "
       ]
      },
      {
       "output_type": "stream",
       "stream": "stdout",
       "text": [
        "\r",
        "Working on model 251 of 264 (95.1 percent) "
       ]
      },
      {
       "output_type": "stream",
       "stream": "stdout",
       "text": [
        "\r",
        "Working on model 252 of 264 (95.5 percent) "
       ]
      },
      {
       "output_type": "stream",
       "stream": "stdout",
       "text": [
        "\r",
        "Working on model 253 of 264 (95.8 percent) "
       ]
      },
      {
       "output_type": "stream",
       "stream": "stdout",
       "text": [
        "\r",
        "Working on model 254 of 264 (96.2 percent) "
       ]
      },
      {
       "output_type": "stream",
       "stream": "stdout",
       "text": [
        "\r",
        "Working on model 255 of 264 (96.6 percent) "
       ]
      },
      {
       "output_type": "stream",
       "stream": "stdout",
       "text": [
        "\r",
        "Working on model 256 of 264 (97.0 percent) "
       ]
      },
      {
       "output_type": "stream",
       "stream": "stdout",
       "text": [
        "\r",
        "Working on model 257 of 264 (97.3 percent) "
       ]
      },
      {
       "output_type": "stream",
       "stream": "stdout",
       "text": [
        "\r",
        "Working on model 258 of 264 (97.7 percent) "
       ]
      },
      {
       "output_type": "stream",
       "stream": "stdout",
       "text": [
        "\r",
        "Working on model 259 of 264 (98.1 percent) "
       ]
      },
      {
       "output_type": "stream",
       "stream": "stdout",
       "text": [
        "\r",
        "Working on model 260 of 264 (98.5 percent) "
       ]
      },
      {
       "output_type": "stream",
       "stream": "stdout",
       "text": [
        "\r",
        "Working on model 261 of 264 (98.9 percent) "
       ]
      },
      {
       "output_type": "stream",
       "stream": "stdout",
       "text": [
        "\r",
        "Working on model 262 of 264 (99.2 percent) "
       ]
      },
      {
       "output_type": "stream",
       "stream": "stdout",
       "text": [
        "\r",
        "Working on model 263 of 264 (99.6 percent) "
       ]
      },
      {
       "output_type": "stream",
       "stream": "stdout",
       "text": [
        "\r",
        "Working on model 264 of 264 (100.0 percent) "
       ]
      },
      {
       "output_type": "stream",
       "stream": "stdout",
       "text": [
        "\n",
        "\n"
       ]
      }
     ],
     "prompt_number": 7
    },
    {
     "cell_type": "markdown",
     "metadata": {},
     "source": [
      "Store them as a separate group/hypercube, but in the same `hdf5` file"
     ]
    },
    {
     "cell_type": "code",
     "collapsed": false,
     "input": [
      "H.store2hdf(filename='clumpy_cube_264.hdf5',groupname='clddata')"
     ],
     "language": "python",
     "metadata": {},
     "outputs": [
      {
       "output_type": "stream",
       "stream": "stdout",
       "text": [
        "Storing results to hdf5 file\n",
        "File: ../clumpy_models/clumpy_cube_264.hdf5\n",
        "    Storing attribute:  pattern\n",
        "    Storing attribute:  rootdir\n",
        "    Storing attribute:  Nhypercubes\n",
        "    Storing attribute:  Nparam\n",
        "    Storing attribute:  hypercubenames\n",
        "    Storing attribute:  hypercubeshape\n",
        "    Storing attribute:  paramnames\n",
        "    Storing attribute:  funcname\n",
        "    Storing attribute:  theta\n",
        "    Storing attribute:  clddata\n",
        "Closing hdf5 file."
       ]
      },
      {
       "output_type": "stream",
       "stream": "stdout",
       "text": [
        "\n"
       ]
      }
     ],
     "prompt_number": 8
    },
    {
     "cell_type": "markdown",
     "metadata": {},
     "source": [
      "Let's explore the new `hdf5` file"
     ]
    },
    {
     "cell_type": "code",
     "collapsed": false,
     "input": [
      "import h5py\n",
      "h = h5py.File(rootdir+'/clumpy_cube_264.hdf5')\n",
      "h.items()"
     ],
     "language": "python",
     "metadata": {},
     "outputs": [
      {
       "metadata": {},
       "output_type": "pyout",
       "prompt_number": 9,
       "text": [
        "[(u'clddata', <HDF5 group \"/clddata\" (10 members)>),\n",
        " (u'imgdata', <HDF5 group \"/imgdata\" (10 members)>)]"
       ]
      }
     ],
     "prompt_number": 9
    },
    {
     "cell_type": "markdown",
     "metadata": {},
     "source": [
      "Get the `imgdata` group"
     ]
    },
    {
     "cell_type": "code",
     "collapsed": false,
     "input": [
      "img = h['imgdata']\n",
      "img.items()"
     ],
     "language": "python",
     "metadata": {},
     "outputs": [
      {
       "metadata": {},
       "output_type": "pyout",
       "prompt_number": 10,
       "text": [
        "[(u'Nhypercubes', <HDF5 dataset \"Nhypercubes\": shape (), type \"<i8\">),\n",
        " (u'Nparam', <HDF5 dataset \"Nparam\": shape (), type \"<i8\">),\n",
        " (u'funcname', <HDF5 dataset \"funcname\": shape (), type \"|O8\">),\n",
        " (u'hypercubenames', <HDF5 dataset \"hypercubenames\": shape (1,), type \"|S7\">),\n",
        " (u'hypercubes', <HDF5 group \"/imgdata/hypercubes\" (1 members)>),\n",
        " (u'hypercubeshape', <HDF5 dataset \"hypercubeshape\": shape (9,), type \"<i8\">),\n",
        " (u'paramnames', <HDF5 dataset \"paramnames\": shape (9,), type \"|S4\">),\n",
        " (u'pattern', <HDF5 dataset \"pattern\": shape (), type \"|O8\">),\n",
        " (u'rootdir', <HDF5 dataset \"rootdir\": shape (), type \"|O8\">),\n",
        " (u'theta', <HDF5 dataset \"theta\": shape (9, 101), type \"<f4\">)]"
       ]
      }
     ],
     "prompt_number": 10
    },
    {
     "cell_type": "markdown",
     "metadata": {},
     "source": [
      "Check out some values"
     ]
    },
    {
     "cell_type": "code",
     "collapsed": false,
     "input": [
      "img['Nparam'].value\n",
      "img['paramnames'].value"
     ],
     "language": "python",
     "metadata": {},
     "outputs": [
      {
       "metadata": {},
       "output_type": "pyout",
       "prompt_number": 11,
       "text": [
        "array(['sig', 'i', 'Y', 'N', 'q', 'tv', 'x', 'y', 'wave'], \n",
        "      dtype='|S4')"
       ]
      }
     ],
     "prompt_number": 11
    },
    {
     "cell_type": "markdown",
     "metadata": {},
     "source": [
      "List of unique parameter values (requires some magik b/c of a `numpy` bug)"
     ]
    },
    {
     "cell_type": "code",
     "collapsed": false,
     "input": [
      "from externals.padarray import padarray\n",
      "theta = padarray.PadArray(img['theta'].value)\n",
      "theta.unpad"
     ],
     "language": "python",
     "metadata": {},
     "outputs": [
      {
       "metadata": {},
       "output_type": "pyout",
       "prompt_number": 12,
       "text": [
        "[array([ 15.,  30.], dtype=float32),\n",
        " array([  0.        ,  25.84199905,  36.86999893,  45.57300186,\n",
        "         53.13000107,  60.        ,  66.42199707,  72.54199982,\n",
        "         78.46299744,  84.26100159,  90.        ], dtype=float32),\n",
        " array([ 10.], dtype=float32),\n",
        " array([ 1.,  3.,  5.], dtype=float32),\n",
        " array([ 0.,  1.], dtype=float32),\n",
        " array([ 10.,  20.], dtype=float32),\n",
        " array([   0.,    1.,    2.,    3.,    4.,    5.,    6.,    7.,    8.,\n",
        "           9.,   10.,   11.,   12.,   13.,   14.,   15.,   16.,   17.,\n",
        "          18.,   19.,   20.,   21.,   22.,   23.,   24.,   25.,   26.,\n",
        "          27.,   28.,   29.,   30.,   31.,   32.,   33.,   34.,   35.,\n",
        "          36.,   37.,   38.,   39.,   40.,   41.,   42.,   43.,   44.,\n",
        "          45.,   46.,   47.,   48.,   49.,   50.,   51.,   52.,   53.,\n",
        "          54.,   55.,   56.,   57.,   58.,   59.,   60.,   61.,   62.,\n",
        "          63.,   64.,   65.,   66.,   67.,   68.,   69.,   70.,   71.,\n",
        "          72.,   73.,   74.,   75.,   76.,   77.,   78.,   79.,   80.,\n",
        "          81.,   82.,   83.,   84.,   85.,   86.,   87.,   88.,   89.,\n",
        "          90.,   91.,   92.,   93.,   94.,   95.,   96.,   97.,   98.,\n",
        "          99.,  100.], dtype=float32),\n",
        " array([   0.,    1.,    2.,    3.,    4.,    5.,    6.,    7.,    8.,\n",
        "           9.,   10.,   11.,   12.,   13.,   14.,   15.,   16.,   17.,\n",
        "          18.,   19.,   20.,   21.,   22.,   23.,   24.,   25.,   26.,\n",
        "          27.,   28.,   29.,   30.,   31.,   32.,   33.,   34.,   35.,\n",
        "          36.,   37.,   38.,   39.,   40.,   41.,   42.,   43.,   44.,\n",
        "          45.,   46.,   47.,   48.,   49.,   50.,   51.,   52.,   53.,\n",
        "          54.,   55.,   56.,   57.,   58.,   59.,   60.,   61.,   62.,\n",
        "          63.,   64.,   65.,   66.,   67.,   68.,   69.,   70.,   71.,\n",
        "          72.,   73.,   74.,   75.,   76.,   77.,   78.,   79.,   80.,\n",
        "          81.,   82.,   83.,   84.,   85.,   86.,   87.,   88.,   89.,\n",
        "          90.,   91.,   92.,   93.,   94.,   95.,   96.,   97.,   98.,\n",
        "          99.,  100.], dtype=float32),\n",
        " array([   2.20000005,    3.5       ,    4.80000019,    8.69999981,\n",
        "          10.30000019,   11.60000038,   12.5       ,  345.        ,\n",
        "         461.        ,  652.        ], dtype=float32)]"
       ]
      }
     ],
     "prompt_number": 12
    },
    {
     "cell_type": "markdown",
     "metadata": {},
     "source": [
      "The order of the individual arrays in `theta` is the same as that of `paramnames`. `x` and `y` are just pixel indices. `wave` is in microns."
     ]
    },
    {
     "cell_type": "markdown",
     "metadata": {},
     "source": [
      "The shape of the `imgdata` hypercube"
     ]
    },
    {
     "cell_type": "code",
     "collapsed": false,
     "input": [
      "img['hypercubeshape'].value"
     ],
     "language": "python",
     "metadata": {},
     "outputs": [
      {
       "metadata": {},
       "output_type": "pyout",
       "prompt_number": 13,
       "text": [
        "array([  2,  11,   1,   3,   2,   2, 101, 101,  10])"
       ]
      }
     ],
     "prompt_number": 13
    },
    {
     "cell_type": "markdown",
     "metadata": {},
     "source": [
      "Let's fix all parameters except `x`,`y`,`wave`, and plot the images"
     ]
    },
    {
     "cell_type": "code",
     "collapsed": false,
     "input": [
      "import matplotlib as m\n",
      "import pylab as p\n",
      "%matplotlib inline\n",
      "fig = p.figure(figsize=(12,5))\n",
      "hcube = img['hypercubes/imgdata']  # the hypercube is in an own group\n",
      "hslice = hcube[0,5,0,0,0,0,:,:,:]  # a \"hyperslice\", here 3D, with shape (Npix x Npix x Nwave)\n",
      "for j in xrange(1,11):\n",
      "    ax = fig.add_subplot(2,5,j)\n",
      "    image = hslice[:,:,j-1]\n",
      "    ax.imshow(image,origin='lower',interpolation='bicubic',cmap=m.cm.rainbow_r)\n",
      "    ax.text(0.06,0.87,\"%.1f mic\" % theta.unpad[-1][j-1],color='w',transform=ax.transAxes,fontsize=11)\n",
      "    "
     ],
     "language": "python",
     "metadata": {},
     "outputs": [
      {
       "metadata": {},
       "output_type": "display_data",
       "png": "[encoded data removed]",
       "text": [
        "<matplotlib.figure.Figure at 0x7f2a3b784550>"
       ]
      }
     ],
     "prompt_number": 14
    },
    {
     "cell_type": "markdown",
     "metadata": {},
     "source": [
      "Same, but with identical normalization for all panels (min max of the hyper-slice)"
     ]
    },
    {
     "cell_type": "code",
     "collapsed": false,
     "input": [
      "fig = p.figure(figsize=(12,5))\n",
      "for j in xrange(1,11):\n",
      "    ax = fig.add_subplot(2,5,j)\n",
      "    image = hslice[:,:,j-1]\n",
      "    ax.imshow(image,origin='lower',interpolation='bicubic',cmap=m.cm.rainbow_r,norm=m.colors.Normalize(hslice.min(),hslice.max()))\n",
      "    ax.text(0.06,0.87,\"%.1f mic\" % theta.unpad[-1][j-1],color='w',transform=ax.transAxes,fontsize=11)"
     ],
     "language": "python",
     "metadata": {},
     "outputs": [
      {
       "metadata": {},
       "output_type": "display_data",
       "png": "[encoded data removed]",
       "text": [
        "<matplotlib.figure.Figure at 0x7f2a37fb3950>"
       ]
      }
     ],
     "prompt_number": 15
    },
    {
     "cell_type": "markdown",
     "metadata": {},
     "source": [
      "Now fix wave, but vary the viewing angle"
     ]
    },
    {
     "cell_type": "code",
     "collapsed": false,
     "input": [
      "fig = p.figure(figsize=(14,5))\n",
      "hslice = hcube[0,:,0,0,0,0,:,:,4]  # variable viewing angle, fixed wave\n",
      "for j in xrange(11):\n",
      "    ax = fig.add_subplot(2,6,j+1)\n",
      "    image = hslice[j,:,:]\n",
      "    ax.imshow(image,origin='lower',interpolation='bicubic',cmap=m.cm.rainbow_r)\n",
      "    ax.text(0.06,0.87,\"%.2f deg\" % theta.unpad[1][j],color='w',transform=ax.transAxes,fontsize=11)"
     ],
     "language": "python",
     "metadata": {},
     "outputs": [
      {
       "metadata": {},
       "output_type": "display_data",
       "png": "[encoded data removed]",
       "text": [
        "<matplotlib.figure.Figure at 0x7f2a382e1090>"
       ]
      }
     ],
     "prompt_number": 16
    },
    {
     "cell_type": "markdown",
     "metadata": {},
     "source": [
      "Let's load the projected clouds hypercube, fix everything but `x`,`y`,`N0`, and plot the slices with identical normalization"
     ]
    },
    {
     "cell_type": "code",
     "collapsed": false,
     "input": [
      "fig = p.figure(figsize=(10,3))\n",
      "hcube = h['clddata/hypercubes/clddata']\n",
      "hslice = hcube[0,5,0,:,0,0,:,:]  # variable N0\n",
      "for j in xrange(3):\n",
      "    ax = fig.add_subplot(1,3,j+1)\n",
      "    image = hslice[j,:,:]\n",
      "    ax.imshow(image,origin='lower',interpolation='bicubic',cmap=m.cm.Blues_r,norm=m.colors.Normalize(hslice.min(),hslice.max()))\n",
      "    ax.text(0.06,0.87,\"N0 = %d \" % theta.unpad[3][j],color='w',transform=ax.transAxes,fontsize=11)"
     ],
     "language": "python",
     "metadata": {},
     "outputs": [
      {
       "metadata": {},
       "output_type": "display_data",
       "png": "[encoded data removed]",
       "text": [
        "<matplotlib.figure.Figure at 0x7f2a35fbce10>"
       ]
      }
     ],
     "prompt_number": 17
    }
   ],
   "metadata": {}
  }
 ]
}