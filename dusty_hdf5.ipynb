{
 "metadata": {
  "name": "",
  "signature": "sha256:76ad43f8efdc7a8b81a4a195605d1bc04906e64fe02d0c6ad07a6b6aed993d89"
 },
 "nbformat": 3,
 "nbformat_minor": 0,
 "worksheets": [
  {
   "cells": [
    {
     "cell_type": "markdown",
     "metadata": {},
     "source": [
      "**Imports**"
     ]
    },
    {
     "cell_type": "code",
     "collapsed": false,
     "input": [
      "import pylab as p\n",
      "%pylab inline\n",
      "p.rcParams['figure.figsize'] = (10, 8)\n",
      "import h5py"
     ],
     "language": "python",
     "metadata": {},
     "outputs": [
      {
       "output_type": "stream",
       "stream": "stdout",
       "text": [
        "Populating the interactive namespace from numpy and matplotlib\n"
       ]
      }
     ],
     "prompt_number": 1
    },
    {
     "cell_type": "markdown",
     "metadata": {},
     "source": [
      "**Open the hdf5 file for reading**"
     ]
    },
    {
     "cell_type": "code",
     "collapsed": false,
     "input": [
      "h = h5py.File('./models_20130722.hdf5','r')"
     ],
     "language": "python",
     "metadata": {},
     "outputs": [],
     "prompt_number": 2
    },
    {
     "cell_type": "markdown",
     "metadata": {},
     "source": [
      "**See what's in the file**"
     ]
    },
    {
     "cell_type": "code",
     "collapsed": false,
     "input": [
      "h.items()"
     ],
     "language": "python",
     "metadata": {},
     "outputs": [
      {
       "metadata": {},
       "output_type": "pyout",
       "prompt_number": 3,
       "text": [
        "[(u'DMW', <HDF5 group \"/DMW\" (5 members)>),\n",
        " (u'DSM', <HDF5 group \"/DSM\" (5 members)>),\n",
        " (u'ISM-OHM', <HDF5 group \"/ISM-OHM\" (5 members)>),\n",
        " (u'SSN', <HDF5 group \"/SSN\" (5 members)>),\n",
        " (u'heating_spectra',\n",
        "  <HDF5 dataset \"heating_spectra\": shape (13, 4, 128), type \"<f8\">),\n",
        " (u'parameters', <HDF5 group \"/parameters\" (12 members)>),\n",
        " (u'wave', <HDF5 dataset \"wave\": shape (128,), type \"<f8\">)]"
       ]
      }
     ],
     "prompt_number": 3
    },
    {
     "cell_type": "markdown",
     "metadata": {},
     "source": [
      "**You see several groups (for the different dusts) and some datasets.\n",
      "Datasets are arrays, groups are like sub-directories, and usually contain datasets. Let's pick out the\n",
      "wavelength array:**"
     ]
    },
    {
     "cell_type": "code",
     "collapsed": false,
     "input": [
      "wave = h['wave'][:] # colon means 'everything' (in one dimension)"
     ],
     "language": "python",
     "metadata": {},
     "outputs": [],
     "prompt_number": 4
    },
    {
     "cell_type": "markdown",
     "metadata": {},
     "source": [
      "**Let's also define some handy handles for some groups and datasets**"
     ]
    },
    {
     "cell_type": "code",
     "collapsed": false,
     "input": [
      "params = h['parameters']\n",
      "models = h['ISM-OHM']\n",
      "heating = h['heating_spectra'][...] # three dots mean 'everything in all dimensions'"
     ],
     "language": "python",
     "metadata": {},
     "outputs": [],
     "prompt_number": 5
    },
    {
     "cell_type": "markdown",
     "metadata": {},
     "source": [
      "**What's in params?**"
     ]
    },
    {
     "cell_type": "code",
     "collapsed": false,
     "input": [
      "params.items()"
     ],
     "language": "python",
     "metadata": {},
     "outputs": [
      {
       "metadata": {},
       "output_type": "pyout",
       "prompt_number": 6,
       "text": [
        "[(u'age', <HDF5 dataset \"age\": shape (249600,), type \"<i4\">),\n",
        " (u'age_uniq', <HDF5 dataset \"age_uniq\": shape (13,), type \"<i8\">),\n",
        " (u'g', <HDF5 dataset \"g\": shape (249600,), type \"<f4\">),\n",
        " (u'g_uniq', <HDF5 dataset \"g_uniq\": shape (4,), type \"<f8\">),\n",
        " (u'metal', <HDF5 dataset \"metal\": shape (249600,), type \"<f4\">),\n",
        " (u'metal_uniq', <HDF5 dataset \"metal_uniq\": shape (4,), type \"<f8\">),\n",
        " (u'tau', <HDF5 dataset \"tau\": shape (249600,), type \"<f4\">),\n",
        " (u'tau_uniq', <HDF5 dataset \"tau_uniq\": shape (10,), type \"<f8\">),\n",
        " (u'tin', <HDF5 dataset \"tin\": shape (249600,), type \"<i4\">),\n",
        " (u'tin_uniq', <HDF5 dataset \"tin_uniq\": shape (12,), type \"<i8\">),\n",
        " (u'y', <HDF5 dataset \"y\": shape (249600,), type \"<i4\">),\n",
        " (u'y_uniq', <HDF5 dataset \"y_uniq\": shape (10,), type \"<i8\">)]"
       ]
      }
     ],
     "prompt_number": 6
    },
    {
     "cell_type": "markdown",
     "metadata": {},
     "source": [
      "**Many datasets with 249600 entries each (so many models), and '_uniq' versions of those. For convenience, have a list of parameter names:**"
     ]
    },
    {
     "cell_type": "code",
     "collapsed": false,
     "input": [
      "paramnames = ['age','g','metal','tau','tin','y']  # g = gamma"
     ],
     "language": "python",
     "metadata": {},
     "outputs": [],
     "prompt_number": 7
    },
    {
     "cell_type": "markdown",
     "metadata": {},
     "source": [
      "**Print all sampled values of every model parameter**"
     ]
    },
    {
     "cell_type": "code",
     "collapsed": false,
     "input": [
      "for par in paramnames: print par, params[par+'_uniq'][:]"
     ],
     "language": "python",
     "metadata": {},
     "outputs": [
      {
       "output_type": "stream",
       "stream": "stdout",
       "text": [
        "age [    1     3     5    10    20    50   100   200   500  1000  2000  5000\n",
        " 10000]\n",
        "g [ 0.   0.5  1.   2. ]\n",
        "metal [ 0.02  0.2   0.4   1.  ]\n",
        "tau [  9.20000000e-02   1.84000000e-01   4.60000000e-01   9.21000000e-01\n",
        "   1.84100000e+00   4.60300000e+00   9.20600000e+00   1.84110000e+01\n",
        "   4.60280000e+01   9.20560000e+01]\n",
        "tin [300 350 400 450 500 550 600 650 700 750 800 850]\n",
        "y [   10    20    50   100   200   500  1000  2000  5000 10000]\n"
       ]
      }
     ],
     "prompt_number": 8
    },
    {
     "cell_type": "markdown",
     "metadata": {},
     "source": [
      "**What's in models?**"
     ]
    },
    {
     "cell_type": "code",
     "collapsed": false,
     "input": [
      "models.items()"
     ],
     "language": "python",
     "metadata": {},
     "outputs": [
      {
       "metadata": {},
       "output_type": "pyout",
       "prompt_number": 9,
       "text": [
        "[(u'flux_emitted_fraction',\n",
        "  <HDF5 dataset \"flux_emitted_fraction\": shape (249600, 128), type \"<f4\">),\n",
        " (u'flux_scattered_fraction',\n",
        "  <HDF5 dataset \"flux_scattered_fraction\": shape (249600, 128), type \"<f4\">),\n",
        " (u'flux_total', <HDF5 dataset \"flux_total\": shape (249600, 128), type \"<f8\">),\n",
        " (u'flux_total_scale',\n",
        "  <HDF5 dataset \"flux_total_scale\": shape (249600,), type \"<f4\">),\n",
        " (u'flux_transmitted_fraction',\n",
        "  <HDF5 dataset \"flux_transmitted_fraction\": shape (249600, 128), type \"<f4\">)]"
       ]
      }
     ],
     "prompt_number": 9
    },
    {
     "cell_type": "markdown",
     "metadata": {},
     "source": [
      "**These are the SEDs, for 250k models and with 128 wavelengths. Let's pick one random model:**"
     ]
    },
    {
     "cell_type": "code",
     "collapsed": false,
     "input": [
      "id = 54321"
     ],
     "language": "python",
     "metadata": {},
     "outputs": [],
     "prompt_number": 10
    },
    {
     "cell_type": "markdown",
     "metadata": {},
     "source": [
      "**What are this models's model parameters?**"
     ]
    },
    {
     "cell_type": "code",
     "collapsed": false,
     "input": [
      "[(par,params[par][id]) for par in paramnames]"
     ],
     "language": "python",
     "metadata": {},
     "outputs": [
      {
       "metadata": {},
       "output_type": "pyout",
       "prompt_number": 11,
       "text": [
        "[('age', 5),\n",
        " ('g', 0.0),\n",
        " ('metal', 1.0),\n",
        " ('tau', 0.184),\n",
        " ('tin', 450),\n",
        " ('y', 5000)]"
       ]
      }
     ],
     "prompt_number": 11
    },
    {
     "cell_type": "markdown",
     "metadata": {},
     "source": [
      "**Let's get this model's (sub)-SEDs**"
     ]
    },
    {
     "cell_type": "code",
     "collapsed": false,
     "input": [
      "total_shape = models['flux_total'][id,:]\n",
      "total_scale = models['flux_total_scale'][id]\n",
      "total_flux = models['flux_total'][id,:]\n",
      "emitted_frac = models['flux_emitted_fraction'][id,:]\n",
      "transmitted_frac = models['flux_transmitted_fraction'][id,:]\n",
      "scattered_frac = models['flux_scattered_fraction'][id,:]"
     ],
     "language": "python",
     "metadata": {},
     "outputs": [],
     "prompt_number": 12
    },
    {
     "cell_type": "markdown",
     "metadata": {},
     "source": [
      "**Now get this model's heating spectrum (`age=5` and `g=0.0` correspond to (zero-based) indices 2 and 0 in the '_uniq' arrays above)**"
     ]
    },
    {
     "cell_type": "code",
     "collapsed": false,
     "input": [
      "hs = heating[2,0,:]"
     ],
     "language": "python",
     "metadata": {},
     "outputs": [],
     "prompt_number": 13
    },
    {
     "cell_type": "markdown",
     "metadata": {},
     "source": [
      "**Plot the components**"
     ]
    },
    {
     "cell_type": "code",
     "collapsed": false,
     "input": [
      "p.loglog(wave,hs,'b-',label='heating spectrum (shape)') # blue line\n",
      "p.loglog(wave,total_scale*total_shape*emitted_frac,'r-',label='emitted')  # red line\n",
      "p.loglog(wave,total_scale*total_shape*transmitted_frac,'c-',label='transmitted') # cyan\n",
      "p.loglog(wave,total_scale*total_shape*scattered_frac,'y-',label='scattered') # yellow\n",
      "p.loglog(wave,total_scale*total_shape,'k-',lw=2,label='total') # thick black line\n",
      "p.legend(loc='lower left',frameon=False)"
     ],
     "language": "python",
     "metadata": {},
     "outputs": [
      {
       "metadata": {},
       "output_type": "pyout",
       "prompt_number": 14,
       "text": [
        "<matplotlib.legend.Legend at 0x7f833b4d5550>"
       ]
      },
      {
       "metadata": {},
       "output_type": "display_data",
       "png": "[encoded data removed]",
       "text": [
        "<matplotlib.figure.Figure at 0x7f833b0da4d0>"
       ]
      }
     ],
     "prompt_number": 14
    },
    {
     "cell_type": "markdown",
     "metadata": {},
     "source": [
      "**Confirm that total in indeed a spectral shape, i.e. $\\int F_\\lambda d\\lambda \\equiv 1$**"
     ]
    },
    {
     "cell_type": "code",
     "collapsed": false,
     "input": [
      "from scipy.integrate import trapz\n",
      "trapz(total_shape/wave,wave)"
     ],
     "language": "python",
     "metadata": {},
     "outputs": [
      {
       "metadata": {},
       "output_type": "pyout",
       "prompt_number": 15,
       "text": [
        "0.99997231607272996"
       ]
      }
     ],
     "prompt_number": 15
    },
    {
     "cell_type": "markdown",
     "metadata": {},
     "source": [
      "**Close enough!**"
     ]
    },
    {
     "cell_type": "markdown",
     "metadata": {},
     "source": [
      "**Close the hdf5 file before exiting Ipython with `Ctrl+D`**"
     ]
    },
    {
     "cell_type": "code",
     "collapsed": false,
     "input": [
      "h.close()"
     ],
     "language": "python",
     "metadata": {},
     "outputs": [],
     "prompt_number": 16
    }
   ],
   "metadata": {}
  }
 ]
}