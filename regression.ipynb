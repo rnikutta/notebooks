{
 "metadata": {
  "name": ""
 },
 "nbformat": 3,
 "nbformat_minor": 0,
 "worksheets": [
  {
   "cells": [
    {
     "cell_type": "code",
     "collapsed": false,
     "input": [
      "import unification\n",
      "import numpy as N\n",
      "N.seterr(over='ignore')\n",
      "import pylab as p\n",
      "import matplotlib\n",
      "%matplotlib inline"
     ],
     "language": "python",
     "metadata": {},
     "outputs": [],
     "prompt_number": 1
    },
    {
     "cell_type": "heading",
     "level": 1,
     "metadata": {},
     "source": [
      "The observed data"
     ]
    },
    {
     "cell_type": "markdown",
     "metadata": {},
     "source": [
      "Load the data"
     ]
    },
    {
     "cell_type": "code",
     "collapsed": false,
     "input": [
      "def load_raw_data(fi,usecols=(12,16,20,24, 7),skiprows=148):  # W1, W2, W3, W4, b\n",
      "\n",
      "    converters = dict(zip(usecols,[converter]*len(usecols)))\n",
      "    res = N.loadtxt(fi,unpack=0,usecols=usecols,skiprows=skiprows,converters=converters)\n",
      "    flag = -12345\n",
      "    co = (res[:,0] != flag) & (res[:,1] != flag) & (res[:,2] != flag) & (res[:,3] != flag) & (res[:,4] != flag)\n",
      "    res = res[co,:]\n",
      "\n",
      "    return res\n",
      "\n",
      "\n",
      "def converter(a):\n",
      "\n",
      "    try:\n",
      "        res = float(a)\n",
      "    except:\n",
      "        res = -12345.\n",
      "\n",
      "    return res\n",
      "\n",
      "\n",
      "def prepare_data():\n",
      "    data = load_raw_data('/fast/robert/data/wise/t1t2regions__0.8_w12_3.0__2.0_w23_6.0__5sig_limits_w123__wise_allsky_4band_p3as_psd2605__20130627.tbl')\n",
      "    w1, w2, w3, w4, b = data[:,0], data[:,1], data[:,2], data[:,3], data[:,4]\n",
      "    \n",
      "    blim = 10.\n",
      "    w1_brightlim = 8.1\n",
      "    five_sigma = (16.83,15.60,11.32,8.0)  # 5-sigma sensitivity limits per band\n",
      "    co = (N.abs(b) > blim) & (w1 > w1_brightlim) &\\\n",
      "         (w1 < five_sigma[0]) & (w2 < five_sigma[1]) & (w3 < five_sigma[2]) #& (w4 < five_sigma[3])\n",
      "    w1 = w1[co][:]\n",
      "    w2 = w2[co][:]\n",
      "    w3 = w3[co][:]\n",
      "    w4 = w4[co][:]\n",
      "\n",
      "    x = w2-w3\n",
      "    y = w1-w2\n",
      "    \n",
      "    return x,y\n",
      "\n",
      "\n",
      "def plot_data(x,y,xmin=2,xmax=6,ymin=0.8,ymax=3,dsx=0.02,dsy=0.02,image=True,numbers=False,fmt=\"%d\",grid=False):\n",
      "\n",
      "    # limit x & y ranges for this example\n",
      "    co = (x>=xmin) & (x<=xmax) & (y>=ymin) & (y<=ymax)\n",
      "    x = x[co]\n",
      "    y = y[co]\n",
      "    \n",
      "    xbins,ybins,xcoords,ycoords = geometry(xmin,xmax,ymin,ymax,dsx,dsy)\n",
      "    bins = (xbins.size-1,ybins.size-1)\n",
      "    \n",
      "    H,xbins,ybins = N.histogram2d(x,y,bins=bins)\n",
      "    showdata = H\n",
      "    extent = (xmin,xmax,ymin,ymax)\n",
      "\n",
      "    if image == False:\n",
      "        showdata = N.zeros(showdata.shape)\n",
      "    \n",
      "    p.imshow(showdata.T,extent=extent,origin='lower',cmap=matplotlib.cm.Greys,interpolation='none',aspect='auto')  # ,vmin=0.2*showdata.max(),vmax=showdata.max()\n",
      "       \n",
      "    if grid == True:\n",
      "        p.xticks(xbins)\n",
      "        p.yticks(ybins)\n",
      "        p.grid()\n",
      "    \n",
      "    if numbers == True:\n",
      "        for i in xrange(xcoords.size):\n",
      "            for j in xrange(ycoords.size):\n",
      "                p.text(xcoords[i],ycoords[j],fmt % H[i,j],ha='center',va='center',fontsize=9)\n",
      "    \n",
      "    p.xlabel('W2 - W3 (mag)')\n",
      "    p.ylabel('W1 - W2 (mag)')\n",
      "\n",
      "    \n",
      "def geometry(xmin,xmax,ymin,ymax,dsx,dsy):\n",
      "    # grid boundary lines\n",
      "    eps = min(dsx,dsy)/2.\n",
      "    xbins = N.arange(xmin,xmax+eps,dsx)\n",
      "    ybins = N.arange(ymin,ymax+eps,dsy)\n",
      "\n",
      "    # pixel centers\n",
      "    xcoords = 0.5*(xbins[0:-1] + xbins[1:])\n",
      "    ycoords = 0.5*(ybins[0:-1] + ybins[1:])\n",
      "    \n",
      "    return xbins,ybins,xcoords,ycoords"
     ],
     "language": "python",
     "metadata": {},
     "outputs": [],
     "prompt_number": 2
    },
    {
     "cell_type": "markdown",
     "metadata": {},
     "source": [
      "Show the data"
     ]
    },
    {
     "cell_type": "code",
     "collapsed": false,
     "input": [
      "x,y = prepare_data()\n",
      "plot_data(x,y)"
     ],
     "language": "python",
     "metadata": {},
     "outputs": [
      {
       "metadata": {},
       "output_type": "display_data",
       "png": "[encoded data removed]",
       "text": [
        "<matplotlib.figure.Figure at 0x7fe0c0924050>"
       ]
      }
     ],
     "prompt_number": 3
    },
    {
     "cell_type": "markdown",
     "metadata": {},
     "source": [
      "Zoom in, coarser gridding"
     ]
    },
    {
     "cell_type": "code",
     "collapsed": false,
     "input": [
      "plot_data(x,y,xmin=3,xmax=5,ymin=0.8,ymax=1.4,dsx=0.2,dsy=0.1)"
     ],
     "language": "python",
     "metadata": {},
     "outputs": [
      {
       "metadata": {},
       "output_type": "display_data",
       "png": "[encoded data removed]",
       "text": [
        "<matplotlib.figure.Figure at 0x7fe0c01b3f50>"
       ]
      }
     ],
     "prompt_number": 4
    },
    {
     "cell_type": "markdown",
     "metadata": {},
     "source": [
      "Data is a matrix with number counts as entries (how many sources in each cell?)"
     ]
    },
    {
     "cell_type": "code",
     "collapsed": false,
     "input": [
      "plot_data(x,y,xmin=3,xmax=5,ymin=0.8,ymax=1.4,dsx=0.2,dsy=0.1,numbers=True,image=False,grid=True)"
     ],
     "language": "python",
     "metadata": {},
     "outputs": [
      {
       "metadata": {},
       "output_type": "display_data",
       "png": "[encoded data removed]",
       "text": [
        "<matplotlib.figure.Figure at 0x7fe0c01a92d0>"
       ]
      }
     ],
     "prompt_number": 5
    },
    {
     "cell_type": "heading",
     "level": 1,
     "metadata": {},
     "source": [
      "Now the CLUMPY models"
     ]
    },
    {
     "cell_type": "code",
     "collapsed": false,
     "input": [
      "inband_fluxes, theta = unification.get_clumpy_wise()\n",
      "U = unification.Unification(inband_fluxes,theta,order=1)"
     ],
     "language": "python",
     "metadata": {},
     "outputs": [],
     "prompt_number": 6
    },
    {
     "cell_type": "code",
     "collapsed": false,
     "input": [
      "# grid boundary lines\n",
      "xbins = N.arange(3,5.01,0.2)\n",
      "ybins = N.arange(0.8,1.5,0.1)\n",
      "\n",
      "# pixel centers\n",
      "xcoords = 0.5*(xbins[0:-1] + xbins[1:])\n",
      "ycoords = 0.5*(ybins[0:-1] + ybins[1:])\n",
      "\n",
      "def plot(image,track=None,numbers=False,fmt=\"%d\"):\n",
      "    aspect = (xbins[-1]-xbins[0]) / (ybins[-1]-ybins[0])\n",
      "    if image.ndim == 1:\n",
      "        extent = (1,image.size+1,0,1)\n",
      "        xcoords = N.array(range(image.size))+1.5\n",
      "        ycoords = N.array((0.5,))\n",
      "        im = p.imshow(N.atleast_2d(image),origin='lower',extent=extent,cmap=matplotlib.cm.gray_r,interpolation='none',aspect=1.,alpha=0.2)\n",
      "        p.xlim(1,image.size+1)\n",
      "        p.ylim(0,1)\n",
      "        p.xticks(N.arange(1,image.size+1))\n",
      "        p.yticks((0,1))\n",
      "        p.xlabel('pixel number')\n",
      "    elif image.ndim == 2:\n",
      "        extent = (xbins[0],xbins[-1],ybins[0],ybins[-1])\n",
      "        xcoords = 0.5*(xbins[0:-1] + xbins[1:])\n",
      "        ycoords = 0.5*(ybins[0:-1] + ybins[1:])\n",
      "        p.imshow(image.T,origin='lower',extent=extent,cmap=matplotlib.cm.gray_r,interpolation='none',aspect=aspect,alpha=0.2)\n",
      "        p.xlim(xbins[0],xbins[-1])\n",
      "        p.xticks(xbins)\n",
      "        p.yticks(ybins)\n",
      "        p.xlabel('W23')\n",
      "        p.ylabel('W12')\n",
      "\n",
      "    if track is not None:\n",
      "        x, y = track\n",
      "        p.plot(x,y,'bo-',lw=2)\n",
      "    \n",
      "    if numbers == True:\n",
      "        for i in xrange(xcoords.size):\n",
      "            for j in xrange(ycoords.size):\n",
      "                if image.ndim == 2:\n",
      "                    p.text(xcoords[i],ycoords[j],fmt % image[i,j],ha='center',va='center')\n",
      "                elif image.ndim == 1:\n",
      "                    p.text(xcoords[i],ycoords[j],fmt % image[i],ha='center',va='center')\n",
      "                \n",
      "                    \n",
      "    p.grid()\n"
     ],
     "language": "python",
     "metadata": {},
     "outputs": [],
     "prompt_number": 10
    },
    {
     "cell_type": "markdown",
     "metadata": {},
     "source": [
      "Get the $\\cos(i)$ color track of a particular model with given $\\vec\\theta=(\\tau_V,q,N_0,\\sigma,Y)$"
     ]
    },
    {
     "cell_type": "code",
     "collapsed": false,
     "input": [
      "theta5 = [200,2.5,9,20,90]  # example model track\n",
      "cosi = N.linspace(0,1,10)   # some cos(i) sampling\n",
      "\n",
      "# WISE in-band filter fluxes\n",
      "ff = [U.filterfluxes(theta5,c) for c in cosi]\n",
      "\n",
      "# WISE colors\n",
      "w12 = [U.magnitudes(ff[j][1],ff[j][0]) for j in range(len(ff))]\n",
      "w23 = [U.magnitudes(ff[j][2],ff[j][1]) for j in range(len(ff))]"
     ],
     "language": "python",
     "metadata": {},
     "outputs": [],
     "prompt_number": 11
    },
    {
     "cell_type": "markdown",
     "metadata": {},
     "source": [
      "Show the color-color track. This is **one model**."
     ]
    },
    {
     "cell_type": "code",
     "collapsed": false,
     "input": [
      "mask_orig = N.zeros((xcoords.size,ycoords.size)) # empty grid of cells\n",
      "plot(mask_orig,track=(w23,w12))"
     ],
     "language": "python",
     "metadata": {},
     "outputs": [
      {
       "metadata": {},
       "output_type": "display_data",
       "png": "[encoded data removed]",
       "text": [
        "<matplotlib.figure.Figure at 0x7fe0c01abc90>"
       ]
      }
     ],
     "prompt_number": 12
    },
    {
     "cell_type": "markdown",
     "metadata": {},
     "source": [
      "Identify the cells intercepted by the track. <span style=\"color:red\">Here we do it manually, but I'm implementing (either) the DDA algorithm, or modified (4-connected) Bresenham algorithm, or the Fast Voxel Traversal Algorithm by Amanatides & Woo, to find these cells automatically.</span>"
     ]
    },
    {
     "cell_type": "code",
     "collapsed": false,
     "input": [
      "mask1 = mask_orig.copy()\n",
      "fill = [(4,5),(4,4),(3,4),(3,3),(3,2),(2,2),(4,2),(5,2),(5,3),(6,3),(7,3),(7,4)]\n",
      "for (i,j) in fill:\n",
      "    mask1[i,j] = 1"
     ],
     "language": "python",
     "metadata": {},
     "outputs": []
    },
    {
     "cell_type": "markdown",
     "metadata": {},
     "source": [
      "Show occupied cells and the track. This model will only contribute to the occupied cells."
     ]
    },
    {
     "cell_type": "code",
     "collapsed": false,
     "input": [
      "plot(mask1,track=(w23,w12),numbers=False)"
     ],
     "language": "python",
     "metadata": {},
     "outputs": []
    },
    {
     "cell_type": "markdown",
     "metadata": {},
     "source": [
      "Assign \"counts\", or a weight, to the intercepted cells. The entire track gets the same weight (here 1.)"
     ]
    },
    {
     "cell_type": "code",
     "collapsed": false,
     "input": [
      "plot(mask1,track=(w23,w12),numbers=True)"
     ],
     "language": "python",
     "metadata": {},
     "outputs": []
    },
    {
     "cell_type": "markdown",
     "metadata": {},
     "source": [
      "The \"model\" becomes a simple hit / no-hit matrix (or cube in 3-D). The model is a 2d (3d) structure."
     ]
    },
    {
     "cell_type": "code",
     "collapsed": false,
     "input": [
      "plot(mask1,numbers=True)"
     ],
     "language": "python",
     "metadata": {},
     "outputs": []
    },
    {
     "cell_type": "markdown",
     "metadata": {},
     "source": [
      "Because individual pixels are independent, their order or structure does not matter (BTW: same for the data counts per pixel above)"
     ]
    },
    {
     "cell_type": "code",
     "collapsed": false,
     "input": [
      "fig = p.figure(figsize=(20,1))\n",
      "plot(mask1.ravel(order='F'),numbers=True)"
     ],
     "language": "python",
     "metadata": {},
     "outputs": []
    },
    {
     "cell_type": "markdown",
     "metadata": {},
     "source": [
      "A different model (different parameters $\\vec\\theta$)"
     ]
    },
    {
     "cell_type": "code",
     "collapsed": false,
     "input": [
      "theta5 = [150,2,7,30,80]  # another model track\n",
      "\n",
      "# WISE in-band filter fluxes\n",
      "ff = [U.filterfluxes(theta5,c) for c in cosi]\n",
      "\n",
      "# WISE colors\n",
      "w12 = [U.magnitudes(ff[j][1],ff[j][0]) for j in range(len(ff))]\n",
      "w23 = [U.magnitudes(ff[j][2],ff[j][1]) for j in range(len(ff))]\n",
      "\n",
      "# fill\n",
      "mask2 = mask_orig.copy()\n",
      "fill = [(4,4),(3,4),(3,3),(3,2),(4,3),(5,3),(6,3),(6,4),(7,4),(7,5)]\n",
      "for (i,j) in fill:\n",
      "    mask2[i,j] = 1\n",
      "\n",
      "plot(mask2,track=(w23,w12),numbers=True)\n",
      "fig = p.figure(figsize=(20,1))\n",
      "plot(mask2.ravel(order='F'),numbers=True)"
     ],
     "language": "python",
     "metadata": {},
     "outputs": []
    },
    {
     "cell_type": "markdown",
     "metadata": {},
     "source": [
      "Linear combination of two models, with unit weights:\n",
      "\n",
      "$$total = M_1 + M_2$$"
     ]
    },
    {
     "cell_type": "code",
     "collapsed": false,
     "input": [
      "plot(mask1+mask2,numbers=True)\n",
      "fig = p.figure(figsize=(20,1))\n",
      "plot((mask1+mask2).ravel(order='F'),numbers=True)"
     ],
     "language": "python",
     "metadata": {},
     "outputs": []
    },
    {
     "cell_type": "markdown",
     "metadata": {},
     "source": [
      "Linear combination with non-unit weights\n",
      "\n",
      "$$total = w_1 * M_1 + w_2 * M_2$$"
     ]
    },
    {
     "cell_type": "code",
     "collapsed": false,
     "input": [
      "weights = (0.8,0.4)\n",
      "masks = (mask1,mask2)\n",
      "linear_combination = N.sum([weights[j]*masks[j] for j in xrange(len(weights))],axis=0)\n",
      "\n",
      "plot(linear_combination,numbers=True,fmt=\"%.1f\")\n",
      "fig = p.figure(figsize=(20,1))\n",
      "plot(linear_combination.ravel(order='F'),numbers=True,fmt=\"%.1f\")"
     ],
     "language": "python",
     "metadata": {},
     "outputs": []
    },
    {
     "cell_type": "heading",
     "level": 1,
     "metadata": {},
     "source": [
      "Linear regression"
     ]
    },
    {
     "cell_type": "markdown",
     "metadata": {},
     "source": [
      "Goal: find the weights ${\\bf w} = (w_1\\ w_2\\ \\ldots\\ w_{N_{\\rm mod}})^T$ for linear combination of **all** models in DB such that data counts per pixel are matched. See Chapter 8 in \u017deljko's book.\n",
      "\n",
      "Fit this:\n",
      "\n",
      "$$D_k = \\sum_m w_m \\cdot M_k^m$$\n",
      "\n",
      "with $D_k$ data counts in pixel $k$ ($k \\in [0,N_{\\rm pix}]$), $M_k$ model counts in pixel $k$, and $m$ runs over all models ($m \\in [0,N_{\\rm mod}]$. Simpler notation:\n",
      "\n",
      "$$D = M \\bf{w}$$\n",
      "\n",
      "with D the data vector (data counts per pixel)\n",
      "\n",
      "$$\n",
      "D = \\left(\\matrix{\n",
      "    D_0\\\\\n",
      "    D_1\\\\\n",
      "    \\cdot\\\\\n",
      "    D_{N_{\\rm pix}}}\n",
      "    \\right),\n",
      "$$\n",
      "\n",
      "M the \"design matrix\"\n",
      "\n",
      "$$M = \\left(\\matrix{1     & x_{01} & x_{02} & \\cdot & x_{0N_{\\rm mod}}\\\\\n",
      "                    1     & x_{11} & x_{12} & \\cdot & x_{1N_{\\rm mod}}\\\\\n",
      "                    \\cdot & \\cdot  & \\cdot  & \\cdot & \\cdot\\\\\n",
      "                    1     & x_{N_{\\rm pix}1} & x_{N_{\\rm pix}2} & \\cdot & x_{N_{\\rm pix}N_{\\rm mod}}}\n",
      "      \\right),\n",
      "      $$\n",
      "\n",
      "and $\\bf w$ vector of regression parameters (weigths).\n",
      "\n",
      "<span style=\"color:red\">**_Discuss: do we need the first column of ones? (vertical shift of the fitted hyperplane)_**</span>\n",
      "\n",
      "Define also a covariance matrix\n",
      "\n",
      "$$C = \\left(\\matrix{\n",
      "      \\sigma_0^2 & 0          & \\cdot & 0\\\\\n",
      "      0          & \\sigma_1^2 & \\cdot & 0\\\\\n",
      "      \\cdot      & \\cdot      & \\cdot & \\cdot\\\\\n",
      "      0          & 0          & 0     & \\sigma_{N_{\\rm pix}}^2\n",
      "    }\\right).$$\n",
      "    \n",
      "<span style=\"color:red\">**_Discuss: what to use as variances? Identity matrix? Or maybe $\\sqrt{D_k}$ in each cell?_**</span>\n",
      "\n",
      "<span style=\"color:red\">**_Discuss: Is $C$ of shape $N_{\\rm pix} \\times N_{\\rm pix}$ or $N_{\\rm pix}-1 \\times N_{\\rm pix}-1$?_**</span>\n",
      "\n",
      "Then, linear regression for multivariate datasets yields the maximum-likelihood solution for $\\bf w$\n",
      "\n",
      "$${\\bf w} = (M^T C^{-1} M)^{-1} (M^T C^{-1} D)$$\n",
      "\n",
      "The variances of the weights $\\vec w$ are\n",
      "\n",
      "$$\\Sigma_{{\\bf w}} = \\left[ M^T C^{-1} M \\right]^{-1}$$\n",
      "\n",
      "One the weights are found, we can produce **weighted** histograms of all CLUMPY model parameters, simply by assigning to each model it's derived weight when constructing the histograms (in the std. case all counts contribute to a histogram with the same weight = 1)."
     ]
    },
    {
     "cell_type": "heading",
     "level": 1,
     "metadata": {},
     "source": [
      "Regularization"
     ]
    },
    {
     "cell_type": "markdown",
     "metadata": {},
     "source": [
      "We will need to use regularization, because otherwise the weights may grow very large. **Lasso regression** is probably the most promising candidate (see Section 8.3.2 in \u017deljko's book)."
     ]
    }
   ],
   "metadata": {}
  }
 ]
}